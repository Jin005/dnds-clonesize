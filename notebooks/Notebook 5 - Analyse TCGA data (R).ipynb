{
 "cells": [
  {
   "cell_type": "code",
   "execution_count": 1,
   "metadata": {},
   "outputs": [
    {
     "name": "stderr",
     "output_type": "stream",
     "text": [
      "── Attaching packages ─────────────────────────────────────── tidyverse 1.2.1 ──\n",
      "✔ ggplot2 3.1.0     ✔ purrr   0.2.5\n",
      "✔ tibble  1.4.2     ✔ dplyr   0.7.7\n",
      "✔ tidyr   0.8.2     ✔ stringr 1.3.1\n",
      "✔ readr   1.1.1     ✔ forcats 0.3.0\n",
      "── Conflicts ────────────────────────────────────────── tidyverse_conflicts() ──\n",
      "✖ dplyr::filter() masks stats::filter()\n",
      "✖ dplyr::lag()    masks stats::lag()\n",
      "✖ dplyr::select() masks MASS::select()\n",
      "Warning message:\n",
      "“replacing previous import ‘Biostrings::translate’ by ‘seqinr::translate’ when loading ‘dndscv’”Loading required package: stats4\n",
      "Loading required package: BiocGenerics\n",
      "Loading required package: parallel\n",
      "\n",
      "Attaching package: ‘BiocGenerics’\n",
      "\n",
      "The following objects are masked from ‘package:parallel’:\n",
      "\n",
      "    clusterApply, clusterApplyLB, clusterCall, clusterEvalQ,\n",
      "    clusterExport, clusterMap, parApply, parCapply, parLapply,\n",
      "    parLapplyLB, parRapply, parSapply, parSapplyLB\n",
      "\n",
      "The following objects are masked from ‘package:dplyr’:\n",
      "\n",
      "    combine, intersect, setdiff, union\n",
      "\n",
      "The following objects are masked from ‘package:stats’:\n",
      "\n",
      "    IQR, mad, sd, var, xtabs\n",
      "\n",
      "The following objects are masked from ‘package:base’:\n",
      "\n",
      "    anyDuplicated, append, as.data.frame, basename, cbind, colMeans,\n",
      "    colnames, colSums, dirname, do.call, duplicated, eval, evalq,\n",
      "    Filter, Find, get, grep, grepl, intersect, is.unsorted, lapply,\n",
      "    lengths, Map, mapply, match, mget, order, paste, pmax, pmax.int,\n",
      "    pmin, pmin.int, Position, rank, rbind, Reduce, rowMeans, rownames,\n",
      "    rowSums, sapply, setdiff, sort, table, tapply, union, unique,\n",
      "    unsplit, which, which.max, which.min\n",
      "\n",
      "Loading required package: S4Vectors\n",
      "\n",
      "Attaching package: ‘S4Vectors’\n",
      "\n",
      "The following objects are masked from ‘package:dplyr’:\n",
      "\n",
      "    first, rename\n",
      "\n",
      "The following object is masked from ‘package:tidyr’:\n",
      "\n",
      "    expand\n",
      "\n",
      "The following object is masked from ‘package:base’:\n",
      "\n",
      "    expand.grid\n",
      "\n",
      "Loading required package: IRanges\n",
      "\n",
      "Attaching package: ‘IRanges’\n",
      "\n",
      "The following objects are masked from ‘package:dplyr’:\n",
      "\n",
      "    collapse, desc, slice\n",
      "\n",
      "The following object is masked from ‘package:purrr’:\n",
      "\n",
      "    reduce\n",
      "\n",
      "Loading required package: GenomeInfoDb\n",
      "\n",
      "Attaching package: ‘cowplot’\n",
      "\n",
      "The following object is masked from ‘package:ggplot2’:\n",
      "\n",
      "    ggsave\n",
      "\n",
      "\n",
      "Attaching package: ‘ggthemes’\n",
      "\n",
      "The following object is masked from ‘package:cowplot’:\n",
      "\n",
      "    theme_map\n",
      "\n",
      "Loading required package: viridisLite\n",
      "Loading required package: lattice\n",
      "Loading required package: survival\n",
      "Loading required package: Formula\n",
      "\n",
      "Attaching package: ‘Hmisc’\n",
      "\n",
      "The following objects are masked from ‘package:dplyr’:\n",
      "\n",
      "    src, summarize\n",
      "\n",
      "The following objects are masked from ‘package:base’:\n",
      "\n",
      "    format.pval, units\n",
      "\n"
     ]
    }
   ],
   "source": [
    "#load required libraries\n",
    "library(MASS)\n",
    "library(tidyverse)\n",
    "library(dndscv)\n",
    "library(GenomicRanges)\n",
    "library(cowplot)\n",
    "library(ggthemes)\n",
    "library(broom)\n",
    "library(viridis)\n",
    "library(Hmisc)\n",
    "library(jcolors)"
   ]
  },
  {
   "cell_type": "markdown",
   "metadata": {},
   "source": [
    "In this notebook I'll use the TCGA combined MAF/CNV files to calculate $dN/dS$ ratios for different mutation clonalities and to also calculate interval $dN/dS$."
   ]
  },
  {
   "cell_type": "markdown",
   "metadata": {},
   "source": [
    "### 1 Read in data"
   ]
  },
  {
   "cell_type": "code",
   "execution_count": 2,
   "metadata": {},
   "outputs": [
    {
     "name": "stderr",
     "output_type": "stream",
     "text": [
      "Parsed with column specification:\n",
      "cols(\n",
      "  .default = col_integer(),\n",
      "  sampleid = col_character(),\n",
      "  chr = col_character(),\n",
      "  Reference_Allele = col_character(),\n",
      "  Tumor_Seq_Allele2 = col_character(),\n",
      "  VAF = col_double(),\n",
      "  cancertype = col_character(),\n",
      "  mutation_type = col_character(),\n",
      "  Cancer_Type_Code = col_character(),\n",
      "  cellularity = col_double(),\n",
      "  ploidy = col_double(),\n",
      "  Segment_Mean = col_double(),\n",
      "  CN = col_double(),\n",
      "  CNcorrected = col_double(),\n",
      "  MCN = col_double()\n",
      ")\n",
      "See spec(...) for full column specifications.\n"
     ]
    }
   ],
   "source": [
    "df <- read_csv(\"data/TCGA-combined-hg38-2.csv\");\n",
    "\n",
    "#read in list of drivers\n",
    "drivers <- read.table(\"data/genelists/Driver_gene_list_198_Science_Review.txt\",\n",
    "                      header = FALSE) %>%\n",
    "    filter(V1 != \"FAM46C\") #this gene is not compatible with dndscv\n",
    "\n",
    "cellessential <- read.csv(\"data/genelists/blomen_essential.csv\", header = T) %>%  #cell essential genes from Blomen et al\n",
    "    filter(!(V1 %in% drivers$V1)) %>%\n",
    "    filter(!(V1 %in% Cs(PET112, IKBKAP, UQCC, SLMO2, SLMO2, ATP5B, PPP2R4, \n",
    "                      TOMM70A, ATP5C1, WIBG, C9orf114, C9orf114, ATP5A1, \n",
    "                      WBSCR22, ATP5O, SHFM1, GTPBP5, GNB2L1, TOMM70A, SRPR, \n",
    "                      CIRH1A, NHP2L1, NUPL1, UFD1L, ZNF259, FAM96B, DIEXF, \n",
    "                      SKIV2L2, CCDC94, UTP11L, MKI67IP, NARFL, GLTSCR2, FDX1L))) #genes not compatible with dndscv\n",
    "\n",
    "randomgenes <- read.table(\"data/genelists/refcdsgenes.txt\", header = TRUE) %>%\n",
    "    filter(!V1 %in% cellessential$V1, !V1 %in% drivers$V1) %>%\n",
    "    sample_n(1000)\n",
    "\n",
    "dfunfilt <- df\n",
    "\n",
    "df <- df %>%\n",
    "    mutate(VAFcorr = VAF/cellularity) %>%\n",
    "    mutate(absCNcorrected = ifelse(absCNcorrected > 5, 5, absCNcorrected)) %>%\n",
    "    filter(ploidy < 2.5) %>% #remove WGD samples where MCN is likely to be incorrect\n",
    "    filter(!is.na(cellularity)) %>% #remove samples with no cellularity estimate\n",
    "    #filter(cellularity < 1.0) %>% #remove samples cellularity estimate = 1 as this is likely incorrect\n",
    "    filter(mutation_type == \"SNV\") %>% #only include SNVs\n",
    "    group_by(sampleid) %>%\n",
    "    mutate(sampledepth = mean(t_depth)) %>%\n",
    "    ungroup() %>%\n",
    "    mutate(cancertype = ifelse(cancertype == \"READ\", \"COAD\", cancertype)) %>% #combine COAD and READ\n",
    "    group_by(sampleid) %>%\n",
    "    mutate(effectivedepth = cellularity * sampledepth) %>%\n",
    "    mutate(meaneffdepth = mean(effectivedepth),\n",
    "          subclonalcutoff = 1.0 - (3 * (sqrt(1/meaneffdepth)))) %>%\n",
    "    ungroup() %>%\n",
    "    mutate(clonality = case_when(\n",
    "                    MCN < 0.5 ~ \"Subclonal\",\n",
    "                    MCN > 0.5 & MCN < 1.5 ~ \"Clonal\",\n",
    "                    MCN > 1.5 ~ \"Amplified\"))"
   ]
  },
  {
   "cell_type": "code",
   "execution_count": 52,
   "metadata": {},
   "outputs": [
    {
     "data": {
      "text/html": [
       "<table>\n",
       "<thead><tr><th scope=col>cancertype</th><th scope=col>n</th></tr></thead>\n",
       "<tbody>\n",
       "\t<tr><td>ACC </td><td> 22 </td></tr>\n",
       "\t<tr><td>BLCA</td><td> 52 </td></tr>\n",
       "\t<tr><td>BRCA</td><td>270 </td></tr>\n",
       "\t<tr><td>CESC</td><td> 24 </td></tr>\n",
       "\t<tr><td>COAD</td><td>200 </td></tr>\n",
       "\t<tr><td>DLBC</td><td>  9 </td></tr>\n",
       "\t<tr><td>GBM </td><td>253 </td></tr>\n",
       "\t<tr><td>HNSC</td><td>103 </td></tr>\n",
       "\t<tr><td>KICH</td><td> 31 </td></tr>\n",
       "\t<tr><td>KIRC</td><td>186 </td></tr>\n",
       "\t<tr><td>LAML</td><td> 51 </td></tr>\n",
       "\t<tr><td>LGG </td><td>189 </td></tr>\n",
       "\t<tr><td>LIHC</td><td> 82 </td></tr>\n",
       "\t<tr><td>LUAD</td><td> 98 </td></tr>\n",
       "\t<tr><td>LUSC</td><td>104 </td></tr>\n",
       "\t<tr><td>OV  </td><td>153 </td></tr>\n",
       "\t<tr><td>PAAD</td><td> 59 </td></tr>\n",
       "\t<tr><td>PRAD</td><td>136 </td></tr>\n",
       "\t<tr><td>SARC</td><td> 22 </td></tr>\n",
       "\t<tr><td>SKCM</td><td>122 </td></tr>\n",
       "\t<tr><td>STAD</td><td> 93 </td></tr>\n",
       "\t<tr><td>THCA</td><td>161 </td></tr>\n",
       "\t<tr><td>UCEC</td><td>191 </td></tr>\n",
       "\t<tr><td>UCS </td><td>  9 </td></tr>\n",
       "</tbody>\n",
       "</table>\n"
      ],
      "text/latex": [
       "\\begin{tabular}{r|ll}\n",
       " cancertype & n\\\\\n",
       "\\hline\n",
       "\t ACC  &  22 \\\\\n",
       "\t BLCA &  52 \\\\\n",
       "\t BRCA & 270 \\\\\n",
       "\t CESC &  24 \\\\\n",
       "\t COAD & 200 \\\\\n",
       "\t DLBC &   9 \\\\\n",
       "\t GBM  & 253 \\\\\n",
       "\t HNSC & 103 \\\\\n",
       "\t KICH &  31 \\\\\n",
       "\t KIRC & 186 \\\\\n",
       "\t LAML &  51 \\\\\n",
       "\t LGG  & 189 \\\\\n",
       "\t LIHC &  82 \\\\\n",
       "\t LUAD &  98 \\\\\n",
       "\t LUSC & 104 \\\\\n",
       "\t OV   & 153 \\\\\n",
       "\t PAAD &  59 \\\\\n",
       "\t PRAD & 136 \\\\\n",
       "\t SARC &  22 \\\\\n",
       "\t SKCM & 122 \\\\\n",
       "\t STAD &  93 \\\\\n",
       "\t THCA & 161 \\\\\n",
       "\t UCEC & 191 \\\\\n",
       "\t UCS  &   9 \\\\\n",
       "\\end{tabular}\n"
      ],
      "text/markdown": [
       "\n",
       "cancertype | n | \n",
       "|---|---|---|---|---|---|---|---|---|---|---|---|---|---|---|---|---|---|---|---|---|---|---|---|\n",
       "| ACC  |  22  | \n",
       "| BLCA |  52  | \n",
       "| BRCA | 270  | \n",
       "| CESC |  24  | \n",
       "| COAD | 200  | \n",
       "| DLBC |   9  | \n",
       "| GBM  | 253  | \n",
       "| HNSC | 103  | \n",
       "| KICH |  31  | \n",
       "| KIRC | 186  | \n",
       "| LAML |  51  | \n",
       "| LGG  | 189  | \n",
       "| LIHC |  82  | \n",
       "| LUAD |  98  | \n",
       "| LUSC | 104  | \n",
       "| OV   | 153  | \n",
       "| PAAD |  59  | \n",
       "| PRAD | 136  | \n",
       "| SARC |  22  | \n",
       "| SKCM | 122  | \n",
       "| STAD |  93  | \n",
       "| THCA | 161  | \n",
       "| UCEC | 191  | \n",
       "| UCS  |   9  | \n",
       "\n",
       "\n"
      ],
      "text/plain": [
       "   cancertype n  \n",
       "1  ACC         22\n",
       "2  BLCA        52\n",
       "3  BRCA       270\n",
       "4  CESC        24\n",
       "5  COAD       200\n",
       "6  DLBC         9\n",
       "7  GBM        253\n",
       "8  HNSC       103\n",
       "9  KICH        31\n",
       "10 KIRC       186\n",
       "11 LAML        51\n",
       "12 LGG        189\n",
       "13 LIHC        82\n",
       "14 LUAD        98\n",
       "15 LUSC       104\n",
       "16 OV         153\n",
       "17 PAAD        59\n",
       "18 PRAD       136\n",
       "19 SARC        22\n",
       "20 SKCM       122\n",
       "21 STAD        93\n",
       "22 THCA       161\n",
       "23 UCEC       191\n",
       "24 UCS          9"
      ]
     },
     "metadata": {},
     "output_type": "display_data"
    }
   ],
   "source": [
    "# print out number of samples per cancer type\n",
    "df %>%\n",
    "    filter(effectivedepth > 50.0) %>%\n",
    "    distinct(sampleid, cancertype) %>%\n",
    "    group_by(cancertype) %>%\n",
    "    summarise(n = n()) "
   ]
  },
  {
   "cell_type": "code",
   "execution_count": 50,
   "metadata": {},
   "outputs": [
    {
     "data": {
      "text/html": [
       "<table>\n",
       "<thead><tr><th scope=col>cancertype</th><th scope=col>n</th></tr></thead>\n",
       "<tbody>\n",
       "\t<tr><td>ACC </td><td> 22 </td></tr>\n",
       "\t<tr><td>BLCA</td><td> 42 </td></tr>\n",
       "\t<tr><td>BRCA</td><td>243 </td></tr>\n",
       "\t<tr><td>CESC</td><td> 23 </td></tr>\n",
       "\t<tr><td>COAD</td><td>193 </td></tr>\n",
       "\t<tr><td>DLBC</td><td>  9 </td></tr>\n",
       "\t<tr><td>GBM </td><td>246 </td></tr>\n",
       "\t<tr><td>HNSC</td><td> 86 </td></tr>\n",
       "\t<tr><td>KICH</td><td> 30 </td></tr>\n",
       "\t<tr><td>KIRC</td><td>182 </td></tr>\n",
       "\t<tr><td>LAML</td><td> 35 </td></tr>\n",
       "\t<tr><td>LGG </td><td>184 </td></tr>\n",
       "\t<tr><td>LIHC</td><td> 77 </td></tr>\n",
       "\t<tr><td>LUAD</td><td> 79 </td></tr>\n",
       "\t<tr><td>LUSC</td><td> 92 </td></tr>\n",
       "\t<tr><td>OV  </td><td>153 </td></tr>\n",
       "\t<tr><td>PAAD</td><td> 41 </td></tr>\n",
       "\t<tr><td>PRAD</td><td>126 </td></tr>\n",
       "\t<tr><td>SARC</td><td> 17 </td></tr>\n",
       "\t<tr><td>SKCM</td><td>104 </td></tr>\n",
       "\t<tr><td>STAD</td><td> 76 </td></tr>\n",
       "\t<tr><td>THCA</td><td>115 </td></tr>\n",
       "\t<tr><td>UCEC</td><td>134 </td></tr>\n",
       "\t<tr><td>UCS </td><td>  8 </td></tr>\n",
       "</tbody>\n",
       "</table>\n"
      ],
      "text/latex": [
       "\\begin{tabular}{r|ll}\n",
       " cancertype & n\\\\\n",
       "\\hline\n",
       "\t ACC  &  22 \\\\\n",
       "\t BLCA &  42 \\\\\n",
       "\t BRCA & 243 \\\\\n",
       "\t CESC &  23 \\\\\n",
       "\t COAD & 193 \\\\\n",
       "\t DLBC &   9 \\\\\n",
       "\t GBM  & 246 \\\\\n",
       "\t HNSC &  86 \\\\\n",
       "\t KICH &  30 \\\\\n",
       "\t KIRC & 182 \\\\\n",
       "\t LAML &  35 \\\\\n",
       "\t LGG  & 184 \\\\\n",
       "\t LIHC &  77 \\\\\n",
       "\t LUAD &  79 \\\\\n",
       "\t LUSC &  92 \\\\\n",
       "\t OV   & 153 \\\\\n",
       "\t PAAD &  41 \\\\\n",
       "\t PRAD & 126 \\\\\n",
       "\t SARC &  17 \\\\\n",
       "\t SKCM & 104 \\\\\n",
       "\t STAD &  76 \\\\\n",
       "\t THCA & 115 \\\\\n",
       "\t UCEC & 134 \\\\\n",
       "\t UCS  &   8 \\\\\n",
       "\\end{tabular}\n"
      ],
      "text/markdown": [
       "\n",
       "cancertype | n | \n",
       "|---|---|---|---|---|---|---|---|---|---|---|---|---|---|---|---|---|---|---|---|---|---|---|---|\n",
       "| ACC  |  22  | \n",
       "| BLCA |  42  | \n",
       "| BRCA | 243  | \n",
       "| CESC |  23  | \n",
       "| COAD | 193  | \n",
       "| DLBC |   9  | \n",
       "| GBM  | 246  | \n",
       "| HNSC |  86  | \n",
       "| KICH |  30  | \n",
       "| KIRC | 182  | \n",
       "| LAML |  35  | \n",
       "| LGG  | 184  | \n",
       "| LIHC |  77  | \n",
       "| LUAD |  79  | \n",
       "| LUSC |  92  | \n",
       "| OV   | 153  | \n",
       "| PAAD |  41  | \n",
       "| PRAD | 126  | \n",
       "| SARC |  17  | \n",
       "| SKCM | 104  | \n",
       "| STAD |  76  | \n",
       "| THCA | 115  | \n",
       "| UCEC | 134  | \n",
       "| UCS  |   8  | \n",
       "\n",
       "\n"
      ],
      "text/plain": [
       "   cancertype n  \n",
       "1  ACC         22\n",
       "2  BLCA        42\n",
       "3  BRCA       243\n",
       "4  CESC        23\n",
       "5  COAD       193\n",
       "6  DLBC         9\n",
       "7  GBM        246\n",
       "8  HNSC        86\n",
       "9  KICH        30\n",
       "10 KIRC       182\n",
       "11 LAML        35\n",
       "12 LGG        184\n",
       "13 LIHC        77\n",
       "14 LUAD        79\n",
       "15 LUSC        92\n",
       "16 OV         153\n",
       "17 PAAD        41\n",
       "18 PRAD       126\n",
       "19 SARC        17\n",
       "20 SKCM       104\n",
       "21 STAD        76\n",
       "22 THCA       115\n",
       "23 UCEC       134\n",
       "24 UCS          8"
      ]
     },
     "metadata": {},
     "output_type": "display_data"
    }
   ],
   "source": [
    "# print out number of samples per cancer type\n",
    "df %>%\n",
    "    filter(effectivedepth > 50.0) %>%\n",
    "    distinct(sampleid, cancertype) %>%\n",
    "    group_by(cancertype) %>%\n",
    "    summarise(n = n()) "
   ]
  },
  {
   "cell_type": "markdown",
   "metadata": {},
   "source": [
    "### MCN (mutant copy number) plots across cancer types\n"
   ]
  },
  {
   "cell_type": "code",
   "execution_count": 59,
   "metadata": {},
   "outputs": [
    {
     "name": "stderr",
     "output_type": "stream",
     "text": [
      "Warning message:\n",
      "“Removed 12344 rows containing non-finite values (stat_bin).”Warning message:\n",
      "“Removed 6 rows containing missing values (geom_bar).”"
     ]
    },
    {
     "data": {},
     "metadata": {},
     "output_type": "display_data"
    },
    {
     "data": {
      "image/png": "[encoded data removed]",
      "text/plain": [
       "plot without title"
      ]
     },
     "metadata": {},
     "output_type": "display_data"
    }
   ],
   "source": [
    "df %>%\n",
    "    filter(effectivedepth > 50.0) %>%\n",
    "    na.omit() %>%\n",
    "    ggplot(aes(x = MCN, fill = clonality)) +\n",
    "    geom_histogram(bins = 100, position = \"identity\") +\n",
    "    geom_vline(xintercept = 1.0, lty = 2, col = \"firebrick\", alpha = 0.5) +\n",
    "    xlim(c(0, 2.5)) +\n",
    "    xlab(\"Mutation copy number\") + ylab(\"Counts\") +\n",
    "    scale_fill_jcolors(palette = \"pal9\")"
   ]
  },
  {
   "cell_type": "code",
   "execution_count": 61,
   "metadata": {},
   "outputs": [
    {
     "name": "stderr",
     "output_type": "stream",
     "text": [
      "Warning message:\n",
      "“Removed 12344 rows containing non-finite values (stat_bin).”Warning message:\n",
      "“Removed 144 rows containing missing values (geom_bar).”"
     ]
    },
    {
     "data": {},
     "metadata": {},
     "output_type": "display_data"
    },
    {
     "data": {
      "image/png": "[encoded data removed]",
      "text/plain": [
       "plot without title"
      ]
     },
     "metadata": {},
     "output_type": "display_data"
    }
   ],
   "source": [
    "df %>%\n",
    "    filter(effectivedepth > 50.0) %>%\n",
    "    na.omit() %>%\n",
    "    ggplot(aes(x = MCN, fill = clonality)) +\n",
    "    geom_histogram(bins = 100, alpha = 0.75, position = \"identity\") +\n",
    "    geom_vline(xintercept = 1.0, lty = 2, col = \"firebrick\", alpha = 0.5) +\n",
    "    xlim(c(0, 2.5)) +\n",
    "    xlab(\"Mutation copy number\") + ylab(\"Counts\") +\n",
    "    scale_fill_jcolors(palette = \"pal9\") +\n",
    "    facet_wrap(~cancertype, scales = \"free_y\")\n"
   ]
  },
  {
   "cell_type": "markdown",
   "metadata": {},
   "source": [
    "### Calculate background dN/dS in TCGA"
   ]
  },
  {
   "cell_type": "markdown",
   "metadata": {},
   "source": [
    "dN/dS can be influenced by germline contimnation, we'll calculate a baseline for this cohort to compare against. This can be a problem in particular due to under or over filtering of germline SNPs. Over filtering results in inflated dN/dS, under filterting can result in lower dN/dS than would be expected.\n",
    "\n",
    "To calculate this background I'll take a bootstrapping approach and select a random selection of genes that are non-drivers and calculate the average dN/dS over multiple sets."
   ]
  },
  {
   "cell_type": "code",
   "execution_count": 30,
   "metadata": {},
   "outputs": [],
   "source": [
    "dfback <- df %>%\n",
    "    select(sampleid, chr, start, Reference_Allele, Tumor_Seq_Allele2, everything())"
   ]
  },
  {
   "cell_type": "code",
   "execution_count": 31,
   "metadata": {},
   "outputs": [
    {
     "name": "stdout",
     "output_type": "stream",
     "text": [
      "[1] 1\n"
     ]
    },
    {
     "name": "stderr",
     "output_type": "stream",
     "text": [
      "[1] Loading the environment...\n",
      "[2] Annotating the mutations...\n",
      "Warning message in dndscv(dfback, gene_list = randomgenestemp$V1, outp = 1, refdb = \"data/dndscv/dndscv_data/data/RefCDS_human_GRCh38.p12.rda\"):\n",
      "“Mutations observed in contiguous sites within a sample. Please annotate or remove dinucleotide or complex substitutions for best results.”Warning message in dndscv(dfback, gene_list = randomgenestemp$V1, outp = 1, refdb = \"data/dndscv/dndscv_data/data/RefCDS_human_GRCh38.p12.rda\"):\n",
      "“Same mutations observed in different sampleIDs. Please verify that these are independent events and remove duplicates otherwise.”    Note: 2037 mutations removed for exceeding the limit of mutations per gene per sample\n",
      "    15% ...\n",
      "    31% ...\n",
      "    46% ...\n",
      "    61% ...\n",
      "    76% ...\n",
      "    92% ...\n",
      "[3] Estimating global rates...\n"
     ]
    },
    {
     "name": "stdout",
     "output_type": "stream",
     "text": [
      "[1] 2\n"
     ]
    },
    {
     "name": "stderr",
     "output_type": "stream",
     "text": [
      "[1] Loading the environment...\n",
      "[2] Annotating the mutations...\n",
      "Warning message in dndscv(dfback, gene_list = randomgenestemp$V1, outp = 1, refdb = \"data/dndscv/dndscv_data/data/RefCDS_human_GRCh38.p12.rda\"):\n",
      "“Mutations observed in contiguous sites within a sample. Please annotate or remove dinucleotide or complex substitutions for best results.”Warning message in dndscv(dfback, gene_list = randomgenestemp$V1, outp = 1, refdb = \"data/dndscv/dndscv_data/data/RefCDS_human_GRCh38.p12.rda\"):\n",
      "“Same mutations observed in different sampleIDs. Please verify that these are independent events and remove duplicates otherwise.”    Note: 1786 mutations removed for exceeding the limit of mutations per gene per sample\n",
      "    15% ...\n",
      "    29% ...\n",
      "    44% ...\n",
      "    59% ...\n",
      "    73% ...\n",
      "    88% ...\n",
      "[3] Estimating global rates...\n"
     ]
    },
    {
     "name": "stdout",
     "output_type": "stream",
     "text": [
      "[1] 3\n"
     ]
    },
    {
     "name": "stderr",
     "output_type": "stream",
     "text": [
      "[1] Loading the environment...\n",
      "[2] Annotating the mutations...\n",
      "Warning message in dndscv(dfback, gene_list = randomgenestemp$V1, outp = 1, refdb = \"data/dndscv/dndscv_data/data/RefCDS_human_GRCh38.p12.rda\"):\n",
      "“Mutations observed in contiguous sites within a sample. Please annotate or remove dinucleotide or complex substitutions for best results.”Warning message in dndscv(dfback, gene_list = randomgenestemp$V1, outp = 1, refdb = \"data/dndscv/dndscv_data/data/RefCDS_human_GRCh38.p12.rda\"):\n",
      "“Same mutations observed in different sampleIDs. Please verify that these are independent events and remove duplicates otherwise.”    Note: 2371 mutations removed for exceeding the limit of mutations per gene per sample\n",
      "    14% ...\n",
      "    29% ...\n",
      "    43% ...\n",
      "    58% ...\n",
      "    72% ...\n",
      "    87% ...\n",
      "[3] Estimating global rates...\n"
     ]
    },
    {
     "name": "stdout",
     "output_type": "stream",
     "text": [
      "[1] 4\n"
     ]
    },
    {
     "name": "stderr",
     "output_type": "stream",
     "text": [
      "[1] Loading the environment...\n",
      "[2] Annotating the mutations...\n",
      "Warning message in dndscv(dfback, gene_list = randomgenestemp$V1, outp = 1, refdb = \"data/dndscv/dndscv_data/data/RefCDS_human_GRCh38.p12.rda\"):\n",
      "“Mutations observed in contiguous sites within a sample. Please annotate or remove dinucleotide or complex substitutions for best results.”Warning message in dndscv(dfback, gene_list = randomgenestemp$V1, outp = 1, refdb = \"data/dndscv/dndscv_data/data/RefCDS_human_GRCh38.p12.rda\"):\n",
      "“Same mutations observed in different sampleIDs. Please verify that these are independent events and remove duplicates otherwise.”    Note: 6277 mutations removed for exceeding the limit of mutations per gene per sample\n",
      "    15% ...\n",
      "    30% ...\n",
      "    45% ...\n",
      "    60% ...\n",
      "    75% ...\n",
      "    90% ...\n",
      "[3] Estimating global rates...\n"
     ]
    },
    {
     "name": "stdout",
     "output_type": "stream",
     "text": [
      "[1] 5\n"
     ]
    },
    {
     "name": "stderr",
     "output_type": "stream",
     "text": [
      "[1] Loading the environment...\n",
      "[2] Annotating the mutations...\n",
      "Warning message in dndscv(dfback, gene_list = randomgenestemp$V1, outp = 1, refdb = \"data/dndscv/dndscv_data/data/RefCDS_human_GRCh38.p12.rda\"):\n",
      "“Mutations observed in contiguous sites within a sample. Please annotate or remove dinucleotide or complex substitutions for best results.”Warning message in dndscv(dfback, gene_list = randomgenestemp$V1, outp = 1, refdb = \"data/dndscv/dndscv_data/data/RefCDS_human_GRCh38.p12.rda\"):\n",
      "“Same mutations observed in different sampleIDs. Please verify that these are independent events and remove duplicates otherwise.”    Note: 1908 mutations removed for exceeding the limit of mutations per gene per sample\n",
      "    15% ...\n",
      "    31% ...\n",
      "    46% ...\n",
      "    62% ...\n",
      "    77% ...\n",
      "    93% ...\n",
      "[3] Estimating global rates...\n"
     ]
    },
    {
     "name": "stdout",
     "output_type": "stream",
     "text": [
      "[1] 6\n"
     ]
    },
    {
     "name": "stderr",
     "output_type": "stream",
     "text": [
      "[1] Loading the environment...\n",
      "[2] Annotating the mutations...\n",
      "Warning message in dndscv(dfback, gene_list = randomgenestemp$V1, outp = 1, refdb = \"data/dndscv/dndscv_data/data/RefCDS_human_GRCh38.p12.rda\"):\n",
      "“Mutations observed in contiguous sites within a sample. Please annotate or remove dinucleotide or complex substitutions for best results.”Warning message in dndscv(dfback, gene_list = randomgenestemp$V1, outp = 1, refdb = \"data/dndscv/dndscv_data/data/RefCDS_human_GRCh38.p12.rda\"):\n",
      "“Same mutations observed in different sampleIDs. Please verify that these are independent events and remove duplicates otherwise.”    Note: 1890 mutations removed for exceeding the limit of mutations per gene per sample\n",
      "    15% ...\n",
      "    31% ...\n",
      "    46% ...\n",
      "    62% ...\n",
      "    77% ...\n",
      "    93% ...\n",
      "[3] Estimating global rates...\n"
     ]
    },
    {
     "name": "stdout",
     "output_type": "stream",
     "text": [
      "[1] 7\n"
     ]
    },
    {
     "name": "stderr",
     "output_type": "stream",
     "text": [
      "[1] Loading the environment...\n",
      "[2] Annotating the mutations...\n",
      "Warning message in dndscv(dfback, gene_list = randomgenestemp$V1, outp = 1, refdb = \"data/dndscv/dndscv_data/data/RefCDS_human_GRCh38.p12.rda\"):\n",
      "“Mutations observed in contiguous sites within a sample. Please annotate or remove dinucleotide or complex substitutions for best results.”Warning message in dndscv(dfback, gene_list = randomgenestemp$V1, outp = 1, refdb = \"data/dndscv/dndscv_data/data/RefCDS_human_GRCh38.p12.rda\"):\n",
      "“Same mutations observed in different sampleIDs. Please verify that these are independent events and remove duplicates otherwise.”    Note: 2315 mutations removed for exceeding the limit of mutations per gene per sample\n",
      "    15% ...\n",
      "    30% ...\n",
      "    45% ...\n",
      "    60% ...\n",
      "    75% ...\n",
      "    90% ...\n",
      "[3] Estimating global rates...\n"
     ]
    },
    {
     "name": "stdout",
     "output_type": "stream",
     "text": [
      "[1] 8\n"
     ]
    },
    {
     "name": "stderr",
     "output_type": "stream",
     "text": [
      "[1] Loading the environment...\n",
      "[2] Annotating the mutations...\n",
      "Warning message in dndscv(dfback, gene_list = randomgenestemp$V1, outp = 1, refdb = \"data/dndscv/dndscv_data/data/RefCDS_human_GRCh38.p12.rda\"):\n",
      "“Mutations observed in contiguous sites within a sample. Please annotate or remove dinucleotide or complex substitutions for best results.”Warning message in dndscv(dfback, gene_list = randomgenestemp$V1, outp = 1, refdb = \"data/dndscv/dndscv_data/data/RefCDS_human_GRCh38.p12.rda\"):\n",
      "“Same mutations observed in different sampleIDs. Please verify that these are independent events and remove duplicates otherwise.”    Note: 2841 mutations removed for exceeding the limit of mutations per gene per sample\n",
      "    15% ...\n",
      "    30% ...\n",
      "    45% ...\n",
      "    60% ...\n",
      "    74% ...\n",
      "    89% ...\n",
      "[3] Estimating global rates...\n"
     ]
    },
    {
     "name": "stdout",
     "output_type": "stream",
     "text": [
      "[1] 9\n"
     ]
    },
    {
     "name": "stderr",
     "output_type": "stream",
     "text": [
      "[1] Loading the environment...\n",
      "[2] Annotating the mutations...\n",
      "Warning message in dndscv(dfback, gene_list = randomgenestemp$V1, outp = 1, refdb = \"data/dndscv/dndscv_data/data/RefCDS_human_GRCh38.p12.rda\"):\n",
      "“Mutations observed in contiguous sites within a sample. Please annotate or remove dinucleotide or complex substitutions for best results.”Warning message in dndscv(dfback, gene_list = randomgenestemp$V1, outp = 1, refdb = \"data/dndscv/dndscv_data/data/RefCDS_human_GRCh38.p12.rda\"):\n",
      "“Same mutations observed in different sampleIDs. Please verify that these are independent events and remove duplicates otherwise.”    Note: 2064 mutations removed for exceeding the limit of mutations per gene per sample\n",
      "    15% ...\n",
      "    30% ...\n",
      "    45% ...\n",
      "    60% ...\n",
      "    75% ...\n",
      "    90% ...\n",
      "[3] Estimating global rates...\n"
     ]
    },
    {
     "name": "stdout",
     "output_type": "stream",
     "text": [
      "[1] 10\n"
     ]
    },
    {
     "name": "stderr",
     "output_type": "stream",
     "text": [
      "[1] Loading the environment...\n",
      "[2] Annotating the mutations...\n",
      "Warning message in dndscv(dfback, gene_list = randomgenestemp$V1, outp = 1, refdb = \"data/dndscv/dndscv_data/data/RefCDS_human_GRCh38.p12.rda\"):\n",
      "“Mutations observed in contiguous sites within a sample. Please annotate or remove dinucleotide or complex substitutions for best results.”Warning message in dndscv(dfback, gene_list = randomgenestemp$V1, outp = 1, refdb = \"data/dndscv/dndscv_data/data/RefCDS_human_GRCh38.p12.rda\"):\n",
      "“Same mutations observed in different sampleIDs. Please verify that these are independent events and remove duplicates otherwise.”    Note: 1891 mutations removed for exceeding the limit of mutations per gene per sample\n",
      "    16% ...\n",
      "    32% ...\n",
      "    49% ...\n",
      "    65% ...\n",
      "    81% ...\n",
      "    97% ...\n",
      "[3] Estimating global rates...\n"
     ]
    },
    {
     "name": "stdout",
     "output_type": "stream",
     "text": [
      "[1] 11\n"
     ]
    },
    {
     "name": "stderr",
     "output_type": "stream",
     "text": [
      "[1] Loading the environment...\n",
      "[2] Annotating the mutations...\n",
      "Warning message in dndscv(dfback, gene_list = randomgenestemp$V1, outp = 1, refdb = \"data/dndscv/dndscv_data/data/RefCDS_human_GRCh38.p12.rda\"):\n",
      "“Mutations observed in contiguous sites within a sample. Please annotate or remove dinucleotide or complex substitutions for best results.”Warning message in dndscv(dfback, gene_list = randomgenestemp$V1, outp = 1, refdb = \"data/dndscv/dndscv_data/data/RefCDS_human_GRCh38.p12.rda\"):\n",
      "“Same mutations observed in different sampleIDs. Please verify that these are independent events and remove duplicates otherwise.”    Note: 2362 mutations removed for exceeding the limit of mutations per gene per sample\n",
      "    15% ...\n",
      "    30% ...\n",
      "    45% ...\n",
      "    60% ...\n",
      "    74% ...\n",
      "    89% ...\n",
      "[3] Estimating global rates...\n"
     ]
    },
    {
     "name": "stdout",
     "output_type": "stream",
     "text": [
      "[1] 12\n"
     ]
    },
    {
     "name": "stderr",
     "output_type": "stream",
     "text": [
      "[1] Loading the environment...\n",
      "[2] Annotating the mutations...\n",
      "Warning message in dndscv(dfback, gene_list = randomgenestemp$V1, outp = 1, refdb = \"data/dndscv/dndscv_data/data/RefCDS_human_GRCh38.p12.rda\"):\n",
      "“Mutations observed in contiguous sites within a sample. Please annotate or remove dinucleotide or complex substitutions for best results.”Warning message in dndscv(dfback, gene_list = randomgenestemp$V1, outp = 1, refdb = \"data/dndscv/dndscv_data/data/RefCDS_human_GRCh38.p12.rda\"):\n",
      "“Same mutations observed in different sampleIDs. Please verify that these are independent events and remove duplicates otherwise.”    Note: 1659 mutations removed for exceeding the limit of mutations per gene per sample\n",
      "    16% ...\n",
      "    32% ...\n",
      "    48% ...\n",
      "    65% ...\n",
      "    81% ...\n",
      "    97% ...\n",
      "[3] Estimating global rates...\n"
     ]
    },
    {
     "name": "stdout",
     "output_type": "stream",
     "text": [
      "[1] 13\n"
     ]
    },
    {
     "name": "stderr",
     "output_type": "stream",
     "text": [
      "[1] Loading the environment...\n",
      "[2] Annotating the mutations...\n",
      "Warning message in dndscv(dfback, gene_list = randomgenestemp$V1, outp = 1, refdb = \"data/dndscv/dndscv_data/data/RefCDS_human_GRCh38.p12.rda\"):\n",
      "“Mutations observed in contiguous sites within a sample. Please annotate or remove dinucleotide or complex substitutions for best results.”Warning message in dndscv(dfback, gene_list = randomgenestemp$V1, outp = 1, refdb = \"data/dndscv/dndscv_data/data/RefCDS_human_GRCh38.p12.rda\"):\n",
      "“Same mutations observed in different sampleIDs. Please verify that these are independent events and remove duplicates otherwise.”    Note: 4090 mutations removed for exceeding the limit of mutations per gene per sample\n",
      "    14% ...\n",
      "    28% ...\n",
      "    43% ...\n",
      "    57% ...\n",
      "    71% ...\n",
      "    85% ...\n",
      "    100% ...\n",
      "[3] Estimating global rates...\n"
     ]
    },
    {
     "name": "stdout",
     "output_type": "stream",
     "text": [
      "[1] 14\n"
     ]
    },
    {
     "name": "stderr",
     "output_type": "stream",
     "text": [
      "[1] Loading the environment...\n",
      "[2] Annotating the mutations...\n",
      "Warning message in dndscv(dfback, gene_list = randomgenestemp$V1, outp = 1, refdb = \"data/dndscv/dndscv_data/data/RefCDS_human_GRCh38.p12.rda\"):\n",
      "“Mutations observed in contiguous sites within a sample. Please annotate or remove dinucleotide or complex substitutions for best results.”Warning message in dndscv(dfback, gene_list = randomgenestemp$V1, outp = 1, refdb = \"data/dndscv/dndscv_data/data/RefCDS_human_GRCh38.p12.rda\"):\n",
      "“Same mutations observed in different sampleIDs. Please verify that these are independent events and remove duplicates otherwise.”    Note: 2057 mutations removed for exceeding the limit of mutations per gene per sample\n",
      "    15% ...\n",
      "    30% ...\n",
      "    45% ...\n",
      "    60% ...\n",
      "    75% ...\n",
      "    90% ...\n",
      "[3] Estimating global rates...\n"
     ]
    },
    {
     "name": "stdout",
     "output_type": "stream",
     "text": [
      "[1] 15\n"
     ]
    },
    {
     "name": "stderr",
     "output_type": "stream",
     "text": [
      "[1] Loading the environment...\n",
      "[2] Annotating the mutations...\n",
      "Warning message in dndscv(dfback, gene_list = randomgenestemp$V1, outp = 1, refdb = \"data/dndscv/dndscv_data/data/RefCDS_human_GRCh38.p12.rda\"):\n",
      "“Mutations observed in contiguous sites within a sample. Please annotate or remove dinucleotide or complex substitutions for best results.”Warning message in dndscv(dfback, gene_list = randomgenestemp$V1, outp = 1, refdb = \"data/dndscv/dndscv_data/data/RefCDS_human_GRCh38.p12.rda\"):\n",
      "“Same mutations observed in different sampleIDs. Please verify that these are independent events and remove duplicates otherwise.”    Note: 2064 mutations removed for exceeding the limit of mutations per gene per sample\n",
      "    15% ...\n",
      "    30% ...\n",
      "    46% ...\n",
      "    61% ...\n",
      "    76% ...\n",
      "    91% ...\n",
      "[3] Estimating global rates...\n"
     ]
    },
    {
     "name": "stdout",
     "output_type": "stream",
     "text": [
      "[1] 16\n"
     ]
    },
    {
     "name": "stderr",
     "output_type": "stream",
     "text": [
      "[1] Loading the environment...\n",
      "[2] Annotating the mutations...\n",
      "Warning message in dndscv(dfback, gene_list = randomgenestemp$V1, outp = 1, refdb = \"data/dndscv/dndscv_data/data/RefCDS_human_GRCh38.p12.rda\"):\n",
      "“Mutations observed in contiguous sites within a sample. Please annotate or remove dinucleotide or complex substitutions for best results.”Warning message in dndscv(dfback, gene_list = randomgenestemp$V1, outp = 1, refdb = \"data/dndscv/dndscv_data/data/RefCDS_human_GRCh38.p12.rda\"):\n",
      "“Same mutations observed in different sampleIDs. Please verify that these are independent events and remove duplicates otherwise.”    Note: 1668 mutations removed for exceeding the limit of mutations per gene per sample\n",
      "    15% ...\n",
      "    30% ...\n",
      "    46% ...\n",
      "    61% ...\n",
      "    76% ...\n",
      "    91% ...\n",
      "[3] Estimating global rates...\n"
     ]
    },
    {
     "name": "stdout",
     "output_type": "stream",
     "text": [
      "[1] 17\n"
     ]
    },
    {
     "name": "stderr",
     "output_type": "stream",
     "text": [
      "[1] Loading the environment...\n",
      "[2] Annotating the mutations...\n",
      "Warning message in dndscv(dfback, gene_list = randomgenestemp$V1, outp = 1, refdb = \"data/dndscv/dndscv_data/data/RefCDS_human_GRCh38.p12.rda\"):\n",
      "“Mutations observed in contiguous sites within a sample. Please annotate or remove dinucleotide or complex substitutions for best results.”Warning message in dndscv(dfback, gene_list = randomgenestemp$V1, outp = 1, refdb = \"data/dndscv/dndscv_data/data/RefCDS_human_GRCh38.p12.rda\"):\n",
      "“Same mutations observed in different sampleIDs. Please verify that these are independent events and remove duplicates otherwise.”    Note: 1874 mutations removed for exceeding the limit of mutations per gene per sample\n",
      "    15% ...\n",
      "    31% ...\n",
      "    46% ...\n",
      "    61% ...\n",
      "    77% ...\n",
      "    92% ...\n",
      "[3] Estimating global rates...\n"
     ]
    },
    {
     "name": "stdout",
     "output_type": "stream",
     "text": [
      "[1] 18\n"
     ]
    },
    {
     "name": "stderr",
     "output_type": "stream",
     "text": [
      "[1] Loading the environment...\n",
      "[2] Annotating the mutations...\n",
      "Warning message in dndscv(dfback, gene_list = randomgenestemp$V1, outp = 1, refdb = \"data/dndscv/dndscv_data/data/RefCDS_human_GRCh38.p12.rda\"):\n",
      "“Mutations observed in contiguous sites within a sample. Please annotate or remove dinucleotide or complex substitutions for best results.”Warning message in dndscv(dfback, gene_list = randomgenestemp$V1, outp = 1, refdb = \"data/dndscv/dndscv_data/data/RefCDS_human_GRCh38.p12.rda\"):\n",
      "“Same mutations observed in different sampleIDs. Please verify that these are independent events and remove duplicates otherwise.”    Note: 2054 mutations removed for exceeding the limit of mutations per gene per sample\n",
      "    14% ...\n",
      "    29% ...\n",
      "    43% ...\n",
      "    58% ...\n",
      "    72% ...\n",
      "    87% ...\n",
      "[3] Estimating global rates...\n"
     ]
    },
    {
     "name": "stdout",
     "output_type": "stream",
     "text": [
      "[1] 19\n"
     ]
    },
    {
     "name": "stderr",
     "output_type": "stream",
     "text": [
      "[1] Loading the environment...\n",
      "[2] Annotating the mutations...\n",
      "Warning message in dndscv(dfback, gene_list = randomgenestemp$V1, outp = 1, refdb = \"data/dndscv/dndscv_data/data/RefCDS_human_GRCh38.p12.rda\"):\n",
      "“Mutations observed in contiguous sites within a sample. Please annotate or remove dinucleotide or complex substitutions for best results.”Warning message in dndscv(dfback, gene_list = randomgenestemp$V1, outp = 1, refdb = \"data/dndscv/dndscv_data/data/RefCDS_human_GRCh38.p12.rda\"):\n",
      "“Same mutations observed in different sampleIDs. Please verify that these are independent events and remove duplicates otherwise.”    Note: 2094 mutations removed for exceeding the limit of mutations per gene per sample\n",
      "    15% ...\n",
      "    31% ...\n",
      "    46% ...\n",
      "    61% ...\n",
      "    76% ...\n",
      "    92% ...\n",
      "[3] Estimating global rates...\n"
     ]
    },
    {
     "name": "stdout",
     "output_type": "stream",
     "text": [
      "[1] 20\n"
     ]
    },
    {
     "name": "stderr",
     "output_type": "stream",
     "text": [
      "[1] Loading the environment...\n",
      "[2] Annotating the mutations...\n",
      "Warning message in dndscv(dfback, gene_list = randomgenestemp$V1, outp = 1, refdb = \"data/dndscv/dndscv_data/data/RefCDS_human_GRCh38.p12.rda\"):\n",
      "“Mutations observed in contiguous sites within a sample. Please annotate or remove dinucleotide or complex substitutions for best results.”Warning message in dndscv(dfback, gene_list = randomgenestemp$V1, outp = 1, refdb = \"data/dndscv/dndscv_data/data/RefCDS_human_GRCh38.p12.rda\"):\n",
      "“Same mutations observed in different sampleIDs. Please verify that these are independent events and remove duplicates otherwise.”    Note: 2258 mutations removed for exceeding the limit of mutations per gene per sample\n",
      "    15% ...\n",
      "    29% ...\n",
      "    44% ...\n",
      "    59% ...\n",
      "    73% ...\n",
      "    88% ...\n",
      "[3] Estimating global rates...\n"
     ]
    },
    {
     "name": "stdout",
     "output_type": "stream",
     "text": [
      "[1] 21\n"
     ]
    },
    {
     "name": "stderr",
     "output_type": "stream",
     "text": [
      "[1] Loading the environment...\n",
      "[2] Annotating the mutations...\n",
      "Warning message in dndscv(dfback, gene_list = randomgenestemp$V1, outp = 1, refdb = \"data/dndscv/dndscv_data/data/RefCDS_human_GRCh38.p12.rda\"):\n",
      "“Mutations observed in contiguous sites within a sample. Please annotate or remove dinucleotide or complex substitutions for best results.”Warning message in dndscv(dfback, gene_list = randomgenestemp$V1, outp = 1, refdb = \"data/dndscv/dndscv_data/data/RefCDS_human_GRCh38.p12.rda\"):\n",
      "“Same mutations observed in different sampleIDs. Please verify that these are independent events and remove duplicates otherwise.”    Note: 2228 mutations removed for exceeding the limit of mutations per gene per sample\n",
      "    15% ...\n",
      "    31% ...\n",
      "    46% ...\n",
      "    61% ...\n",
      "    77% ...\n",
      "    92% ...\n",
      "[3] Estimating global rates...\n"
     ]
    },
    {
     "name": "stdout",
     "output_type": "stream",
     "text": [
      "[1] 22\n"
     ]
    },
    {
     "name": "stderr",
     "output_type": "stream",
     "text": [
      "[1] Loading the environment...\n",
      "[2] Annotating the mutations...\n",
      "Warning message in dndscv(dfback, gene_list = randomgenestemp$V1, outp = 1, refdb = \"data/dndscv/dndscv_data/data/RefCDS_human_GRCh38.p12.rda\"):\n",
      "“Mutations observed in contiguous sites within a sample. Please annotate or remove dinucleotide or complex substitutions for best results.”Warning message in dndscv(dfback, gene_list = randomgenestemp$V1, outp = 1, refdb = \"data/dndscv/dndscv_data/data/RefCDS_human_GRCh38.p12.rda\"):\n",
      "“Same mutations observed in different sampleIDs. Please verify that these are independent events and remove duplicates otherwise.”    Note: 1679 mutations removed for exceeding the limit of mutations per gene per sample\n",
      "    15% ...\n",
      "    30% ...\n",
      "    45% ...\n",
      "    59% ...\n",
      "    74% ...\n",
      "    89% ...\n",
      "[3] Estimating global rates...\n"
     ]
    },
    {
     "name": "stdout",
     "output_type": "stream",
     "text": [
      "[1] 23\n"
     ]
    },
    {
     "name": "stderr",
     "output_type": "stream",
     "text": [
      "[1] Loading the environment...\n",
      "[2] Annotating the mutations...\n",
      "Warning message in dndscv(dfback, gene_list = randomgenestemp$V1, outp = 1, refdb = \"data/dndscv/dndscv_data/data/RefCDS_human_GRCh38.p12.rda\"):\n",
      "“Mutations observed in contiguous sites within a sample. Please annotate or remove dinucleotide or complex substitutions for best results.”Warning message in dndscv(dfback, gene_list = randomgenestemp$V1, outp = 1, refdb = \"data/dndscv/dndscv_data/data/RefCDS_human_GRCh38.p12.rda\"):\n",
      "“Same mutations observed in different sampleIDs. Please verify that these are independent events and remove duplicates otherwise.”    Note: 1895 mutations removed for exceeding the limit of mutations per gene per sample\n",
      "    15% ...\n",
      "    31% ...\n",
      "    46% ...\n",
      "    62% ...\n",
      "    77% ...\n",
      "    93% ...\n",
      "[3] Estimating global rates...\n"
     ]
    },
    {
     "name": "stdout",
     "output_type": "stream",
     "text": [
      "[1] 24\n"
     ]
    },
    {
     "name": "stderr",
     "output_type": "stream",
     "text": [
      "[1] Loading the environment...\n",
      "[2] Annotating the mutations...\n",
      "Warning message in dndscv(dfback, gene_list = randomgenestemp$V1, outp = 1, refdb = \"data/dndscv/dndscv_data/data/RefCDS_human_GRCh38.p12.rda\"):\n",
      "“Mutations observed in contiguous sites within a sample. Please annotate or remove dinucleotide or complex substitutions for best results.”Warning message in dndscv(dfback, gene_list = randomgenestemp$V1, outp = 1, refdb = \"data/dndscv/dndscv_data/data/RefCDS_human_GRCh38.p12.rda\"):\n",
      "“Same mutations observed in different sampleIDs. Please verify that these are independent events and remove duplicates otherwise.”    Note: 2282 mutations removed for exceeding the limit of mutations per gene per sample\n",
      "    14% ...\n",
      "    29% ...\n",
      "    43% ...\n",
      "    57% ...\n",
      "    71% ...\n",
      "    86% ...\n",
      "    100% ...\n",
      "[3] Estimating global rates...\n"
     ]
    },
    {
     "name": "stdout",
     "output_type": "stream",
     "text": [
      "[1] 25\n"
     ]
    },
    {
     "name": "stderr",
     "output_type": "stream",
     "text": [
      "[1] Loading the environment...\n",
      "[2] Annotating the mutations...\n",
      "Warning message in dndscv(dfback, gene_list = randomgenestemp$V1, outp = 1, refdb = \"data/dndscv/dndscv_data/data/RefCDS_human_GRCh38.p12.rda\"):\n",
      "“Mutations observed in contiguous sites within a sample. Please annotate or remove dinucleotide or complex substitutions for best results.”Warning message in dndscv(dfback, gene_list = randomgenestemp$V1, outp = 1, refdb = \"data/dndscv/dndscv_data/data/RefCDS_human_GRCh38.p12.rda\"):\n",
      "“Same mutations observed in different sampleIDs. Please verify that these are independent events and remove duplicates otherwise.”    Note: 2064 mutations removed for exceeding the limit of mutations per gene per sample\n",
      "    15% ...\n",
      "    30% ...\n",
      "    45% ...\n",
      "    60% ...\n",
      "    75% ...\n",
      "    89% ...\n",
      "[3] Estimating global rates...\n"
     ]
    },
    {
     "name": "stdout",
     "output_type": "stream",
     "text": [
      "[1] 26\n"
     ]
    },
    {
     "name": "stderr",
     "output_type": "stream",
     "text": [
      "[1] Loading the environment...\n",
      "[2] Annotating the mutations...\n",
      "Warning message in dndscv(dfback, gene_list = randomgenestemp$V1, outp = 1, refdb = \"data/dndscv/dndscv_data/data/RefCDS_human_GRCh38.p12.rda\"):\n",
      "“Mutations observed in contiguous sites within a sample. Please annotate or remove dinucleotide or complex substitutions for best results.”Warning message in dndscv(dfback, gene_list = randomgenestemp$V1, outp = 1, refdb = \"data/dndscv/dndscv_data/data/RefCDS_human_GRCh38.p12.rda\"):\n",
      "“Same mutations observed in different sampleIDs. Please verify that these are independent events and remove duplicates otherwise.”    Note: 1898 mutations removed for exceeding the limit of mutations per gene per sample\n",
      "    15% ...\n",
      "    30% ...\n",
      "    46% ...\n",
      "    61% ...\n",
      "    76% ...\n",
      "    91% ...\n",
      "[3] Estimating global rates...\n"
     ]
    },
    {
     "name": "stdout",
     "output_type": "stream",
     "text": [
      "[1] 27\n"
     ]
    },
    {
     "name": "stderr",
     "output_type": "stream",
     "text": [
      "[1] Loading the environment...\n",
      "[2] Annotating the mutations...\n",
      "Warning message in dndscv(dfback, gene_list = randomgenestemp$V1, outp = 1, refdb = \"data/dndscv/dndscv_data/data/RefCDS_human_GRCh38.p12.rda\"):\n",
      "“Mutations observed in contiguous sites within a sample. Please annotate or remove dinucleotide or complex substitutions for best results.”Warning message in dndscv(dfback, gene_list = randomgenestemp$V1, outp = 1, refdb = \"data/dndscv/dndscv_data/data/RefCDS_human_GRCh38.p12.rda\"):\n",
      "“Same mutations observed in different sampleIDs. Please verify that these are independent events and remove duplicates otherwise.”    Note: 1634 mutations removed for exceeding the limit of mutations per gene per sample\n",
      "    16% ...\n",
      "    32% ...\n",
      "    48% ...\n",
      "    63% ...\n",
      "    79% ...\n",
      "    95% ...\n",
      "[3] Estimating global rates...\n"
     ]
    },
    {
     "name": "stdout",
     "output_type": "stream",
     "text": [
      "[1] 28\n"
     ]
    },
    {
     "name": "stderr",
     "output_type": "stream",
     "text": [
      "[1] Loading the environment...\n",
      "[2] Annotating the mutations...\n",
      "Warning message in dndscv(dfback, gene_list = randomgenestemp$V1, outp = 1, refdb = \"data/dndscv/dndscv_data/data/RefCDS_human_GRCh38.p12.rda\"):\n",
      "“Mutations observed in contiguous sites within a sample. Please annotate or remove dinucleotide or complex substitutions for best results.”Warning message in dndscv(dfback, gene_list = randomgenestemp$V1, outp = 1, refdb = \"data/dndscv/dndscv_data/data/RefCDS_human_GRCh38.p12.rda\"):\n",
      "“Same mutations observed in different sampleIDs. Please verify that these are independent events and remove duplicates otherwise.”    Note: 1838 mutations removed for exceeding the limit of mutations per gene per sample\n",
      "    16% ...\n",
      "    32% ...\n",
      "    47% ...\n",
      "    63% ...\n",
      "    79% ...\n",
      "    95% ...\n",
      "[3] Estimating global rates...\n"
     ]
    },
    {
     "name": "stdout",
     "output_type": "stream",
     "text": [
      "[1] 29\n"
     ]
    },
    {
     "name": "stderr",
     "output_type": "stream",
     "text": [
      "[1] Loading the environment...\n",
      "[2] Annotating the mutations...\n",
      "Warning message in dndscv(dfback, gene_list = randomgenestemp$V1, outp = 1, refdb = \"data/dndscv/dndscv_data/data/RefCDS_human_GRCh38.p12.rda\"):\n",
      "“Mutations observed in contiguous sites within a sample. Please annotate or remove dinucleotide or complex substitutions for best results.”Warning message in dndscv(dfback, gene_list = randomgenestemp$V1, outp = 1, refdb = \"data/dndscv/dndscv_data/data/RefCDS_human_GRCh38.p12.rda\"):\n",
      "“Same mutations observed in different sampleIDs. Please verify that these are independent events and remove duplicates otherwise.”    Note: 2414 mutations removed for exceeding the limit of mutations per gene per sample\n",
      "    15% ...\n",
      "    30% ...\n",
      "    46% ...\n",
      "    61% ...\n",
      "    76% ...\n",
      "    91% ...\n",
      "[3] Estimating global rates...\n"
     ]
    },
    {
     "name": "stdout",
     "output_type": "stream",
     "text": [
      "[1] 30\n"
     ]
    },
    {
     "name": "stderr",
     "output_type": "stream",
     "text": [
      "[1] Loading the environment...\n",
      "[2] Annotating the mutations...\n",
      "Warning message in dndscv(dfback, gene_list = randomgenestemp$V1, outp = 1, refdb = \"data/dndscv/dndscv_data/data/RefCDS_human_GRCh38.p12.rda\"):\n",
      "“Mutations observed in contiguous sites within a sample. Please annotate or remove dinucleotide or complex substitutions for best results.”Warning message in dndscv(dfback, gene_list = randomgenestemp$V1, outp = 1, refdb = \"data/dndscv/dndscv_data/data/RefCDS_human_GRCh38.p12.rda\"):\n",
      "“Same mutations observed in different sampleIDs. Please verify that these are independent events and remove duplicates otherwise.”    Note: 1787 mutations removed for exceeding the limit of mutations per gene per sample\n",
      "    15% ...\n",
      "    30% ...\n",
      "    46% ...\n",
      "    61% ...\n",
      "    76% ...\n",
      "    91% ...\n",
      "[3] Estimating global rates...\n"
     ]
    },
    {
     "name": "stdout",
     "output_type": "stream",
     "text": [
      "[1] 31\n"
     ]
    },
    {
     "name": "stderr",
     "output_type": "stream",
     "text": [
      "[1] Loading the environment...\n",
      "[2] Annotating the mutations...\n",
      "Warning message in dndscv(dfback, gene_list = randomgenestemp$V1, outp = 1, refdb = \"data/dndscv/dndscv_data/data/RefCDS_human_GRCh38.p12.rda\"):\n",
      "“Mutations observed in contiguous sites within a sample. Please annotate or remove dinucleotide or complex substitutions for best results.”Warning message in dndscv(dfback, gene_list = randomgenestemp$V1, outp = 1, refdb = \"data/dndscv/dndscv_data/data/RefCDS_human_GRCh38.p12.rda\"):\n",
      "“Same mutations observed in different sampleIDs. Please verify that these are independent events and remove duplicates otherwise.”    Note: 2414 mutations removed for exceeding the limit of mutations per gene per sample\n",
      "    14% ...\n",
      "    29% ...\n",
      "    43% ...\n",
      "    58% ...\n",
      "    72% ...\n",
      "    87% ...\n",
      "[3] Estimating global rates...\n"
     ]
    },
    {
     "name": "stdout",
     "output_type": "stream",
     "text": [
      "[1] 32\n"
     ]
    },
    {
     "name": "stderr",
     "output_type": "stream",
     "text": [
      "[1] Loading the environment...\n",
      "[2] Annotating the mutations...\n",
      "Warning message in dndscv(dfback, gene_list = randomgenestemp$V1, outp = 1, refdb = \"data/dndscv/dndscv_data/data/RefCDS_human_GRCh38.p12.rda\"):\n",
      "“Mutations observed in contiguous sites within a sample. Please annotate or remove dinucleotide or complex substitutions for best results.”Warning message in dndscv(dfback, gene_list = randomgenestemp$V1, outp = 1, refdb = \"data/dndscv/dndscv_data/data/RefCDS_human_GRCh38.p12.rda\"):\n",
      "“Same mutations observed in different sampleIDs. Please verify that these are independent events and remove duplicates otherwise.”    Note: 5286 mutations removed for exceeding the limit of mutations per gene per sample\n",
      "    15% ...\n",
      "    29% ...\n",
      "    44% ...\n",
      "    59% ...\n",
      "    74% ...\n",
      "    88% ...\n",
      "[3] Estimating global rates...\n"
     ]
    },
    {
     "name": "stdout",
     "output_type": "stream",
     "text": [
      "[1] 33\n"
     ]
    },
    {
     "name": "stderr",
     "output_type": "stream",
     "text": [
      "[1] Loading the environment...\n",
      "[2] Annotating the mutations...\n",
      "Warning message in dndscv(dfback, gene_list = randomgenestemp$V1, outp = 1, refdb = \"data/dndscv/dndscv_data/data/RefCDS_human_GRCh38.p12.rda\"):\n",
      "“Mutations observed in contiguous sites within a sample. Please annotate or remove dinucleotide or complex substitutions for best results.”Warning message in dndscv(dfback, gene_list = randomgenestemp$V1, outp = 1, refdb = \"data/dndscv/dndscv_data/data/RefCDS_human_GRCh38.p12.rda\"):\n",
      "“Same mutations observed in different sampleIDs. Please verify that these are independent events and remove duplicates otherwise.”    Note: 1696 mutations removed for exceeding the limit of mutations per gene per sample\n",
      "    15% ...\n",
      "    30% ...\n",
      "    45% ...\n",
      "    60% ...\n",
      "    75% ...\n",
      "    90% ...\n",
      "[3] Estimating global rates...\n"
     ]
    },
    {
     "name": "stdout",
     "output_type": "stream",
     "text": [
      "[1] 34\n"
     ]
    },
    {
     "name": "stderr",
     "output_type": "stream",
     "text": [
      "[1] Loading the environment...\n",
      "[2] Annotating the mutations...\n",
      "Warning message in dndscv(dfback, gene_list = randomgenestemp$V1, outp = 1, refdb = \"data/dndscv/dndscv_data/data/RefCDS_human_GRCh38.p12.rda\"):\n",
      "“Mutations observed in contiguous sites within a sample. Please annotate or remove dinucleotide or complex substitutions for best results.”Warning message in dndscv(dfback, gene_list = randomgenestemp$V1, outp = 1, refdb = \"data/dndscv/dndscv_data/data/RefCDS_human_GRCh38.p12.rda\"):\n",
      "“Same mutations observed in different sampleIDs. Please verify that these are independent events and remove duplicates otherwise.”    Note: 2330 mutations removed for exceeding the limit of mutations per gene per sample\n",
      "    15% ...\n",
      "    29% ...\n",
      "    44% ...\n",
      "    59% ...\n",
      "    74% ...\n",
      "    88% ...\n",
      "[3] Estimating global rates...\n"
     ]
    },
    {
     "name": "stdout",
     "output_type": "stream",
     "text": [
      "[1] 35\n"
     ]
    },
    {
     "name": "stderr",
     "output_type": "stream",
     "text": [
      "[1] Loading the environment...\n",
      "[2] Annotating the mutations...\n",
      "Warning message in dndscv(dfback, gene_list = randomgenestemp$V1, outp = 1, refdb = \"data/dndscv/dndscv_data/data/RefCDS_human_GRCh38.p12.rda\"):\n",
      "“Mutations observed in contiguous sites within a sample. Please annotate or remove dinucleotide or complex substitutions for best results.”Warning message in dndscv(dfback, gene_list = randomgenestemp$V1, outp = 1, refdb = \"data/dndscv/dndscv_data/data/RefCDS_human_GRCh38.p12.rda\"):\n",
      "“Same mutations observed in different sampleIDs. Please verify that these are independent events and remove duplicates otherwise.”    Note: 2192 mutations removed for exceeding the limit of mutations per gene per sample\n",
      "    15% ...\n",
      "    31% ...\n",
      "    46% ...\n",
      "    61% ...\n",
      "    77% ...\n",
      "    92% ...\n",
      "[3] Estimating global rates...\n"
     ]
    },
    {
     "name": "stdout",
     "output_type": "stream",
     "text": [
      "[1] 36\n"
     ]
    },
    {
     "name": "stderr",
     "output_type": "stream",
     "text": [
      "[1] Loading the environment...\n",
      "[2] Annotating the mutations...\n",
      "Warning message in dndscv(dfback, gene_list = randomgenestemp$V1, outp = 1, refdb = \"data/dndscv/dndscv_data/data/RefCDS_human_GRCh38.p12.rda\"):\n",
      "“Mutations observed in contiguous sites within a sample. Please annotate or remove dinucleotide or complex substitutions for best results.”Warning message in dndscv(dfback, gene_list = randomgenestemp$V1, outp = 1, refdb = \"data/dndscv/dndscv_data/data/RefCDS_human_GRCh38.p12.rda\"):\n",
      "“Same mutations observed in different sampleIDs. Please verify that these are independent events and remove duplicates otherwise.”    Note: 1803 mutations removed for exceeding the limit of mutations per gene per sample\n",
      "    15% ...\n",
      "    31% ...\n",
      "    46% ...\n",
      "    61% ...\n",
      "    77% ...\n",
      "    92% ...\n",
      "[3] Estimating global rates...\n"
     ]
    },
    {
     "name": "stdout",
     "output_type": "stream",
     "text": [
      "[1] 37\n"
     ]
    },
    {
     "name": "stderr",
     "output_type": "stream",
     "text": [
      "[1] Loading the environment...\n",
      "[2] Annotating the mutations...\n",
      "Warning message in dndscv(dfback, gene_list = randomgenestemp$V1, outp = 1, refdb = \"data/dndscv/dndscv_data/data/RefCDS_human_GRCh38.p12.rda\"):\n",
      "“Mutations observed in contiguous sites within a sample. Please annotate or remove dinucleotide or complex substitutions for best results.”Warning message in dndscv(dfback, gene_list = randomgenestemp$V1, outp = 1, refdb = \"data/dndscv/dndscv_data/data/RefCDS_human_GRCh38.p12.rda\"):\n",
      "“Same mutations observed in different sampleIDs. Please verify that these are independent events and remove duplicates otherwise.”    Note: 5509 mutations removed for exceeding the limit of mutations per gene per sample\n",
      "    15% ...\n",
      "    30% ...\n",
      "    44% ...\n",
      "    59% ...\n",
      "    74% ...\n",
      "    89% ...\n",
      "[3] Estimating global rates...\n"
     ]
    },
    {
     "name": "stdout",
     "output_type": "stream",
     "text": [
      "[1] 38\n"
     ]
    },
    {
     "name": "stderr",
     "output_type": "stream",
     "text": [
      "[1] Loading the environment...\n",
      "[2] Annotating the mutations...\n",
      "Warning message in dndscv(dfback, gene_list = randomgenestemp$V1, outp = 1, refdb = \"data/dndscv/dndscv_data/data/RefCDS_human_GRCh38.p12.rda\"):\n",
      "“Mutations observed in contiguous sites within a sample. Please annotate or remove dinucleotide or complex substitutions for best results.”Warning message in dndscv(dfback, gene_list = randomgenestemp$V1, outp = 1, refdb = \"data/dndscv/dndscv_data/data/RefCDS_human_GRCh38.p12.rda\"):\n",
      "“Same mutations observed in different sampleIDs. Please verify that these are independent events and remove duplicates otherwise.”    Note: 1696 mutations removed for exceeding the limit of mutations per gene per sample\n",
      "    15% ...\n",
      "    31% ...\n",
      "    46% ...\n",
      "    62% ...\n",
      "    77% ...\n",
      "    92% ...\n",
      "[3] Estimating global rates...\n"
     ]
    },
    {
     "name": "stdout",
     "output_type": "stream",
     "text": [
      "[1] 39\n"
     ]
    },
    {
     "name": "stderr",
     "output_type": "stream",
     "text": [
      "[1] Loading the environment...\n",
      "[2] Annotating the mutations...\n",
      "Warning message in dndscv(dfback, gene_list = randomgenestemp$V1, outp = 1, refdb = \"data/dndscv/dndscv_data/data/RefCDS_human_GRCh38.p12.rda\"):\n",
      "“Mutations observed in contiguous sites within a sample. Please annotate or remove dinucleotide or complex substitutions for best results.”Warning message in dndscv(dfback, gene_list = randomgenestemp$V1, outp = 1, refdb = \"data/dndscv/dndscv_data/data/RefCDS_human_GRCh38.p12.rda\"):\n",
      "“Same mutations observed in different sampleIDs. Please verify that these are independent events and remove duplicates otherwise.”    Note: 1880 mutations removed for exceeding the limit of mutations per gene per sample\n",
      "    15% ...\n",
      "    30% ...\n",
      "    45% ...\n",
      "    61% ...\n",
      "    76% ...\n",
      "    91% ...\n",
      "[3] Estimating global rates...\n"
     ]
    },
    {
     "name": "stdout",
     "output_type": "stream",
     "text": [
      "[1] 40\n"
     ]
    },
    {
     "name": "stderr",
     "output_type": "stream",
     "text": [
      "[1] Loading the environment...\n",
      "[2] Annotating the mutations...\n",
      "Warning message in dndscv(dfback, gene_list = randomgenestemp$V1, outp = 1, refdb = \"data/dndscv/dndscv_data/data/RefCDS_human_GRCh38.p12.rda\"):\n",
      "“Mutations observed in contiguous sites within a sample. Please annotate or remove dinucleotide or complex substitutions for best results.”Warning message in dndscv(dfback, gene_list = randomgenestemp$V1, outp = 1, refdb = \"data/dndscv/dndscv_data/data/RefCDS_human_GRCh38.p12.rda\"):\n",
      "“Same mutations observed in different sampleIDs. Please verify that these are independent events and remove duplicates otherwise.”    Note: 1798 mutations removed for exceeding the limit of mutations per gene per sample\n",
      "    15% ...\n",
      "    29% ...\n",
      "    44% ...\n",
      "    59% ...\n",
      "    73% ...\n",
      "    88% ...\n",
      "[3] Estimating global rates...\n"
     ]
    },
    {
     "name": "stdout",
     "output_type": "stream",
     "text": [
      "[1] 41\n"
     ]
    },
    {
     "name": "stderr",
     "output_type": "stream",
     "text": [
      "[1] Loading the environment...\n",
      "[2] Annotating the mutations...\n",
      "Warning message in dndscv(dfback, gene_list = randomgenestemp$V1, outp = 1, refdb = \"data/dndscv/dndscv_data/data/RefCDS_human_GRCh38.p12.rda\"):\n",
      "“Mutations observed in contiguous sites within a sample. Please annotate or remove dinucleotide or complex substitutions for best results.”Warning message in dndscv(dfback, gene_list = randomgenestemp$V1, outp = 1, refdb = \"data/dndscv/dndscv_data/data/RefCDS_human_GRCh38.p12.rda\"):\n",
      "“Same mutations observed in different sampleIDs. Please verify that these are independent events and remove duplicates otherwise.”    Note: 2869 mutations removed for exceeding the limit of mutations per gene per sample\n",
      "    15% ...\n",
      "    31% ...\n",
      "    46% ...\n",
      "    62% ...\n",
      "    77% ...\n",
      "    93% ...\n",
      "[3] Estimating global rates...\n"
     ]
    },
    {
     "name": "stdout",
     "output_type": "stream",
     "text": [
      "[1] 42\n"
     ]
    },
    {
     "name": "stderr",
     "output_type": "stream",
     "text": [
      "[1] Loading the environment...\n",
      "[2] Annotating the mutations...\n",
      "Warning message in dndscv(dfback, gene_list = randomgenestemp$V1, outp = 1, refdb = \"data/dndscv/dndscv_data/data/RefCDS_human_GRCh38.p12.rda\"):\n",
      "“Mutations observed in contiguous sites within a sample. Please annotate or remove dinucleotide or complex substitutions for best results.”Warning message in dndscv(dfback, gene_list = randomgenestemp$V1, outp = 1, refdb = \"data/dndscv/dndscv_data/data/RefCDS_human_GRCh38.p12.rda\"):\n",
      "“Same mutations observed in different sampleIDs. Please verify that these are independent events and remove duplicates otherwise.”    Note: 1666 mutations removed for exceeding the limit of mutations per gene per sample\n",
      "    16% ...\n",
      "    31% ...\n",
      "    47% ...\n",
      "    62% ...\n",
      "    78% ...\n",
      "    93% ...\n",
      "[3] Estimating global rates...\n"
     ]
    },
    {
     "name": "stdout",
     "output_type": "stream",
     "text": [
      "[1] 43\n"
     ]
    },
    {
     "name": "stderr",
     "output_type": "stream",
     "text": [
      "[1] Loading the environment...\n",
      "[2] Annotating the mutations...\n",
      "Warning message in dndscv(dfback, gene_list = randomgenestemp$V1, outp = 1, refdb = \"data/dndscv/dndscv_data/data/RefCDS_human_GRCh38.p12.rda\"):\n",
      "“Mutations observed in contiguous sites within a sample. Please annotate or remove dinucleotide or complex substitutions for best results.”Warning message in dndscv(dfback, gene_list = randomgenestemp$V1, outp = 1, refdb = \"data/dndscv/dndscv_data/data/RefCDS_human_GRCh38.p12.rda\"):\n",
      "“Same mutations observed in different sampleIDs. Please verify that these are independent events and remove duplicates otherwise.”    Note: 2310 mutations removed for exceeding the limit of mutations per gene per sample\n",
      "    15% ...\n",
      "    31% ...\n",
      "    46% ...\n",
      "    61% ...\n",
      "    76% ...\n",
      "    92% ...\n",
      "[3] Estimating global rates...\n"
     ]
    },
    {
     "name": "stdout",
     "output_type": "stream",
     "text": [
      "[1] 44\n"
     ]
    },
    {
     "name": "stderr",
     "output_type": "stream",
     "text": [
      "[1] Loading the environment...\n",
      "[2] Annotating the mutations...\n",
      "Warning message in dndscv(dfback, gene_list = randomgenestemp$V1, outp = 1, refdb = \"data/dndscv/dndscv_data/data/RefCDS_human_GRCh38.p12.rda\"):\n",
      "“Mutations observed in contiguous sites within a sample. Please annotate or remove dinucleotide or complex substitutions for best results.”Warning message in dndscv(dfback, gene_list = randomgenestemp$V1, outp = 1, refdb = \"data/dndscv/dndscv_data/data/RefCDS_human_GRCh38.p12.rda\"):\n",
      "“Same mutations observed in different sampleIDs. Please verify that these are independent events and remove duplicates otherwise.”    Note: 1610 mutations removed for exceeding the limit of mutations per gene per sample\n",
      "    16% ...\n",
      "    32% ...\n",
      "    47% ...\n",
      "    63% ...\n",
      "    79% ...\n",
      "    95% ...\n",
      "[3] Estimating global rates...\n"
     ]
    },
    {
     "name": "stdout",
     "output_type": "stream",
     "text": [
      "[1] 45\n"
     ]
    },
    {
     "name": "stderr",
     "output_type": "stream",
     "text": [
      "[1] Loading the environment...\n",
      "[2] Annotating the mutations...\n",
      "Warning message in dndscv(dfback, gene_list = randomgenestemp$V1, outp = 1, refdb = \"data/dndscv/dndscv_data/data/RefCDS_human_GRCh38.p12.rda\"):\n",
      "“Mutations observed in contiguous sites within a sample. Please annotate or remove dinucleotide or complex substitutions for best results.”Warning message in dndscv(dfback, gene_list = randomgenestemp$V1, outp = 1, refdb = \"data/dndscv/dndscv_data/data/RefCDS_human_GRCh38.p12.rda\"):\n",
      "“Same mutations observed in different sampleIDs. Please verify that these are independent events and remove duplicates otherwise.”    Note: 1965 mutations removed for exceeding the limit of mutations per gene per sample\n",
      "    15% ...\n",
      "    30% ...\n",
      "    45% ...\n",
      "    60% ...\n",
      "    76% ...\n",
      "    91% ...\n",
      "[3] Estimating global rates...\n"
     ]
    },
    {
     "name": "stdout",
     "output_type": "stream",
     "text": [
      "[1] 46\n"
     ]
    },
    {
     "name": "stderr",
     "output_type": "stream",
     "text": [
      "[1] Loading the environment...\n",
      "[2] Annotating the mutations...\n",
      "Warning message in dndscv(dfback, gene_list = randomgenestemp$V1, outp = 1, refdb = \"data/dndscv/dndscv_data/data/RefCDS_human_GRCh38.p12.rda\"):\n",
      "“Mutations observed in contiguous sites within a sample. Please annotate or remove dinucleotide or complex substitutions for best results.”Warning message in dndscv(dfback, gene_list = randomgenestemp$V1, outp = 1, refdb = \"data/dndscv/dndscv_data/data/RefCDS_human_GRCh38.p12.rda\"):\n",
      "“Same mutations observed in different sampleIDs. Please verify that these are independent events and remove duplicates otherwise.”    Note: 2900 mutations removed for exceeding the limit of mutations per gene per sample\n",
      "    14% ...\n",
      "    29% ...\n",
      "    43% ...\n",
      "    58% ...\n",
      "    72% ...\n",
      "    86% ...\n",
      "[3] Estimating global rates...\n"
     ]
    },
    {
     "name": "stdout",
     "output_type": "stream",
     "text": [
      "[1] 47\n"
     ]
    },
    {
     "name": "stderr",
     "output_type": "stream",
     "text": [
      "[1] Loading the environment...\n",
      "[2] Annotating the mutations...\n",
      "Warning message in dndscv(dfback, gene_list = randomgenestemp$V1, outp = 1, refdb = \"data/dndscv/dndscv_data/data/RefCDS_human_GRCh38.p12.rda\"):\n",
      "“Mutations observed in contiguous sites within a sample. Please annotate or remove dinucleotide or complex substitutions for best results.”Warning message in dndscv(dfback, gene_list = randomgenestemp$V1, outp = 1, refdb = \"data/dndscv/dndscv_data/data/RefCDS_human_GRCh38.p12.rda\"):\n",
      "“Same mutations observed in different sampleIDs. Please verify that these are independent events and remove duplicates otherwise.”    Note: 1915 mutations removed for exceeding the limit of mutations per gene per sample\n",
      "    16% ...\n",
      "    31% ...\n",
      "    47% ...\n",
      "    63% ...\n",
      "    78% ...\n",
      "    94% ...\n",
      "[3] Estimating global rates...\n"
     ]
    },
    {
     "name": "stdout",
     "output_type": "stream",
     "text": [
      "[1] 48\n"
     ]
    },
    {
     "name": "stderr",
     "output_type": "stream",
     "text": [
      "[1] Loading the environment...\n",
      "[2] Annotating the mutations...\n",
      "Warning message in dndscv(dfback, gene_list = randomgenestemp$V1, outp = 1, refdb = \"data/dndscv/dndscv_data/data/RefCDS_human_GRCh38.p12.rda\"):\n",
      "“Mutations observed in contiguous sites within a sample. Please annotate or remove dinucleotide or complex substitutions for best results.”Warning message in dndscv(dfback, gene_list = randomgenestemp$V1, outp = 1, refdb = \"data/dndscv/dndscv_data/data/RefCDS_human_GRCh38.p12.rda\"):\n",
      "“Same mutations observed in different sampleIDs. Please verify that these are independent events and remove duplicates otherwise.”    Note: 3304 mutations removed for exceeding the limit of mutations per gene per sample\n",
      "    14% ...\n",
      "    29% ...\n",
      "    43% ...\n",
      "    58% ...\n",
      "    72% ...\n",
      "    86% ...\n",
      "[3] Estimating global rates...\n"
     ]
    },
    {
     "name": "stdout",
     "output_type": "stream",
     "text": [
      "[1] 49\n"
     ]
    },
    {
     "name": "stderr",
     "output_type": "stream",
     "text": [
      "[1] Loading the environment...\n",
      "[2] Annotating the mutations...\n",
      "Warning message in dndscv(dfback, gene_list = randomgenestemp$V1, outp = 1, refdb = \"data/dndscv/dndscv_data/data/RefCDS_human_GRCh38.p12.rda\"):\n",
      "“Mutations observed in contiguous sites within a sample. Please annotate or remove dinucleotide or complex substitutions for best results.”Warning message in dndscv(dfback, gene_list = randomgenestemp$V1, outp = 1, refdb = \"data/dndscv/dndscv_data/data/RefCDS_human_GRCh38.p12.rda\"):\n",
      "“Same mutations observed in different sampleIDs. Please verify that these are independent events and remove duplicates otherwise.”    Note: 1866 mutations removed for exceeding the limit of mutations per gene per sample\n",
      "    16% ...\n",
      "    31% ...\n",
      "    47% ...\n",
      "    62% ...\n",
      "    78% ...\n",
      "    93% ...\n",
      "[3] Estimating global rates...\n"
     ]
    },
    {
     "name": "stdout",
     "output_type": "stream",
     "text": [
      "[1] 50\n"
     ]
    },
    {
     "name": "stderr",
     "output_type": "stream",
     "text": [
      "[1] Loading the environment...\n",
      "[2] Annotating the mutations...\n",
      "Warning message in dndscv(dfback, gene_list = randomgenestemp$V1, outp = 1, refdb = \"data/dndscv/dndscv_data/data/RefCDS_human_GRCh38.p12.rda\"):\n",
      "“Mutations observed in contiguous sites within a sample. Please annotate or remove dinucleotide or complex substitutions for best results.”Warning message in dndscv(dfback, gene_list = randomgenestemp$V1, outp = 1, refdb = \"data/dndscv/dndscv_data/data/RefCDS_human_GRCh38.p12.rda\"):\n",
      "“Same mutations observed in different sampleIDs. Please verify that these are independent events and remove duplicates otherwise.”    Note: 1276 mutations removed for exceeding the limit of mutations per gene per sample\n",
      "    16% ...\n",
      "    32% ...\n",
      "    48% ...\n",
      "    64% ...\n",
      "    80% ...\n",
      "    96% ...\n",
      "[3] Estimating global rates...\n"
     ]
    }
   ],
   "source": [
    "library(dndscv)\n",
    "library(Hmisc)\n",
    "dndsrandom <- data.frame()\n",
    "\n",
    "for (i in 1:50){\n",
    "    print(i)\n",
    "    randomgenestemp <- read.table(\"data/genelists/refcdsgenes.txt\", header = TRUE) %>%\n",
    "        filter(!V1 %in% cellessential$V1, !V1 %in% drivers$V1) %>%\n",
    "        sample_n(1000)\n",
    "    x <- dndscv(dfback, gene_list = randomgenestemp$V1, outp = 1, \n",
    "                refdb = \"data/dndscv/dndscv_data/data/RefCDS_human_GRCh38.p12.rda\")\n",
    "    out <- x$globaldnds %>% mutate(mutationtype = \"randomgenes\")\n",
    "    dndsrandom <- rbind(dndsrandom, out)\n",
    "}"
   ]
  },
  {
   "cell_type": "code",
   "execution_count": 32,
   "metadata": {},
   "outputs": [
    {
     "data": {},
     "metadata": {},
     "output_type": "display_data"
    },
    {
     "data": {
      "image/png": "[encoded data removed]",
      "text/plain": [
       "plot without title"
      ]
     },
     "metadata": {},
     "output_type": "display_data"
    }
   ],
   "source": [
    "dndsrandom %>%\n",
    "    ggplot(aes(x = mle, fill = name)) +\n",
    "    geom_density(alpha = 0.5) +\n",
    "    xlab(\"dN/dS\") +\n",
    "    ylab(\"Density\")"
   ]
  },
  {
   "cell_type": "code",
   "execution_count": 33,
   "metadata": {},
   "outputs": [
    {
     "data": {
      "text/html": [
       "<table>\n",
       "<thead><tr><th scope=col>name</th><th scope=col>dndslq_bl</th><th scope=col>dnds_bl</th><th scope=col>dndsuq_bl</th></tr></thead>\n",
       "<tbody>\n",
       "\t<tr><td>wmis     </td><td>1.0392018</td><td>1.0606094</td><td>1.0832498</td></tr>\n",
       "\t<tr><td>wnon     </td><td>1.2074508</td><td>1.2603777</td><td>1.3249290</td></tr>\n",
       "\t<tr><td>wspl     </td><td>0.6368893</td><td>0.6867385</td><td>0.7300162</td></tr>\n",
       "\t<tr><td>wall     </td><td>1.0418623</td><td>1.0648633</td><td>1.0880009</td></tr>\n",
       "\t<tr><td>wtru     </td><td>1.0332807</td><td>1.0775343</td><td>1.1279366</td></tr>\n",
       "</tbody>\n",
       "</table>\n"
      ],
      "text/latex": [
       "\\begin{tabular}{r|llll}\n",
       " name & dndslq\\_bl & dnds\\_bl & dndsuq\\_bl\\\\\n",
       "\\hline\n",
       "\t wmis      & 1.0392018 & 1.0606094 & 1.0832498\\\\\n",
       "\t wnon      & 1.2074508 & 1.2603777 & 1.3249290\\\\\n",
       "\t wspl      & 0.6368893 & 0.6867385 & 0.7300162\\\\\n",
       "\t wall      & 1.0418623 & 1.0648633 & 1.0880009\\\\\n",
       "\t wtru      & 1.0332807 & 1.0775343 & 1.1279366\\\\\n",
       "\\end{tabular}\n"
      ],
      "text/markdown": [
       "\n",
       "name | dndslq_bl | dnds_bl | dndsuq_bl | \n",
       "|---|---|---|---|---|\n",
       "| wmis      | 1.0392018 | 1.0606094 | 1.0832498 | \n",
       "| wnon      | 1.2074508 | 1.2603777 | 1.3249290 | \n",
       "| wspl      | 0.6368893 | 0.6867385 | 0.7300162 | \n",
       "| wall      | 1.0418623 | 1.0648633 | 1.0880009 | \n",
       "| wtru      | 1.0332807 | 1.0775343 | 1.1279366 | \n",
       "\n",
       "\n"
      ],
      "text/plain": [
       "  name dndslq_bl dnds_bl   dndsuq_bl\n",
       "1 wmis 1.0392018 1.0606094 1.0832498\n",
       "2 wnon 1.2074508 1.2603777 1.3249290\n",
       "3 wspl 0.6368893 0.6867385 0.7300162\n",
       "4 wall 1.0418623 1.0648633 1.0880009\n",
       "5 wtru 1.0332807 1.0775343 1.1279366"
      ]
     },
     "metadata": {},
     "output_type": "display_data"
    }
   ],
   "source": [
    "baseline <- dndsrandom %>%\n",
    "    group_by(name) %>%\n",
    "    summarise(dndslq_bl = quantile(mle, 0.025), dnds_bl = mean(mle), dndsuq_bl = quantile(mle, 0.975))\n",
    "write_csv(baseline, \"FinalFigures/data_for_figures/dNdS_baseline.csv\")\n",
    "baseline"
   ]
  },
  {
   "cell_type": "code",
   "execution_count": 34,
   "metadata": {},
   "outputs": [
    {
     "name": "stdout",
     "output_type": "stream",
     "text": [
      "[1] 1\n"
     ]
    },
    {
     "name": "stderr",
     "output_type": "stream",
     "text": [
      "[1] Loading the environment...\n",
      "[2] Annotating the mutations...\n",
      "Warning message in dndscv(dfback, gene_list = randomgenestemp$V1, outp = 1, refdb = \"data/dndscv/dndscv_data/data/RefCDS_human_GRCh38.p12.rda\"):\n",
      "“Mutations observed in contiguous sites within a sample. Please annotate or remove dinucleotide or complex substitutions for best results.”Warning message in dndscv(dfback, gene_list = randomgenestemp$V1, outp = 1, refdb = \"data/dndscv/dndscv_data/data/RefCDS_human_GRCh38.p12.rda\"):\n",
      "“Same mutations observed in different sampleIDs. Please verify that these are independent events and remove duplicates otherwise.”    Note: 2100 mutations removed for exceeding the limit of mutations per gene per sample\n",
      "    16% ...\n",
      "    31% ...\n",
      "    47% ...\n",
      "    62% ...\n",
      "    78% ...\n",
      "    93% ...\n",
      "[3] Estimating global rates...\n"
     ]
    },
    {
     "name": "stdout",
     "output_type": "stream",
     "text": [
      "[1] 2\n"
     ]
    },
    {
     "name": "stderr",
     "output_type": "stream",
     "text": [
      "[1] Loading the environment...\n",
      "[2] Annotating the mutations...\n",
      "Warning message in dndscv(dfback, gene_list = randomgenestemp$V1, outp = 1, refdb = \"data/dndscv/dndscv_data/data/RefCDS_human_GRCh38.p12.rda\"):\n",
      "“Mutations observed in contiguous sites within a sample. Please annotate or remove dinucleotide or complex substitutions for best results.”Warning message in dndscv(dfback, gene_list = randomgenestemp$V1, outp = 1, refdb = \"data/dndscv/dndscv_data/data/RefCDS_human_GRCh38.p12.rda\"):\n",
      "“Same mutations observed in different sampleIDs. Please verify that these are independent events and remove duplicates otherwise.”    Note: 3154 mutations removed for exceeding the limit of mutations per gene per sample\n",
      "    14% ...\n",
      "    29% ...\n",
      "    43% ...\n",
      "    58% ...\n",
      "    72% ...\n",
      "    86% ...\n",
      "[3] Estimating global rates...\n"
     ]
    },
    {
     "name": "stdout",
     "output_type": "stream",
     "text": [
      "[1] 3\n"
     ]
    },
    {
     "name": "stderr",
     "output_type": "stream",
     "text": [
      "[1] Loading the environment...\n",
      "[2] Annotating the mutations...\n",
      "Warning message in dndscv(dfback, gene_list = randomgenestemp$V1, outp = 1, refdb = \"data/dndscv/dndscv_data/data/RefCDS_human_GRCh38.p12.rda\"):\n",
      "“Mutations observed in contiguous sites within a sample. Please annotate or remove dinucleotide or complex substitutions for best results.”Warning message in dndscv(dfback, gene_list = randomgenestemp$V1, outp = 1, refdb = \"data/dndscv/dndscv_data/data/RefCDS_human_GRCh38.p12.rda\"):\n",
      "“Same mutations observed in different sampleIDs. Please verify that these are independent events and remove duplicates otherwise.”    Note: 3205 mutations removed for exceeding the limit of mutations per gene per sample\n",
      "    15% ...\n",
      "    30% ...\n",
      "    45% ...\n",
      "    60% ...\n",
      "    75% ...\n",
      "    91% ...\n",
      "[3] Estimating global rates...\n"
     ]
    },
    {
     "name": "stdout",
     "output_type": "stream",
     "text": [
      "[1] 4\n"
     ]
    },
    {
     "name": "stderr",
     "output_type": "stream",
     "text": [
      "[1] Loading the environment...\n",
      "[2] Annotating the mutations...\n",
      "Warning message in dndscv(dfback, gene_list = randomgenestemp$V1, outp = 1, refdb = \"data/dndscv/dndscv_data/data/RefCDS_human_GRCh38.p12.rda\"):\n",
      "“Mutations observed in contiguous sites within a sample. Please annotate or remove dinucleotide or complex substitutions for best results.”Warning message in dndscv(dfback, gene_list = randomgenestemp$V1, outp = 1, refdb = \"data/dndscv/dndscv_data/data/RefCDS_human_GRCh38.p12.rda\"):\n",
      "“Same mutations observed in different sampleIDs. Please verify that these are independent events and remove duplicates otherwise.”    Note: 1580 mutations removed for exceeding the limit of mutations per gene per sample\n",
      "    16% ...\n",
      "    32% ...\n",
      "    48% ...\n",
      "    64% ...\n",
      "    80% ...\n",
      "    96% ...\n",
      "[3] Estimating global rates...\n"
     ]
    },
    {
     "name": "stdout",
     "output_type": "stream",
     "text": [
      "[1] 5\n"
     ]
    },
    {
     "name": "stderr",
     "output_type": "stream",
     "text": [
      "[1] Loading the environment...\n",
      "[2] Annotating the mutations...\n",
      "Warning message in dndscv(dfback, gene_list = randomgenestemp$V1, outp = 1, refdb = \"data/dndscv/dndscv_data/data/RefCDS_human_GRCh38.p12.rda\"):\n",
      "“Mutations observed in contiguous sites within a sample. Please annotate or remove dinucleotide or complex substitutions for best results.”Warning message in dndscv(dfback, gene_list = randomgenestemp$V1, outp = 1, refdb = \"data/dndscv/dndscv_data/data/RefCDS_human_GRCh38.p12.rda\"):\n",
      "“Same mutations observed in different sampleIDs. Please verify that these are independent events and remove duplicates otherwise.”    Note: 1851 mutations removed for exceeding the limit of mutations per gene per sample\n",
      "    15% ...\n",
      "    31% ...\n",
      "    46% ...\n",
      "    61% ...\n",
      "    76% ...\n",
      "    92% ...\n",
      "[3] Estimating global rates...\n"
     ]
    },
    {
     "name": "stdout",
     "output_type": "stream",
     "text": [
      "[1] 6\n"
     ]
    },
    {
     "name": "stderr",
     "output_type": "stream",
     "text": [
      "[1] Loading the environment...\n",
      "[2] Annotating the mutations...\n",
      "Warning message in dndscv(dfback, gene_list = randomgenestemp$V1, outp = 1, refdb = \"data/dndscv/dndscv_data/data/RefCDS_human_GRCh38.p12.rda\"):\n",
      "“Mutations observed in contiguous sites within a sample. Please annotate or remove dinucleotide or complex substitutions for best results.”Warning message in dndscv(dfback, gene_list = randomgenestemp$V1, outp = 1, refdb = \"data/dndscv/dndscv_data/data/RefCDS_human_GRCh38.p12.rda\"):\n",
      "“Same mutations observed in different sampleIDs. Please verify that these are independent events and remove duplicates otherwise.”    Note: 1851 mutations removed for exceeding the limit of mutations per gene per sample\n",
      "    16% ...\n",
      "    31% ...\n",
      "    47% ...\n",
      "    62% ...\n",
      "    78% ...\n",
      "    93% ...\n",
      "[3] Estimating global rates...\n"
     ]
    },
    {
     "name": "stdout",
     "output_type": "stream",
     "text": [
      "[1] 7\n"
     ]
    },
    {
     "name": "stderr",
     "output_type": "stream",
     "text": [
      "[1] Loading the environment...\n",
      "[2] Annotating the mutations...\n",
      "Warning message in dndscv(dfback, gene_list = randomgenestemp$V1, outp = 1, refdb = \"data/dndscv/dndscv_data/data/RefCDS_human_GRCh38.p12.rda\"):\n",
      "“Mutations observed in contiguous sites within a sample. Please annotate or remove dinucleotide or complex substitutions for best results.”Warning message in dndscv(dfback, gene_list = randomgenestemp$V1, outp = 1, refdb = \"data/dndscv/dndscv_data/data/RefCDS_human_GRCh38.p12.rda\"):\n",
      "“Same mutations observed in different sampleIDs. Please verify that these are independent events and remove duplicates otherwise.”    Note: 1813 mutations removed for exceeding the limit of mutations per gene per sample\n",
      "    15% ...\n",
      "    31% ...\n",
      "    46% ...\n",
      "    62% ...\n",
      "    77% ...\n",
      "    93% ...\n",
      "[3] Estimating global rates...\n"
     ]
    },
    {
     "name": "stdout",
     "output_type": "stream",
     "text": [
      "[1] 8\n"
     ]
    },
    {
     "name": "stderr",
     "output_type": "stream",
     "text": [
      "[1] Loading the environment...\n",
      "[2] Annotating the mutations...\n",
      "Warning message in dndscv(dfback, gene_list = randomgenestemp$V1, outp = 1, refdb = \"data/dndscv/dndscv_data/data/RefCDS_human_GRCh38.p12.rda\"):\n",
      "“Mutations observed in contiguous sites within a sample. Please annotate or remove dinucleotide or complex substitutions for best results.”Warning message in dndscv(dfback, gene_list = randomgenestemp$V1, outp = 1, refdb = \"data/dndscv/dndscv_data/data/RefCDS_human_GRCh38.p12.rda\"):\n",
      "“Same mutations observed in different sampleIDs. Please verify that these are independent events and remove duplicates otherwise.”    Note: 1799 mutations removed for exceeding the limit of mutations per gene per sample\n",
      "    15% ...\n",
      "    31% ...\n",
      "    46% ...\n",
      "    61% ...\n",
      "    76% ...\n",
      "    92% ...\n",
      "[3] Estimating global rates...\n"
     ]
    },
    {
     "name": "stdout",
     "output_type": "stream",
     "text": [
      "[1] 9\n"
     ]
    },
    {
     "name": "stderr",
     "output_type": "stream",
     "text": [
      "[1] Loading the environment...\n",
      "[2] Annotating the mutations...\n",
      "Warning message in dndscv(dfback, gene_list = randomgenestemp$V1, outp = 1, refdb = \"data/dndscv/dndscv_data/data/RefCDS_human_GRCh38.p12.rda\"):\n",
      "“Mutations observed in contiguous sites within a sample. Please annotate or remove dinucleotide or complex substitutions for best results.”Warning message in dndscv(dfback, gene_list = randomgenestemp$V1, outp = 1, refdb = \"data/dndscv/dndscv_data/data/RefCDS_human_GRCh38.p12.rda\"):\n",
      "“Same mutations observed in different sampleIDs. Please verify that these are independent events and remove duplicates otherwise.”    Note: 2695 mutations removed for exceeding the limit of mutations per gene per sample\n",
      "    15% ...\n",
      "    29% ...\n",
      "    44% ...\n",
      "    58% ...\n",
      "    73% ...\n",
      "    87% ...\n",
      "[3] Estimating global rates...\n"
     ]
    },
    {
     "name": "stdout",
     "output_type": "stream",
     "text": [
      "[1] 10\n"
     ]
    },
    {
     "name": "stderr",
     "output_type": "stream",
     "text": [
      "[1] Loading the environment...\n",
      "[2] Annotating the mutations...\n",
      "Warning message in dndscv(dfback, gene_list = randomgenestemp$V1, outp = 1, refdb = \"data/dndscv/dndscv_data/data/RefCDS_human_GRCh38.p12.rda\"):\n",
      "“Mutations observed in contiguous sites within a sample. Please annotate or remove dinucleotide or complex substitutions for best results.”Warning message in dndscv(dfback, gene_list = randomgenestemp$V1, outp = 1, refdb = \"data/dndscv/dndscv_data/data/RefCDS_human_GRCh38.p12.rda\"):\n",
      "“Same mutations observed in different sampleIDs. Please verify that these are independent events and remove duplicates otherwise.”    Note: 2116 mutations removed for exceeding the limit of mutations per gene per sample\n",
      "    15% ...\n",
      "    31% ...\n",
      "    46% ...\n",
      "    61% ...\n",
      "    76% ...\n",
      "    92% ...\n",
      "[3] Estimating global rates...\n"
     ]
    },
    {
     "name": "stdout",
     "output_type": "stream",
     "text": [
      "[1] 11\n"
     ]
    },
    {
     "name": "stderr",
     "output_type": "stream",
     "text": [
      "[1] Loading the environment...\n",
      "[2] Annotating the mutations...\n",
      "Warning message in dndscv(dfback, gene_list = randomgenestemp$V1, outp = 1, refdb = \"data/dndscv/dndscv_data/data/RefCDS_human_GRCh38.p12.rda\"):\n",
      "“Mutations observed in contiguous sites within a sample. Please annotate or remove dinucleotide or complex substitutions for best results.”Warning message in dndscv(dfback, gene_list = randomgenestemp$V1, outp = 1, refdb = \"data/dndscv/dndscv_data/data/RefCDS_human_GRCh38.p12.rda\"):\n",
      "“Same mutations observed in different sampleIDs. Please verify that these are independent events and remove duplicates otherwise.”    Note: 1387 mutations removed for exceeding the limit of mutations per gene per sample\n",
      "    16% ...\n",
      "    32% ...\n",
      "    48% ...\n",
      "    63% ...\n",
      "    79% ...\n",
      "    95% ...\n",
      "[3] Estimating global rates...\n"
     ]
    },
    {
     "name": "stdout",
     "output_type": "stream",
     "text": [
      "[1] 12\n"
     ]
    },
    {
     "name": "stderr",
     "output_type": "stream",
     "text": [
      "[1] Loading the environment...\n",
      "[2] Annotating the mutations...\n",
      "Warning message in dndscv(dfback, gene_list = randomgenestemp$V1, outp = 1, refdb = \"data/dndscv/dndscv_data/data/RefCDS_human_GRCh38.p12.rda\"):\n",
      "“Mutations observed in contiguous sites within a sample. Please annotate or remove dinucleotide or complex substitutions for best results.”Warning message in dndscv(dfback, gene_list = randomgenestemp$V1, outp = 1, refdb = \"data/dndscv/dndscv_data/data/RefCDS_human_GRCh38.p12.rda\"):\n",
      "“Same mutations observed in different sampleIDs. Please verify that these are independent events and remove duplicates otherwise.”    Note: 2691 mutations removed for exceeding the limit of mutations per gene per sample\n",
      "    15% ...\n",
      "    30% ...\n",
      "    44% ...\n",
      "    59% ...\n",
      "    74% ...\n",
      "    89% ...\n",
      "[3] Estimating global rates...\n"
     ]
    },
    {
     "name": "stdout",
     "output_type": "stream",
     "text": [
      "[1] 13\n"
     ]
    },
    {
     "name": "stderr",
     "output_type": "stream",
     "text": [
      "[1] Loading the environment...\n",
      "[2] Annotating the mutations...\n",
      "Warning message in dndscv(dfback, gene_list = randomgenestemp$V1, outp = 1, refdb = \"data/dndscv/dndscv_data/data/RefCDS_human_GRCh38.p12.rda\"):\n",
      "“Mutations observed in contiguous sites within a sample. Please annotate or remove dinucleotide or complex substitutions for best results.”Warning message in dndscv(dfback, gene_list = randomgenestemp$V1, outp = 1, refdb = \"data/dndscv/dndscv_data/data/RefCDS_human_GRCh38.p12.rda\"):\n",
      "“Same mutations observed in different sampleIDs. Please verify that these are independent events and remove duplicates otherwise.”    Note: 1443 mutations removed for exceeding the limit of mutations per gene per sample\n",
      "    16% ...\n",
      "    32% ...\n",
      "    48% ...\n",
      "    64% ...\n",
      "    79% ...\n",
      "    95% ...\n",
      "[3] Estimating global rates...\n"
     ]
    },
    {
     "name": "stdout",
     "output_type": "stream",
     "text": [
      "[1] 14\n"
     ]
    },
    {
     "name": "stderr",
     "output_type": "stream",
     "text": [
      "[1] Loading the environment...\n",
      "[2] Annotating the mutations...\n",
      "Warning message in dndscv(dfback, gene_list = randomgenestemp$V1, outp = 1, refdb = \"data/dndscv/dndscv_data/data/RefCDS_human_GRCh38.p12.rda\"):\n",
      "“Mutations observed in contiguous sites within a sample. Please annotate or remove dinucleotide or complex substitutions for best results.”Warning message in dndscv(dfback, gene_list = randomgenestemp$V1, outp = 1, refdb = \"data/dndscv/dndscv_data/data/RefCDS_human_GRCh38.p12.rda\"):\n",
      "“Same mutations observed in different sampleIDs. Please verify that these are independent events and remove duplicates otherwise.”    Note: 1582 mutations removed for exceeding the limit of mutations per gene per sample\n",
      "    16% ...\n",
      "    31% ...\n",
      "    47% ...\n",
      "    63% ...\n",
      "    79% ...\n",
      "    94% ...\n",
      "[3] Estimating global rates...\n"
     ]
    },
    {
     "name": "stdout",
     "output_type": "stream",
     "text": [
      "[1] 15\n"
     ]
    },
    {
     "name": "stderr",
     "output_type": "stream",
     "text": [
      "[1] Loading the environment...\n",
      "[2] Annotating the mutations...\n",
      "Warning message in dndscv(dfback, gene_list = randomgenestemp$V1, outp = 1, refdb = \"data/dndscv/dndscv_data/data/RefCDS_human_GRCh38.p12.rda\"):\n",
      "“Mutations observed in contiguous sites within a sample. Please annotate or remove dinucleotide or complex substitutions for best results.”Warning message in dndscv(dfback, gene_list = randomgenestemp$V1, outp = 1, refdb = \"data/dndscv/dndscv_data/data/RefCDS_human_GRCh38.p12.rda\"):\n",
      "“Same mutations observed in different sampleIDs. Please verify that these are independent events and remove duplicates otherwise.”    Note: 1996 mutations removed for exceeding the limit of mutations per gene per sample\n",
      "    15% ...\n",
      "    30% ...\n",
      "    45% ...\n",
      "    60% ...\n",
      "    75% ...\n",
      "    90% ...\n",
      "[3] Estimating global rates...\n"
     ]
    },
    {
     "name": "stdout",
     "output_type": "stream",
     "text": [
      "[1] 16\n"
     ]
    },
    {
     "name": "stderr",
     "output_type": "stream",
     "text": [
      "[1] Loading the environment...\n",
      "[2] Annotating the mutations...\n",
      "Warning message in dndscv(dfback, gene_list = randomgenestemp$V1, outp = 1, refdb = \"data/dndscv/dndscv_data/data/RefCDS_human_GRCh38.p12.rda\"):\n",
      "“Mutations observed in contiguous sites within a sample. Please annotate or remove dinucleotide or complex substitutions for best results.”Warning message in dndscv(dfback, gene_list = randomgenestemp$V1, outp = 1, refdb = \"data/dndscv/dndscv_data/data/RefCDS_human_GRCh38.p12.rda\"):\n",
      "“Same mutations observed in different sampleIDs. Please verify that these are independent events and remove duplicates otherwise.”    Note: 2026 mutations removed for exceeding the limit of mutations per gene per sample\n",
      "    15% ...\n",
      "    30% ...\n",
      "    45% ...\n",
      "    60% ...\n",
      "    75% ...\n",
      "    90% ...\n",
      "[3] Estimating global rates...\n"
     ]
    },
    {
     "name": "stdout",
     "output_type": "stream",
     "text": [
      "[1] 17\n"
     ]
    },
    {
     "name": "stderr",
     "output_type": "stream",
     "text": [
      "[1] Loading the environment...\n",
      "[2] Annotating the mutations...\n",
      "Warning message in dndscv(dfback, gene_list = randomgenestemp$V1, outp = 1, refdb = \"data/dndscv/dndscv_data/data/RefCDS_human_GRCh38.p12.rda\"):\n",
      "“Mutations observed in contiguous sites within a sample. Please annotate or remove dinucleotide or complex substitutions for best results.”Warning message in dndscv(dfback, gene_list = randomgenestemp$V1, outp = 1, refdb = \"data/dndscv/dndscv_data/data/RefCDS_human_GRCh38.p12.rda\"):\n",
      "“Same mutations observed in different sampleIDs. Please verify that these are independent events and remove duplicates otherwise.”    Note: 1770 mutations removed for exceeding the limit of mutations per gene per sample\n",
      "    16% ...\n",
      "    32% ...\n",
      "    48% ...\n",
      "    64% ...\n",
      "    80% ...\n",
      "    96% ...\n",
      "[3] Estimating global rates...\n"
     ]
    },
    {
     "name": "stdout",
     "output_type": "stream",
     "text": [
      "[1] 18\n"
     ]
    },
    {
     "name": "stderr",
     "output_type": "stream",
     "text": [
      "[1] Loading the environment...\n",
      "[2] Annotating the mutations...\n",
      "Warning message in dndscv(dfback, gene_list = randomgenestemp$V1, outp = 1, refdb = \"data/dndscv/dndscv_data/data/RefCDS_human_GRCh38.p12.rda\"):\n",
      "“Mutations observed in contiguous sites within a sample. Please annotate or remove dinucleotide or complex substitutions for best results.”Warning message in dndscv(dfback, gene_list = randomgenestemp$V1, outp = 1, refdb = \"data/dndscv/dndscv_data/data/RefCDS_human_GRCh38.p12.rda\"):\n",
      "“Same mutations observed in different sampleIDs. Please verify that these are independent events and remove duplicates otherwise.”    Note: 2031 mutations removed for exceeding the limit of mutations per gene per sample\n",
      "    15% ...\n",
      "    30% ...\n",
      "    46% ...\n",
      "    61% ...\n",
      "    76% ...\n",
      "    91% ...\n",
      "[3] Estimating global rates...\n"
     ]
    },
    {
     "name": "stdout",
     "output_type": "stream",
     "text": [
      "[1] 19\n"
     ]
    },
    {
     "name": "stderr",
     "output_type": "stream",
     "text": [
      "[1] Loading the environment...\n",
      "[2] Annotating the mutations...\n",
      "Warning message in dndscv(dfback, gene_list = randomgenestemp$V1, outp = 1, refdb = \"data/dndscv/dndscv_data/data/RefCDS_human_GRCh38.p12.rda\"):\n",
      "“Mutations observed in contiguous sites within a sample. Please annotate or remove dinucleotide or complex substitutions for best results.”Warning message in dndscv(dfback, gene_list = randomgenestemp$V1, outp = 1, refdb = \"data/dndscv/dndscv_data/data/RefCDS_human_GRCh38.p12.rda\"):\n",
      "“Same mutations observed in different sampleIDs. Please verify that these are independent events and remove duplicates otherwise.”    Note: 1841 mutations removed for exceeding the limit of mutations per gene per sample\n",
      "    16% ...\n",
      "    31% ...\n",
      "    47% ...\n",
      "    62% ...\n",
      "    78% ...\n",
      "    94% ...\n",
      "[3] Estimating global rates...\n"
     ]
    },
    {
     "name": "stdout",
     "output_type": "stream",
     "text": [
      "[1] 20\n"
     ]
    },
    {
     "name": "stderr",
     "output_type": "stream",
     "text": [
      "[1] Loading the environment...\n",
      "[2] Annotating the mutations...\n",
      "Warning message in dndscv(dfback, gene_list = randomgenestemp$V1, outp = 1, refdb = \"data/dndscv/dndscv_data/data/RefCDS_human_GRCh38.p12.rda\"):\n",
      "“Mutations observed in contiguous sites within a sample. Please annotate or remove dinucleotide or complex substitutions for best results.”Warning message in dndscv(dfback, gene_list = randomgenestemp$V1, outp = 1, refdb = \"data/dndscv/dndscv_data/data/RefCDS_human_GRCh38.p12.rda\"):\n",
      "“Same mutations observed in different sampleIDs. Please verify that these are independent events and remove duplicates otherwise.”    Note: 2411 mutations removed for exceeding the limit of mutations per gene per sample\n",
      "    15% ...\n",
      "    29% ...\n",
      "    44% ...\n",
      "    58% ...\n",
      "    73% ...\n",
      "    87% ...\n",
      "[3] Estimating global rates...\n"
     ]
    },
    {
     "name": "stdout",
     "output_type": "stream",
     "text": [
      "[1] 21\n"
     ]
    },
    {
     "name": "stderr",
     "output_type": "stream",
     "text": [
      "[1] Loading the environment...\n",
      "[2] Annotating the mutations...\n",
      "Warning message in dndscv(dfback, gene_list = randomgenestemp$V1, outp = 1, refdb = \"data/dndscv/dndscv_data/data/RefCDS_human_GRCh38.p12.rda\"):\n",
      "“Mutations observed in contiguous sites within a sample. Please annotate or remove dinucleotide or complex substitutions for best results.”Warning message in dndscv(dfback, gene_list = randomgenestemp$V1, outp = 1, refdb = \"data/dndscv/dndscv_data/data/RefCDS_human_GRCh38.p12.rda\"):\n",
      "“Same mutations observed in different sampleIDs. Please verify that these are independent events and remove duplicates otherwise.”    Note: 2200 mutations removed for exceeding the limit of mutations per gene per sample\n",
      "    15% ...\n",
      "    30% ...\n",
      "    45% ...\n",
      "    60% ...\n",
      "    75% ...\n",
      "    90% ...\n",
      "[3] Estimating global rates...\n"
     ]
    },
    {
     "name": "stdout",
     "output_type": "stream",
     "text": [
      "[1] 22\n"
     ]
    },
    {
     "name": "stderr",
     "output_type": "stream",
     "text": [
      "[1] Loading the environment...\n",
      "[2] Annotating the mutations...\n",
      "Warning message in dndscv(dfback, gene_list = randomgenestemp$V1, outp = 1, refdb = \"data/dndscv/dndscv_data/data/RefCDS_human_GRCh38.p12.rda\"):\n",
      "“Mutations observed in contiguous sites within a sample. Please annotate or remove dinucleotide or complex substitutions for best results.”Warning message in dndscv(dfback, gene_list = randomgenestemp$V1, outp = 1, refdb = \"data/dndscv/dndscv_data/data/RefCDS_human_GRCh38.p12.rda\"):\n",
      "“Same mutations observed in different sampleIDs. Please verify that these are independent events and remove duplicates otherwise.”    Note: 1738 mutations removed for exceeding the limit of mutations per gene per sample\n",
      "    15% ...\n",
      "    31% ...\n",
      "    46% ...\n",
      "    61% ...\n",
      "    77% ...\n",
      "    92% ...\n",
      "[3] Estimating global rates...\n"
     ]
    },
    {
     "name": "stdout",
     "output_type": "stream",
     "text": [
      "[1] 23\n"
     ]
    },
    {
     "name": "stderr",
     "output_type": "stream",
     "text": [
      "[1] Loading the environment...\n",
      "[2] Annotating the mutations...\n",
      "Warning message in dndscv(dfback, gene_list = randomgenestemp$V1, outp = 1, refdb = \"data/dndscv/dndscv_data/data/RefCDS_human_GRCh38.p12.rda\"):\n",
      "“Mutations observed in contiguous sites within a sample. Please annotate or remove dinucleotide or complex substitutions for best results.”Warning message in dndscv(dfback, gene_list = randomgenestemp$V1, outp = 1, refdb = \"data/dndscv/dndscv_data/data/RefCDS_human_GRCh38.p12.rda\"):\n",
      "“Same mutations observed in different sampleIDs. Please verify that these are independent events and remove duplicates otherwise.”    Note: 1574 mutations removed for exceeding the limit of mutations per gene per sample\n",
      "    16% ...\n",
      "    32% ...\n",
      "    48% ...\n",
      "    64% ...\n",
      "    80% ...\n",
      "    97% ...\n",
      "[3] Estimating global rates...\n"
     ]
    },
    {
     "name": "stdout",
     "output_type": "stream",
     "text": [
      "[1] 24\n"
     ]
    },
    {
     "name": "stderr",
     "output_type": "stream",
     "text": [
      "[1] Loading the environment...\n",
      "[2] Annotating the mutations...\n",
      "Warning message in dndscv(dfback, gene_list = randomgenestemp$V1, outp = 1, refdb = \"data/dndscv/dndscv_data/data/RefCDS_human_GRCh38.p12.rda\"):\n",
      "“Mutations observed in contiguous sites within a sample. Please annotate or remove dinucleotide or complex substitutions for best results.”Warning message in dndscv(dfback, gene_list = randomgenestemp$V1, outp = 1, refdb = \"data/dndscv/dndscv_data/data/RefCDS_human_GRCh38.p12.rda\"):\n",
      "“Same mutations observed in different sampleIDs. Please verify that these are independent events and remove duplicates otherwise.”    Note: 1895 mutations removed for exceeding the limit of mutations per gene per sample\n",
      "    16% ...\n",
      "    31% ...\n",
      "    47% ...\n",
      "    63% ...\n",
      "    79% ...\n",
      "    94% ...\n",
      "[3] Estimating global rates...\n"
     ]
    },
    {
     "name": "stdout",
     "output_type": "stream",
     "text": [
      "[1] 25\n"
     ]
    },
    {
     "name": "stderr",
     "output_type": "stream",
     "text": [
      "[1] Loading the environment...\n",
      "[2] Annotating the mutations...\n",
      "Warning message in dndscv(dfback, gene_list = randomgenestemp$V1, outp = 1, refdb = \"data/dndscv/dndscv_data/data/RefCDS_human_GRCh38.p12.rda\"):\n",
      "“Mutations observed in contiguous sites within a sample. Please annotate or remove dinucleotide or complex substitutions for best results.”Warning message in dndscv(dfback, gene_list = randomgenestemp$V1, outp = 1, refdb = \"data/dndscv/dndscv_data/data/RefCDS_human_GRCh38.p12.rda\"):\n",
      "“Same mutations observed in different sampleIDs. Please verify that these are independent events and remove duplicates otherwise.”    Note: 1722 mutations removed for exceeding the limit of mutations per gene per sample\n",
      "    16% ...\n",
      "    31% ...\n",
      "    47% ...\n",
      "    62% ...\n",
      "    78% ...\n",
      "    93% ...\n",
      "[3] Estimating global rates...\n"
     ]
    },
    {
     "name": "stdout",
     "output_type": "stream",
     "text": [
      "[1] 26\n"
     ]
    },
    {
     "name": "stderr",
     "output_type": "stream",
     "text": [
      "[1] Loading the environment...\n",
      "[2] Annotating the mutations...\n",
      "Warning message in dndscv(dfback, gene_list = randomgenestemp$V1, outp = 1, refdb = \"data/dndscv/dndscv_data/data/RefCDS_human_GRCh38.p12.rda\"):\n",
      "“Mutations observed in contiguous sites within a sample. Please annotate or remove dinucleotide or complex substitutions for best results.”Warning message in dndscv(dfback, gene_list = randomgenestemp$V1, outp = 1, refdb = \"data/dndscv/dndscv_data/data/RefCDS_human_GRCh38.p12.rda\"):\n",
      "“Same mutations observed in different sampleIDs. Please verify that these are independent events and remove duplicates otherwise.”    Note: 2352 mutations removed for exceeding the limit of mutations per gene per sample\n",
      "    15% ...\n",
      "    30% ...\n",
      "    45% ...\n",
      "    60% ...\n",
      "    75% ...\n",
      "    91% ...\n",
      "[3] Estimating global rates...\n"
     ]
    },
    {
     "name": "stdout",
     "output_type": "stream",
     "text": [
      "[1] 27\n"
     ]
    },
    {
     "name": "stderr",
     "output_type": "stream",
     "text": [
      "[1] Loading the environment...\n",
      "[2] Annotating the mutations...\n",
      "Warning message in dndscv(dfback, gene_list = randomgenestemp$V1, outp = 1, refdb = \"data/dndscv/dndscv_data/data/RefCDS_human_GRCh38.p12.rda\"):\n",
      "“Mutations observed in contiguous sites within a sample. Please annotate or remove dinucleotide or complex substitutions for best results.”Warning message in dndscv(dfback, gene_list = randomgenestemp$V1, outp = 1, refdb = \"data/dndscv/dndscv_data/data/RefCDS_human_GRCh38.p12.rda\"):\n",
      "“Same mutations observed in different sampleIDs. Please verify that these are independent events and remove duplicates otherwise.”    Note: 1846 mutations removed for exceeding the limit of mutations per gene per sample\n",
      "    15% ...\n",
      "    30% ...\n",
      "    46% ...\n",
      "    61% ...\n",
      "    76% ...\n",
      "    91% ...\n",
      "[3] Estimating global rates...\n"
     ]
    },
    {
     "name": "stdout",
     "output_type": "stream",
     "text": [
      "[1] 28\n"
     ]
    },
    {
     "name": "stderr",
     "output_type": "stream",
     "text": [
      "[1] Loading the environment...\n",
      "[2] Annotating the mutations...\n",
      "Warning message in dndscv(dfback, gene_list = randomgenestemp$V1, outp = 1, refdb = \"data/dndscv/dndscv_data/data/RefCDS_human_GRCh38.p12.rda\"):\n",
      "“Mutations observed in contiguous sites within a sample. Please annotate or remove dinucleotide or complex substitutions for best results.”Warning message in dndscv(dfback, gene_list = randomgenestemp$V1, outp = 1, refdb = \"data/dndscv/dndscv_data/data/RefCDS_human_GRCh38.p12.rda\"):\n",
      "“Same mutations observed in different sampleIDs. Please verify that these are independent events and remove duplicates otherwise.”    Note: 1810 mutations removed for exceeding the limit of mutations per gene per sample\n",
      "    15% ...\n",
      "    31% ...\n",
      "    46% ...\n",
      "    62% ...\n",
      "    77% ...\n",
      "    93% ...\n",
      "[3] Estimating global rates...\n"
     ]
    },
    {
     "name": "stdout",
     "output_type": "stream",
     "text": [
      "[1] 29\n"
     ]
    },
    {
     "name": "stderr",
     "output_type": "stream",
     "text": [
      "[1] Loading the environment...\n",
      "[2] Annotating the mutations...\n",
      "Warning message in dndscv(dfback, gene_list = randomgenestemp$V1, outp = 1, refdb = \"data/dndscv/dndscv_data/data/RefCDS_human_GRCh38.p12.rda\"):\n",
      "“Mutations observed in contiguous sites within a sample. Please annotate or remove dinucleotide or complex substitutions for best results.”Warning message in dndscv(dfback, gene_list = randomgenestemp$V1, outp = 1, refdb = \"data/dndscv/dndscv_data/data/RefCDS_human_GRCh38.p12.rda\"):\n",
      "“Same mutations observed in different sampleIDs. Please verify that these are independent events and remove duplicates otherwise.”    Note: 2217 mutations removed for exceeding the limit of mutations per gene per sample\n",
      "    15% ...\n",
      "    29% ...\n",
      "    44% ...\n",
      "    59% ...\n",
      "    73% ...\n",
      "    88% ...\n",
      "[3] Estimating global rates...\n"
     ]
    },
    {
     "name": "stdout",
     "output_type": "stream",
     "text": [
      "[1] 30\n"
     ]
    },
    {
     "name": "stderr",
     "output_type": "stream",
     "text": [
      "[1] Loading the environment...\n",
      "[2] Annotating the mutations...\n",
      "Warning message in dndscv(dfback, gene_list = randomgenestemp$V1, outp = 1, refdb = \"data/dndscv/dndscv_data/data/RefCDS_human_GRCh38.p12.rda\"):\n",
      "“Mutations observed in contiguous sites within a sample. Please annotate or remove dinucleotide or complex substitutions for best results.”Warning message in dndscv(dfback, gene_list = randomgenestemp$V1, outp = 1, refdb = \"data/dndscv/dndscv_data/data/RefCDS_human_GRCh38.p12.rda\"):\n",
      "“Same mutations observed in different sampleIDs. Please verify that these are independent events and remove duplicates otherwise.”    Note: 2519 mutations removed for exceeding the limit of mutations per gene per sample\n",
      "    15% ...\n",
      "    30% ...\n",
      "    44% ...\n",
      "    59% ...\n",
      "    74% ...\n",
      "    89% ...\n",
      "[3] Estimating global rates...\n"
     ]
    },
    {
     "name": "stdout",
     "output_type": "stream",
     "text": [
      "[1] 31\n"
     ]
    },
    {
     "name": "stderr",
     "output_type": "stream",
     "text": [
      "[1] Loading the environment...\n",
      "[2] Annotating the mutations...\n",
      "Warning message in dndscv(dfback, gene_list = randomgenestemp$V1, outp = 1, refdb = \"data/dndscv/dndscv_data/data/RefCDS_human_GRCh38.p12.rda\"):\n",
      "“Mutations observed in contiguous sites within a sample. Please annotate or remove dinucleotide or complex substitutions for best results.”Warning message in dndscv(dfback, gene_list = randomgenestemp$V1, outp = 1, refdb = \"data/dndscv/dndscv_data/data/RefCDS_human_GRCh38.p12.rda\"):\n",
      "“Same mutations observed in different sampleIDs. Please verify that these are independent events and remove duplicates otherwise.”    Note: 2389 mutations removed for exceeding the limit of mutations per gene per sample\n",
      "    14% ...\n",
      "    29% ...\n",
      "    43% ...\n",
      "    57% ...\n",
      "    72% ...\n",
      "    86% ...\n",
      "[3] Estimating global rates...\n"
     ]
    },
    {
     "name": "stdout",
     "output_type": "stream",
     "text": [
      "[1] 32\n"
     ]
    },
    {
     "name": "stderr",
     "output_type": "stream",
     "text": [
      "[1] Loading the environment...\n",
      "[2] Annotating the mutations...\n",
      "Warning message in dndscv(dfback, gene_list = randomgenestemp$V1, outp = 1, refdb = \"data/dndscv/dndscv_data/data/RefCDS_human_GRCh38.p12.rda\"):\n",
      "“Mutations observed in contiguous sites within a sample. Please annotate or remove dinucleotide or complex substitutions for best results.”Warning message in dndscv(dfback, gene_list = randomgenestemp$V1, outp = 1, refdb = \"data/dndscv/dndscv_data/data/RefCDS_human_GRCh38.p12.rda\"):\n",
      "“Same mutations observed in different sampleIDs. Please verify that these are independent events and remove duplicates otherwise.”    Note: 1643 mutations removed for exceeding the limit of mutations per gene per sample\n",
      "    16% ...\n",
      "    32% ...\n",
      "    48% ...\n",
      "    64% ...\n",
      "    80% ...\n",
      "    96% ...\n",
      "[3] Estimating global rates...\n"
     ]
    },
    {
     "name": "stdout",
     "output_type": "stream",
     "text": [
      "[1] 33\n"
     ]
    },
    {
     "name": "stderr",
     "output_type": "stream",
     "text": [
      "[1] Loading the environment...\n",
      "[2] Annotating the mutations...\n",
      "Warning message in dndscv(dfback, gene_list = randomgenestemp$V1, outp = 1, refdb = \"data/dndscv/dndscv_data/data/RefCDS_human_GRCh38.p12.rda\"):\n",
      "“Mutations observed in contiguous sites within a sample. Please annotate or remove dinucleotide or complex substitutions for best results.”Warning message in dndscv(dfback, gene_list = randomgenestemp$V1, outp = 1, refdb = \"data/dndscv/dndscv_data/data/RefCDS_human_GRCh38.p12.rda\"):\n",
      "“Same mutations observed in different sampleIDs. Please verify that these are independent events and remove duplicates otherwise.”    Note: 2051 mutations removed for exceeding the limit of mutations per gene per sample\n",
      "    15% ...\n",
      "    31% ...\n",
      "    46% ...\n",
      "    62% ...\n",
      "    77% ...\n",
      "    92% ...\n",
      "[3] Estimating global rates...\n"
     ]
    },
    {
     "name": "stdout",
     "output_type": "stream",
     "text": [
      "[1] 34\n"
     ]
    },
    {
     "name": "stderr",
     "output_type": "stream",
     "text": [
      "[1] Loading the environment...\n",
      "[2] Annotating the mutations...\n",
      "Warning message in dndscv(dfback, gene_list = randomgenestemp$V1, outp = 1, refdb = \"data/dndscv/dndscv_data/data/RefCDS_human_GRCh38.p12.rda\"):\n",
      "“Mutations observed in contiguous sites within a sample. Please annotate or remove dinucleotide or complex substitutions for best results.”Warning message in dndscv(dfback, gene_list = randomgenestemp$V1, outp = 1, refdb = \"data/dndscv/dndscv_data/data/RefCDS_human_GRCh38.p12.rda\"):\n",
      "“Same mutations observed in different sampleIDs. Please verify that these are independent events and remove duplicates otherwise.”    Note: 2557 mutations removed for exceeding the limit of mutations per gene per sample\n",
      "    15% ...\n",
      "    29% ...\n",
      "    44% ...\n",
      "    59% ...\n",
      "    73% ...\n",
      "    88% ...\n",
      "[3] Estimating global rates...\n"
     ]
    },
    {
     "name": "stdout",
     "output_type": "stream",
     "text": [
      "[1] 35\n"
     ]
    },
    {
     "name": "stderr",
     "output_type": "stream",
     "text": [
      "[1] Loading the environment...\n",
      "[2] Annotating the mutations...\n",
      "Warning message in dndscv(dfback, gene_list = randomgenestemp$V1, outp = 1, refdb = \"data/dndscv/dndscv_data/data/RefCDS_human_GRCh38.p12.rda\"):\n",
      "“Mutations observed in contiguous sites within a sample. Please annotate or remove dinucleotide or complex substitutions for best results.”Warning message in dndscv(dfback, gene_list = randomgenestemp$V1, outp = 1, refdb = \"data/dndscv/dndscv_data/data/RefCDS_human_GRCh38.p12.rda\"):\n",
      "“Same mutations observed in different sampleIDs. Please verify that these are independent events and remove duplicates otherwise.”    Note: 2005 mutations removed for exceeding the limit of mutations per gene per sample\n",
      "    15% ...\n",
      "    30% ...\n",
      "    46% ...\n",
      "    61% ...\n",
      "    76% ...\n",
      "    91% ...\n",
      "[3] Estimating global rates...\n"
     ]
    },
    {
     "name": "stdout",
     "output_type": "stream",
     "text": [
      "[1] 36\n"
     ]
    },
    {
     "name": "stderr",
     "output_type": "stream",
     "text": [
      "[1] Loading the environment...\n",
      "[2] Annotating the mutations...\n",
      "Warning message in dndscv(dfback, gene_list = randomgenestemp$V1, outp = 1, refdb = \"data/dndscv/dndscv_data/data/RefCDS_human_GRCh38.p12.rda\"):\n",
      "“Mutations observed in contiguous sites within a sample. Please annotate or remove dinucleotide or complex substitutions for best results.”Warning message in dndscv(dfback, gene_list = randomgenestemp$V1, outp = 1, refdb = \"data/dndscv/dndscv_data/data/RefCDS_human_GRCh38.p12.rda\"):\n",
      "“Same mutations observed in different sampleIDs. Please verify that these are independent events and remove duplicates otherwise.”    Note: 2320 mutations removed for exceeding the limit of mutations per gene per sample\n",
      "    14% ...\n",
      "    28% ...\n",
      "    42% ...\n",
      "    56% ...\n",
      "    71% ...\n",
      "    85% ...\n",
      "    99% ...\n",
      "[3] Estimating global rates...\n"
     ]
    },
    {
     "name": "stdout",
     "output_type": "stream",
     "text": [
      "[1] 37\n"
     ]
    },
    {
     "name": "stderr",
     "output_type": "stream",
     "text": [
      "[1] Loading the environment...\n",
      "[2] Annotating the mutations...\n",
      "Warning message in dndscv(dfback, gene_list = randomgenestemp$V1, outp = 1, refdb = \"data/dndscv/dndscv_data/data/RefCDS_human_GRCh38.p12.rda\"):\n",
      "“Mutations observed in contiguous sites within a sample. Please annotate or remove dinucleotide or complex substitutions for best results.”Warning message in dndscv(dfback, gene_list = randomgenestemp$V1, outp = 1, refdb = \"data/dndscv/dndscv_data/data/RefCDS_human_GRCh38.p12.rda\"):\n",
      "“Same mutations observed in different sampleIDs. Please verify that these are independent events and remove duplicates otherwise.”    Note: 2053 mutations removed for exceeding the limit of mutations per gene per sample\n",
      "    15% ...\n",
      "    30% ...\n",
      "    46% ...\n",
      "    61% ...\n",
      "    76% ...\n",
      "    91% ...\n",
      "[3] Estimating global rates...\n"
     ]
    },
    {
     "name": "stdout",
     "output_type": "stream",
     "text": [
      "[1] 38\n"
     ]
    },
    {
     "name": "stderr",
     "output_type": "stream",
     "text": [
      "[1] Loading the environment...\n",
      "[2] Annotating the mutations...\n",
      "Warning message in dndscv(dfback, gene_list = randomgenestemp$V1, outp = 1, refdb = \"data/dndscv/dndscv_data/data/RefCDS_human_GRCh38.p12.rda\"):\n",
      "“Mutations observed in contiguous sites within a sample. Please annotate or remove dinucleotide or complex substitutions for best results.”Warning message in dndscv(dfback, gene_list = randomgenestemp$V1, outp = 1, refdb = \"data/dndscv/dndscv_data/data/RefCDS_human_GRCh38.p12.rda\"):\n",
      "“Same mutations observed in different sampleIDs. Please verify that these are independent events and remove duplicates otherwise.”    Note: 1835 mutations removed for exceeding the limit of mutations per gene per sample\n",
      "    15% ...\n",
      "    30% ...\n",
      "    45% ...\n",
      "    61% ...\n",
      "    76% ...\n",
      "    91% ...\n",
      "[3] Estimating global rates...\n"
     ]
    },
    {
     "name": "stdout",
     "output_type": "stream",
     "text": [
      "[1] 39\n"
     ]
    },
    {
     "name": "stderr",
     "output_type": "stream",
     "text": [
      "[1] Loading the environment...\n",
      "[2] Annotating the mutations...\n",
      "Warning message in dndscv(dfback, gene_list = randomgenestemp$V1, outp = 1, refdb = \"data/dndscv/dndscv_data/data/RefCDS_human_GRCh38.p12.rda\"):\n",
      "“Mutations observed in contiguous sites within a sample. Please annotate or remove dinucleotide or complex substitutions for best results.”Warning message in dndscv(dfback, gene_list = randomgenestemp$V1, outp = 1, refdb = \"data/dndscv/dndscv_data/data/RefCDS_human_GRCh38.p12.rda\"):\n",
      "“Same mutations observed in different sampleIDs. Please verify that these are independent events and remove duplicates otherwise.”    Note: 1953 mutations removed for exceeding the limit of mutations per gene per sample\n",
      "    16% ...\n",
      "    31% ...\n",
      "    47% ...\n",
      "    62% ...\n",
      "    78% ...\n",
      "    93% ...\n",
      "[3] Estimating global rates...\n"
     ]
    },
    {
     "name": "stdout",
     "output_type": "stream",
     "text": [
      "[1] 40\n"
     ]
    },
    {
     "name": "stderr",
     "output_type": "stream",
     "text": [
      "[1] Loading the environment...\n",
      "[2] Annotating the mutations...\n",
      "Warning message in dndscv(dfback, gene_list = randomgenestemp$V1, outp = 1, refdb = \"data/dndscv/dndscv_data/data/RefCDS_human_GRCh38.p12.rda\"):\n",
      "“Mutations observed in contiguous sites within a sample. Please annotate or remove dinucleotide or complex substitutions for best results.”Warning message in dndscv(dfback, gene_list = randomgenestemp$V1, outp = 1, refdb = \"data/dndscv/dndscv_data/data/RefCDS_human_GRCh38.p12.rda\"):\n",
      "“Same mutations observed in different sampleIDs. Please verify that these are independent events and remove duplicates otherwise.”    Note: 5565 mutations removed for exceeding the limit of mutations per gene per sample\n",
      "    14% ...\n",
      "    28% ...\n",
      "    42% ...\n",
      "    56% ...\n",
      "    71% ...\n",
      "    85% ...\n",
      "    99% ...\n",
      "[3] Estimating global rates...\n"
     ]
    },
    {
     "name": "stdout",
     "output_type": "stream",
     "text": [
      "[1] 41\n"
     ]
    },
    {
     "name": "stderr",
     "output_type": "stream",
     "text": [
      "[1] Loading the environment...\n",
      "[2] Annotating the mutations...\n",
      "Warning message in dndscv(dfback, gene_list = randomgenestemp$V1, outp = 1, refdb = \"data/dndscv/dndscv_data/data/RefCDS_human_GRCh38.p12.rda\"):\n",
      "“Mutations observed in contiguous sites within a sample. Please annotate or remove dinucleotide or complex substitutions for best results.”Warning message in dndscv(dfback, gene_list = randomgenestemp$V1, outp = 1, refdb = \"data/dndscv/dndscv_data/data/RefCDS_human_GRCh38.p12.rda\"):\n",
      "“Same mutations observed in different sampleIDs. Please verify that these are independent events and remove duplicates otherwise.”    Note: 1710 mutations removed for exceeding the limit of mutations per gene per sample\n",
      "    15% ...\n",
      "    30% ...\n",
      "    45% ...\n",
      "    60% ...\n",
      "    76% ...\n",
      "    91% ...\n",
      "[3] Estimating global rates...\n"
     ]
    },
    {
     "name": "stdout",
     "output_type": "stream",
     "text": [
      "[1] 42\n"
     ]
    },
    {
     "name": "stderr",
     "output_type": "stream",
     "text": [
      "[1] Loading the environment...\n",
      "[2] Annotating the mutations...\n",
      "Warning message in dndscv(dfback, gene_list = randomgenestemp$V1, outp = 1, refdb = \"data/dndscv/dndscv_data/data/RefCDS_human_GRCh38.p12.rda\"):\n",
      "“Mutations observed in contiguous sites within a sample. Please annotate or remove dinucleotide or complex substitutions for best results.”Warning message in dndscv(dfback, gene_list = randomgenestemp$V1, outp = 1, refdb = \"data/dndscv/dndscv_data/data/RefCDS_human_GRCh38.p12.rda\"):\n",
      "“Same mutations observed in different sampleIDs. Please verify that these are independent events and remove duplicates otherwise.”    Note: 1877 mutations removed for exceeding the limit of mutations per gene per sample\n",
      "    15% ...\n",
      "    30% ...\n",
      "    45% ...\n",
      "    60% ...\n",
      "    75% ...\n",
      "    91% ...\n",
      "[3] Estimating global rates...\n"
     ]
    },
    {
     "name": "stdout",
     "output_type": "stream",
     "text": [
      "[1] 43\n"
     ]
    },
    {
     "name": "stderr",
     "output_type": "stream",
     "text": [
      "[1] Loading the environment...\n",
      "[2] Annotating the mutations...\n",
      "Warning message in dndscv(dfback, gene_list = randomgenestemp$V1, outp = 1, refdb = \"data/dndscv/dndscv_data/data/RefCDS_human_GRCh38.p12.rda\"):\n",
      "“Mutations observed in contiguous sites within a sample. Please annotate or remove dinucleotide or complex substitutions for best results.”Warning message in dndscv(dfback, gene_list = randomgenestemp$V1, outp = 1, refdb = \"data/dndscv/dndscv_data/data/RefCDS_human_GRCh38.p12.rda\"):\n",
      "“Same mutations observed in different sampleIDs. Please verify that these are independent events and remove duplicates otherwise.”    Note: 6089 mutations removed for exceeding the limit of mutations per gene per sample\n",
      "    14% ...\n",
      "    28% ...\n",
      "    42% ...\n",
      "    56% ...\n",
      "    70% ...\n",
      "    84% ...\n",
      "    98% ...\n",
      "[3] Estimating global rates...\n"
     ]
    },
    {
     "name": "stdout",
     "output_type": "stream",
     "text": [
      "[1] 44\n"
     ]
    },
    {
     "name": "stderr",
     "output_type": "stream",
     "text": [
      "[1] Loading the environment...\n",
      "[2] Annotating the mutations...\n",
      "Warning message in dndscv(dfback, gene_list = randomgenestemp$V1, outp = 1, refdb = \"data/dndscv/dndscv_data/data/RefCDS_human_GRCh38.p12.rda\"):\n",
      "“Mutations observed in contiguous sites within a sample. Please annotate or remove dinucleotide or complex substitutions for best results.”Warning message in dndscv(dfback, gene_list = randomgenestemp$V1, outp = 1, refdb = \"data/dndscv/dndscv_data/data/RefCDS_human_GRCh38.p12.rda\"):\n",
      "“Same mutations observed in different sampleIDs. Please verify that these are independent events and remove duplicates otherwise.”    Note: 2293 mutations removed for exceeding the limit of mutations per gene per sample\n",
      "    16% ...\n",
      "    31% ...\n",
      "    47% ...\n",
      "    62% ...\n",
      "    78% ...\n",
      "    93% ...\n",
      "[3] Estimating global rates...\n"
     ]
    },
    {
     "name": "stdout",
     "output_type": "stream",
     "text": [
      "[1] 45\n"
     ]
    },
    {
     "name": "stderr",
     "output_type": "stream",
     "text": [
      "[1] Loading the environment...\n",
      "[2] Annotating the mutations...\n",
      "Warning message in dndscv(dfback, gene_list = randomgenestemp$V1, outp = 1, refdb = \"data/dndscv/dndscv_data/data/RefCDS_human_GRCh38.p12.rda\"):\n",
      "“Mutations observed in contiguous sites within a sample. Please annotate or remove dinucleotide or complex substitutions for best results.”Warning message in dndscv(dfback, gene_list = randomgenestemp$V1, outp = 1, refdb = \"data/dndscv/dndscv_data/data/RefCDS_human_GRCh38.p12.rda\"):\n",
      "“Same mutations observed in different sampleIDs. Please verify that these are independent events and remove duplicates otherwise.”    Note: 2272 mutations removed for exceeding the limit of mutations per gene per sample\n",
      "    15% ...\n",
      "    30% ...\n",
      "    45% ...\n",
      "    60% ...\n",
      "    75% ...\n",
      "    90% ...\n",
      "[3] Estimating global rates...\n"
     ]
    },
    {
     "name": "stdout",
     "output_type": "stream",
     "text": [
      "[1] 46\n"
     ]
    },
    {
     "name": "stderr",
     "output_type": "stream",
     "text": [
      "[1] Loading the environment...\n",
      "[2] Annotating the mutations...\n",
      "Warning message in dndscv(dfback, gene_list = randomgenestemp$V1, outp = 1, refdb = \"data/dndscv/dndscv_data/data/RefCDS_human_GRCh38.p12.rda\"):\n",
      "“Mutations observed in contiguous sites within a sample. Please annotate or remove dinucleotide or complex substitutions for best results.”Warning message in dndscv(dfback, gene_list = randomgenestemp$V1, outp = 1, refdb = \"data/dndscv/dndscv_data/data/RefCDS_human_GRCh38.p12.rda\"):\n",
      "“Same mutations observed in different sampleIDs. Please verify that these are independent events and remove duplicates otherwise.”    Note: 2151 mutations removed for exceeding the limit of mutations per gene per sample\n",
      "    15% ...\n",
      "    30% ...\n",
      "    45% ...\n",
      "    60% ...\n",
      "    74% ...\n",
      "    89% ...\n",
      "[3] Estimating global rates...\n"
     ]
    },
    {
     "name": "stdout",
     "output_type": "stream",
     "text": [
      "[1] 47\n"
     ]
    },
    {
     "name": "stderr",
     "output_type": "stream",
     "text": [
      "[1] Loading the environment...\n",
      "[2] Annotating the mutations...\n",
      "Warning message in dndscv(dfback, gene_list = randomgenestemp$V1, outp = 1, refdb = \"data/dndscv/dndscv_data/data/RefCDS_human_GRCh38.p12.rda\"):\n",
      "“Mutations observed in contiguous sites within a sample. Please annotate or remove dinucleotide or complex substitutions for best results.”Warning message in dndscv(dfback, gene_list = randomgenestemp$V1, outp = 1, refdb = \"data/dndscv/dndscv_data/data/RefCDS_human_GRCh38.p12.rda\"):\n",
      "“Same mutations observed in different sampleIDs. Please verify that these are independent events and remove duplicates otherwise.”    Note: 2154 mutations removed for exceeding the limit of mutations per gene per sample\n",
      "    15% ...\n",
      "    31% ...\n",
      "    46% ...\n",
      "    61% ...\n",
      "    76% ...\n",
      "    92% ...\n",
      "[3] Estimating global rates...\n"
     ]
    },
    {
     "name": "stdout",
     "output_type": "stream",
     "text": [
      "[1] 48\n"
     ]
    },
    {
     "name": "stderr",
     "output_type": "stream",
     "text": [
      "[1] Loading the environment...\n",
      "[2] Annotating the mutations...\n",
      "Warning message in dndscv(dfback, gene_list = randomgenestemp$V1, outp = 1, refdb = \"data/dndscv/dndscv_data/data/RefCDS_human_GRCh38.p12.rda\"):\n",
      "“Mutations observed in contiguous sites within a sample. Please annotate or remove dinucleotide or complex substitutions for best results.”Warning message in dndscv(dfback, gene_list = randomgenestemp$V1, outp = 1, refdb = \"data/dndscv/dndscv_data/data/RefCDS_human_GRCh38.p12.rda\"):\n",
      "“Same mutations observed in different sampleIDs. Please verify that these are independent events and remove duplicates otherwise.”    Note: 1834 mutations removed for exceeding the limit of mutations per gene per sample\n",
      "    15% ...\n",
      "    30% ...\n",
      "    45% ...\n",
      "    61% ...\n",
      "    76% ...\n",
      "    91% ...\n",
      "[3] Estimating global rates...\n"
     ]
    },
    {
     "name": "stdout",
     "output_type": "stream",
     "text": [
      "[1] 49\n"
     ]
    },
    {
     "name": "stderr",
     "output_type": "stream",
     "text": [
      "[1] Loading the environment...\n",
      "[2] Annotating the mutations...\n",
      "Warning message in dndscv(dfback, gene_list = randomgenestemp$V1, outp = 1, refdb = \"data/dndscv/dndscv_data/data/RefCDS_human_GRCh38.p12.rda\"):\n",
      "“Mutations observed in contiguous sites within a sample. Please annotate or remove dinucleotide or complex substitutions for best results.”Warning message in dndscv(dfback, gene_list = randomgenestemp$V1, outp = 1, refdb = \"data/dndscv/dndscv_data/data/RefCDS_human_GRCh38.p12.rda\"):\n",
      "“Same mutations observed in different sampleIDs. Please verify that these are independent events and remove duplicates otherwise.”    Note: 1862 mutations removed for exceeding the limit of mutations per gene per sample\n",
      "    15% ...\n",
      "    30% ...\n",
      "    45% ...\n",
      "    60% ...\n",
      "    75% ...\n",
      "    90% ...\n",
      "[3] Estimating global rates...\n"
     ]
    },
    {
     "name": "stdout",
     "output_type": "stream",
     "text": [
      "[1] 50\n"
     ]
    },
    {
     "name": "stderr",
     "output_type": "stream",
     "text": [
      "[1] Loading the environment...\n",
      "[2] Annotating the mutations...\n",
      "Warning message in dndscv(dfback, gene_list = randomgenestemp$V1, outp = 1, refdb = \"data/dndscv/dndscv_data/data/RefCDS_human_GRCh38.p12.rda\"):\n",
      "“Mutations observed in contiguous sites within a sample. Please annotate or remove dinucleotide or complex substitutions for best results.”Warning message in dndscv(dfback, gene_list = randomgenestemp$V1, outp = 1, refdb = \"data/dndscv/dndscv_data/data/RefCDS_human_GRCh38.p12.rda\"):\n",
      "“Same mutations observed in different sampleIDs. Please verify that these are independent events and remove duplicates otherwise.”    Note: 2884 mutations removed for exceeding the limit of mutations per gene per sample\n",
      "    14% ...\n",
      "    28% ...\n",
      "    43% ...\n",
      "    57% ...\n",
      "    71% ...\n",
      "    85% ...\n",
      "    99% ...\n",
      "[3] Estimating global rates...\n"
     ]
    },
    {
     "name": "stdout",
     "output_type": "stream",
     "text": [
      "[1] 51\n"
     ]
    },
    {
     "name": "stderr",
     "output_type": "stream",
     "text": [
      "[1] Loading the environment...\n",
      "[2] Annotating the mutations...\n",
      "Warning message in dndscv(dfback, gene_list = randomgenestemp$V1, outp = 1, refdb = \"data/dndscv/dndscv_data/data/RefCDS_human_GRCh38.p12.rda\"):\n",
      "“Mutations observed in contiguous sites within a sample. Please annotate or remove dinucleotide or complex substitutions for best results.”Warning message in dndscv(dfback, gene_list = randomgenestemp$V1, outp = 1, refdb = \"data/dndscv/dndscv_data/data/RefCDS_human_GRCh38.p12.rda\"):\n",
      "“Same mutations observed in different sampleIDs. Please verify that these are independent events and remove duplicates otherwise.”    Note: 1748 mutations removed for exceeding the limit of mutations per gene per sample\n",
      "    15% ...\n",
      "    30% ...\n",
      "    45% ...\n",
      "    60% ...\n",
      "    75% ...\n",
      "    90% ...\n",
      "[3] Estimating global rates...\n"
     ]
    },
    {
     "name": "stdout",
     "output_type": "stream",
     "text": [
      "[1] 52\n"
     ]
    },
    {
     "name": "stderr",
     "output_type": "stream",
     "text": [
      "[1] Loading the environment...\n",
      "[2] Annotating the mutations...\n",
      "Warning message in dndscv(dfback, gene_list = randomgenestemp$V1, outp = 1, refdb = \"data/dndscv/dndscv_data/data/RefCDS_human_GRCh38.p12.rda\"):\n",
      "“Mutations observed in contiguous sites within a sample. Please annotate or remove dinucleotide or complex substitutions for best results.”Warning message in dndscv(dfback, gene_list = randomgenestemp$V1, outp = 1, refdb = \"data/dndscv/dndscv_data/data/RefCDS_human_GRCh38.p12.rda\"):\n",
      "“Same mutations observed in different sampleIDs. Please verify that these are independent events and remove duplicates otherwise.”    Note: 1817 mutations removed for exceeding the limit of mutations per gene per sample\n",
      "    15% ...\n",
      "    30% ...\n",
      "    46% ...\n",
      "    61% ...\n",
      "    76% ...\n",
      "    91% ...\n",
      "[3] Estimating global rates...\n"
     ]
    },
    {
     "name": "stdout",
     "output_type": "stream",
     "text": [
      "[1] 53\n"
     ]
    },
    {
     "name": "stderr",
     "output_type": "stream",
     "text": [
      "[1] Loading the environment...\n",
      "[2] Annotating the mutations...\n",
      "Warning message in dndscv(dfback, gene_list = randomgenestemp$V1, outp = 1, refdb = \"data/dndscv/dndscv_data/data/RefCDS_human_GRCh38.p12.rda\"):\n",
      "“Mutations observed in contiguous sites within a sample. Please annotate or remove dinucleotide or complex substitutions for best results.”Warning message in dndscv(dfback, gene_list = randomgenestemp$V1, outp = 1, refdb = \"data/dndscv/dndscv_data/data/RefCDS_human_GRCh38.p12.rda\"):\n",
      "“Same mutations observed in different sampleIDs. Please verify that these are independent events and remove duplicates otherwise.”    Note: 2614 mutations removed for exceeding the limit of mutations per gene per sample\n",
      "    15% ...\n",
      "    30% ...\n",
      "    44% ...\n",
      "    59% ...\n",
      "    74% ...\n",
      "    89% ...\n",
      "[3] Estimating global rates...\n"
     ]
    },
    {
     "name": "stdout",
     "output_type": "stream",
     "text": [
      "[1] 54\n"
     ]
    },
    {
     "name": "stderr",
     "output_type": "stream",
     "text": [
      "[1] Loading the environment...\n",
      "[2] Annotating the mutations...\n",
      "Warning message in dndscv(dfback, gene_list = randomgenestemp$V1, outp = 1, refdb = \"data/dndscv/dndscv_data/data/RefCDS_human_GRCh38.p12.rda\"):\n",
      "“Mutations observed in contiguous sites within a sample. Please annotate or remove dinucleotide or complex substitutions for best results.”Warning message in dndscv(dfback, gene_list = randomgenestemp$V1, outp = 1, refdb = \"data/dndscv/dndscv_data/data/RefCDS_human_GRCh38.p12.rda\"):\n",
      "“Same mutations observed in different sampleIDs. Please verify that these are independent events and remove duplicates otherwise.”    Note: 2070 mutations removed for exceeding the limit of mutations per gene per sample\n",
      "    15% ...\n",
      "    30% ...\n",
      "    45% ...\n",
      "    60% ...\n",
      "    75% ...\n",
      "    90% ...\n",
      "[3] Estimating global rates...\n"
     ]
    },
    {
     "name": "stdout",
     "output_type": "stream",
     "text": [
      "[1] 55\n"
     ]
    },
    {
     "name": "stderr",
     "output_type": "stream",
     "text": [
      "[1] Loading the environment...\n",
      "[2] Annotating the mutations...\n",
      "Warning message in dndscv(dfback, gene_list = randomgenestemp$V1, outp = 1, refdb = \"data/dndscv/dndscv_data/data/RefCDS_human_GRCh38.p12.rda\"):\n",
      "“Mutations observed in contiguous sites within a sample. Please annotate or remove dinucleotide or complex substitutions for best results.”Warning message in dndscv(dfback, gene_list = randomgenestemp$V1, outp = 1, refdb = \"data/dndscv/dndscv_data/data/RefCDS_human_GRCh38.p12.rda\"):\n",
      "“Same mutations observed in different sampleIDs. Please verify that these are independent events and remove duplicates otherwise.”    Note: 5705 mutations removed for exceeding the limit of mutations per gene per sample\n",
      "    15% ...\n",
      "    30% ...\n",
      "    45% ...\n",
      "    61% ...\n",
      "    76% ...\n",
      "    91% ...\n",
      "[3] Estimating global rates...\n"
     ]
    },
    {
     "name": "stdout",
     "output_type": "stream",
     "text": [
      "[1] 56\n"
     ]
    },
    {
     "name": "stderr",
     "output_type": "stream",
     "text": [
      "[1] Loading the environment...\n",
      "[2] Annotating the mutations...\n",
      "Warning message in dndscv(dfback, gene_list = randomgenestemp$V1, outp = 1, refdb = \"data/dndscv/dndscv_data/data/RefCDS_human_GRCh38.p12.rda\"):\n",
      "“Mutations observed in contiguous sites within a sample. Please annotate or remove dinucleotide or complex substitutions for best results.”Warning message in dndscv(dfback, gene_list = randomgenestemp$V1, outp = 1, refdb = \"data/dndscv/dndscv_data/data/RefCDS_human_GRCh38.p12.rda\"):\n",
      "“Same mutations observed in different sampleIDs. Please verify that these are independent events and remove duplicates otherwise.”    Note: 1927 mutations removed for exceeding the limit of mutations per gene per sample\n",
      "    15% ...\n",
      "    31% ...\n",
      "    46% ...\n",
      "    61% ...\n",
      "    76% ...\n",
      "    92% ...\n",
      "[3] Estimating global rates...\n"
     ]
    },
    {
     "name": "stdout",
     "output_type": "stream",
     "text": [
      "[1] 57\n"
     ]
    },
    {
     "name": "stderr",
     "output_type": "stream",
     "text": [
      "[1] Loading the environment...\n",
      "[2] Annotating the mutations...\n",
      "Warning message in dndscv(dfback, gene_list = randomgenestemp$V1, outp = 1, refdb = \"data/dndscv/dndscv_data/data/RefCDS_human_GRCh38.p12.rda\"):\n",
      "“Mutations observed in contiguous sites within a sample. Please annotate or remove dinucleotide or complex substitutions for best results.”Warning message in dndscv(dfback, gene_list = randomgenestemp$V1, outp = 1, refdb = \"data/dndscv/dndscv_data/data/RefCDS_human_GRCh38.p12.rda\"):\n",
      "“Same mutations observed in different sampleIDs. Please verify that these are independent events and remove duplicates otherwise.”    Note: 2558 mutations removed for exceeding the limit of mutations per gene per sample\n",
      "    15% ...\n",
      "    29% ...\n",
      "    44% ...\n",
      "    58% ...\n",
      "    73% ...\n",
      "    87% ...\n",
      "[3] Estimating global rates...\n"
     ]
    },
    {
     "name": "stdout",
     "output_type": "stream",
     "text": [
      "[1] 58\n"
     ]
    },
    {
     "name": "stderr",
     "output_type": "stream",
     "text": [
      "[1] Loading the environment...\n",
      "[2] Annotating the mutations...\n",
      "Warning message in dndscv(dfback, gene_list = randomgenestemp$V1, outp = 1, refdb = \"data/dndscv/dndscv_data/data/RefCDS_human_GRCh38.p12.rda\"):\n",
      "“Mutations observed in contiguous sites within a sample. Please annotate or remove dinucleotide or complex substitutions for best results.”Warning message in dndscv(dfback, gene_list = randomgenestemp$V1, outp = 1, refdb = \"data/dndscv/dndscv_data/data/RefCDS_human_GRCh38.p12.rda\"):\n",
      "“Same mutations observed in different sampleIDs. Please verify that these are independent events and remove duplicates otherwise.”    Note: 2041 mutations removed for exceeding the limit of mutations per gene per sample\n",
      "    15% ...\n",
      "    31% ...\n",
      "    46% ...\n",
      "    62% ...\n",
      "    77% ...\n",
      "    93% ...\n",
      "[3] Estimating global rates...\n"
     ]
    },
    {
     "name": "stdout",
     "output_type": "stream",
     "text": [
      "[1] 59\n"
     ]
    },
    {
     "name": "stderr",
     "output_type": "stream",
     "text": [
      "[1] Loading the environment...\n",
      "[2] Annotating the mutations...\n",
      "Warning message in dndscv(dfback, gene_list = randomgenestemp$V1, outp = 1, refdb = \"data/dndscv/dndscv_data/data/RefCDS_human_GRCh38.p12.rda\"):\n",
      "“Mutations observed in contiguous sites within a sample. Please annotate or remove dinucleotide or complex substitutions for best results.”Warning message in dndscv(dfback, gene_list = randomgenestemp$V1, outp = 1, refdb = \"data/dndscv/dndscv_data/data/RefCDS_human_GRCh38.p12.rda\"):\n",
      "“Same mutations observed in different sampleIDs. Please verify that these are independent events and remove duplicates otherwise.”    Note: 2701 mutations removed for exceeding the limit of mutations per gene per sample\n",
      "    15% ...\n",
      "    31% ...\n",
      "    46% ...\n",
      "    61% ...\n",
      "    77% ...\n",
      "    92% ...\n",
      "[3] Estimating global rates...\n"
     ]
    },
    {
     "name": "stdout",
     "output_type": "stream",
     "text": [
      "[1] 60\n"
     ]
    },
    {
     "name": "stderr",
     "output_type": "stream",
     "text": [
      "[1] Loading the environment...\n",
      "[2] Annotating the mutations...\n",
      "Warning message in dndscv(dfback, gene_list = randomgenestemp$V1, outp = 1, refdb = \"data/dndscv/dndscv_data/data/RefCDS_human_GRCh38.p12.rda\"):\n",
      "“Mutations observed in contiguous sites within a sample. Please annotate or remove dinucleotide or complex substitutions for best results.”Warning message in dndscv(dfback, gene_list = randomgenestemp$V1, outp = 1, refdb = \"data/dndscv/dndscv_data/data/RefCDS_human_GRCh38.p12.rda\"):\n",
      "“Same mutations observed in different sampleIDs. Please verify that these are independent events and remove duplicates otherwise.”    Note: 2134 mutations removed for exceeding the limit of mutations per gene per sample\n",
      "    15% ...\n",
      "    30% ...\n",
      "    45% ...\n",
      "    59% ...\n",
      "    74% ...\n",
      "    89% ...\n",
      "[3] Estimating global rates...\n"
     ]
    },
    {
     "name": "stdout",
     "output_type": "stream",
     "text": [
      "[1] 61\n"
     ]
    },
    {
     "name": "stderr",
     "output_type": "stream",
     "text": [
      "[1] Loading the environment...\n",
      "[2] Annotating the mutations...\n",
      "Warning message in dndscv(dfback, gene_list = randomgenestemp$V1, outp = 1, refdb = \"data/dndscv/dndscv_data/data/RefCDS_human_GRCh38.p12.rda\"):\n",
      "“Mutations observed in contiguous sites within a sample. Please annotate or remove dinucleotide or complex substitutions for best results.”Warning message in dndscv(dfback, gene_list = randomgenestemp$V1, outp = 1, refdb = \"data/dndscv/dndscv_data/data/RefCDS_human_GRCh38.p12.rda\"):\n",
      "“Same mutations observed in different sampleIDs. Please verify that these are independent events and remove duplicates otherwise.”    Note: 2047 mutations removed for exceeding the limit of mutations per gene per sample\n",
      "    15% ...\n",
      "    30% ...\n",
      "    45% ...\n",
      "    59% ...\n",
      "    74% ...\n",
      "    89% ...\n",
      "[3] Estimating global rates...\n"
     ]
    },
    {
     "name": "stdout",
     "output_type": "stream",
     "text": [
      "[1] 62\n"
     ]
    },
    {
     "name": "stderr",
     "output_type": "stream",
     "text": [
      "[1] Loading the environment...\n",
      "[2] Annotating the mutations...\n",
      "Warning message in dndscv(dfback, gene_list = randomgenestemp$V1, outp = 1, refdb = \"data/dndscv/dndscv_data/data/RefCDS_human_GRCh38.p12.rda\"):\n",
      "“Mutations observed in contiguous sites within a sample. Please annotate or remove dinucleotide or complex substitutions for best results.”Warning message in dndscv(dfback, gene_list = randomgenestemp$V1, outp = 1, refdb = \"data/dndscv/dndscv_data/data/RefCDS_human_GRCh38.p12.rda\"):\n",
      "“Same mutations observed in different sampleIDs. Please verify that these are independent events and remove duplicates otherwise.”    Note: 2091 mutations removed for exceeding the limit of mutations per gene per sample\n",
      "    14% ...\n",
      "    29% ...\n",
      "    43% ...\n",
      "    58% ...\n",
      "    72% ...\n",
      "    87% ...\n",
      "[3] Estimating global rates...\n"
     ]
    },
    {
     "name": "stdout",
     "output_type": "stream",
     "text": [
      "[1] 63\n"
     ]
    },
    {
     "name": "stderr",
     "output_type": "stream",
     "text": [
      "[1] Loading the environment...\n",
      "[2] Annotating the mutations...\n",
      "Warning message in dndscv(dfback, gene_list = randomgenestemp$V1, outp = 1, refdb = \"data/dndscv/dndscv_data/data/RefCDS_human_GRCh38.p12.rda\"):\n",
      "“Mutations observed in contiguous sites within a sample. Please annotate or remove dinucleotide or complex substitutions for best results.”Warning message in dndscv(dfback, gene_list = randomgenestemp$V1, outp = 1, refdb = \"data/dndscv/dndscv_data/data/RefCDS_human_GRCh38.p12.rda\"):\n",
      "“Same mutations observed in different sampleIDs. Please verify that these are independent events and remove duplicates otherwise.”    Note: 2262 mutations removed for exceeding the limit of mutations per gene per sample\n",
      "    15% ...\n",
      "    30% ...\n",
      "    45% ...\n",
      "    60% ...\n",
      "    75% ...\n",
      "    90% ...\n",
      "[3] Estimating global rates...\n"
     ]
    },
    {
     "name": "stdout",
     "output_type": "stream",
     "text": [
      "[1] 64\n"
     ]
    },
    {
     "name": "stderr",
     "output_type": "stream",
     "text": [
      "[1] Loading the environment...\n",
      "[2] Annotating the mutations...\n",
      "Warning message in dndscv(dfback, gene_list = randomgenestemp$V1, outp = 1, refdb = \"data/dndscv/dndscv_data/data/RefCDS_human_GRCh38.p12.rda\"):\n",
      "“Mutations observed in contiguous sites within a sample. Please annotate or remove dinucleotide or complex substitutions for best results.”Warning message in dndscv(dfback, gene_list = randomgenestemp$V1, outp = 1, refdb = \"data/dndscv/dndscv_data/data/RefCDS_human_GRCh38.p12.rda\"):\n",
      "“Same mutations observed in different sampleIDs. Please verify that these are independent events and remove duplicates otherwise.”    Note: 2142 mutations removed for exceeding the limit of mutations per gene per sample\n",
      "    15% ...\n",
      "    30% ...\n",
      "    45% ...\n",
      "    60% ...\n",
      "    75% ...\n",
      "    91% ...\n",
      "[3] Estimating global rates...\n"
     ]
    },
    {
     "name": "stdout",
     "output_type": "stream",
     "text": [
      "[1] 65\n"
     ]
    },
    {
     "name": "stderr",
     "output_type": "stream",
     "text": [
      "[1] Loading the environment...\n",
      "[2] Annotating the mutations...\n",
      "Warning message in dndscv(dfback, gene_list = randomgenestemp$V1, outp = 1, refdb = \"data/dndscv/dndscv_data/data/RefCDS_human_GRCh38.p12.rda\"):\n",
      "“Mutations observed in contiguous sites within a sample. Please annotate or remove dinucleotide or complex substitutions for best results.”Warning message in dndscv(dfback, gene_list = randomgenestemp$V1, outp = 1, refdb = \"data/dndscv/dndscv_data/data/RefCDS_human_GRCh38.p12.rda\"):\n",
      "“Same mutations observed in different sampleIDs. Please verify that these are independent events and remove duplicates otherwise.”    Note: 2196 mutations removed for exceeding the limit of mutations per gene per sample\n",
      "    15% ...\n",
      "    31% ...\n",
      "    46% ...\n",
      "    62% ...\n",
      "    77% ...\n",
      "    93% ...\n",
      "[3] Estimating global rates...\n"
     ]
    },
    {
     "name": "stdout",
     "output_type": "stream",
     "text": [
      "[1] 66\n"
     ]
    },
    {
     "name": "stderr",
     "output_type": "stream",
     "text": [
      "[1] Loading the environment...\n",
      "[2] Annotating the mutations...\n",
      "Warning message in dndscv(dfback, gene_list = randomgenestemp$V1, outp = 1, refdb = \"data/dndscv/dndscv_data/data/RefCDS_human_GRCh38.p12.rda\"):\n",
      "“Mutations observed in contiguous sites within a sample. Please annotate or remove dinucleotide or complex substitutions for best results.”Warning message in dndscv(dfback, gene_list = randomgenestemp$V1, outp = 1, refdb = \"data/dndscv/dndscv_data/data/RefCDS_human_GRCh38.p12.rda\"):\n",
      "“Same mutations observed in different sampleIDs. Please verify that these are independent events and remove duplicates otherwise.”    Note: 1956 mutations removed for exceeding the limit of mutations per gene per sample\n",
      "    15% ...\n",
      "    31% ...\n",
      "    46% ...\n",
      "    62% ...\n",
      "    77% ...\n",
      "    92% ...\n",
      "[3] Estimating global rates...\n"
     ]
    },
    {
     "name": "stdout",
     "output_type": "stream",
     "text": [
      "[1] 67\n"
     ]
    },
    {
     "name": "stderr",
     "output_type": "stream",
     "text": [
      "[1] Loading the environment...\n",
      "[2] Annotating the mutations...\n",
      "Warning message in dndscv(dfback, gene_list = randomgenestemp$V1, outp = 1, refdb = \"data/dndscv/dndscv_data/data/RefCDS_human_GRCh38.p12.rda\"):\n",
      "“Mutations observed in contiguous sites within a sample. Please annotate or remove dinucleotide or complex substitutions for best results.”Warning message in dndscv(dfback, gene_list = randomgenestemp$V1, outp = 1, refdb = \"data/dndscv/dndscv_data/data/RefCDS_human_GRCh38.p12.rda\"):\n",
      "“Same mutations observed in different sampleIDs. Please verify that these are independent events and remove duplicates otherwise.”    Note: 2396 mutations removed for exceeding the limit of mutations per gene per sample\n",
      "    15% ...\n",
      "    29% ...\n",
      "    44% ...\n",
      "    58% ...\n",
      "    73% ...\n",
      "    87% ...\n",
      "[3] Estimating global rates...\n"
     ]
    },
    {
     "name": "stdout",
     "output_type": "stream",
     "text": [
      "[1] 68\n"
     ]
    },
    {
     "name": "stderr",
     "output_type": "stream",
     "text": [
      "[1] Loading the environment...\n",
      "[2] Annotating the mutations...\n",
      "Warning message in dndscv(dfback, gene_list = randomgenestemp$V1, outp = 1, refdb = \"data/dndscv/dndscv_data/data/RefCDS_human_GRCh38.p12.rda\"):\n",
      "“Mutations observed in contiguous sites within a sample. Please annotate or remove dinucleotide or complex substitutions for best results.”Warning message in dndscv(dfback, gene_list = randomgenestemp$V1, outp = 1, refdb = \"data/dndscv/dndscv_data/data/RefCDS_human_GRCh38.p12.rda\"):\n",
      "“Same mutations observed in different sampleIDs. Please verify that these are independent events and remove duplicates otherwise.”    Note: 5716 mutations removed for exceeding the limit of mutations per gene per sample\n",
      "    16% ...\n",
      "    31% ...\n",
      "    47% ...\n",
      "    62% ...\n",
      "    78% ...\n",
      "    94% ...\n",
      "[3] Estimating global rates...\n"
     ]
    },
    {
     "name": "stdout",
     "output_type": "stream",
     "text": [
      "[1] 69\n"
     ]
    },
    {
     "name": "stderr",
     "output_type": "stream",
     "text": [
      "[1] Loading the environment...\n",
      "[2] Annotating the mutations...\n",
      "Warning message in dndscv(dfback, gene_list = randomgenestemp$V1, outp = 1, refdb = \"data/dndscv/dndscv_data/data/RefCDS_human_GRCh38.p12.rda\"):\n",
      "“Mutations observed in contiguous sites within a sample. Please annotate or remove dinucleotide or complex substitutions for best results.”Warning message in dndscv(dfback, gene_list = randomgenestemp$V1, outp = 1, refdb = \"data/dndscv/dndscv_data/data/RefCDS_human_GRCh38.p12.rda\"):\n",
      "“Same mutations observed in different sampleIDs. Please verify that these are independent events and remove duplicates otherwise.”    Note: 2032 mutations removed for exceeding the limit of mutations per gene per sample\n",
      "    15% ...\n",
      "    31% ...\n",
      "    46% ...\n",
      "    61% ...\n",
      "    77% ...\n",
      "    92% ...\n",
      "[3] Estimating global rates...\n"
     ]
    },
    {
     "name": "stdout",
     "output_type": "stream",
     "text": [
      "[1] 70\n"
     ]
    },
    {
     "name": "stderr",
     "output_type": "stream",
     "text": [
      "[1] Loading the environment...\n",
      "[2] Annotating the mutations...\n",
      "Warning message in dndscv(dfback, gene_list = randomgenestemp$V1, outp = 1, refdb = \"data/dndscv/dndscv_data/data/RefCDS_human_GRCh38.p12.rda\"):\n",
      "“Mutations observed in contiguous sites within a sample. Please annotate or remove dinucleotide or complex substitutions for best results.”Warning message in dndscv(dfback, gene_list = randomgenestemp$V1, outp = 1, refdb = \"data/dndscv/dndscv_data/data/RefCDS_human_GRCh38.p12.rda\"):\n",
      "“Same mutations observed in different sampleIDs. Please verify that these are independent events and remove duplicates otherwise.”    Note: 1742 mutations removed for exceeding the limit of mutations per gene per sample\n",
      "    15% ...\n",
      "    30% ...\n",
      "    45% ...\n",
      "    60% ...\n",
      "    75% ...\n",
      "    90% ...\n",
      "[3] Estimating global rates...\n"
     ]
    },
    {
     "name": "stdout",
     "output_type": "stream",
     "text": [
      "[1] 71\n"
     ]
    },
    {
     "name": "stderr",
     "output_type": "stream",
     "text": [
      "[1] Loading the environment...\n",
      "[2] Annotating the mutations...\n",
      "Warning message in dndscv(dfback, gene_list = randomgenestemp$V1, outp = 1, refdb = \"data/dndscv/dndscv_data/data/RefCDS_human_GRCh38.p12.rda\"):\n",
      "“Mutations observed in contiguous sites within a sample. Please annotate or remove dinucleotide or complex substitutions for best results.”Warning message in dndscv(dfback, gene_list = randomgenestemp$V1, outp = 1, refdb = \"data/dndscv/dndscv_data/data/RefCDS_human_GRCh38.p12.rda\"):\n",
      "“Same mutations observed in different sampleIDs. Please verify that these are independent events and remove duplicates otherwise.”    Note: 2006 mutations removed for exceeding the limit of mutations per gene per sample\n",
      "    16% ...\n",
      "    31% ...\n",
      "    47% ...\n",
      "    62% ...\n",
      "    78% ...\n",
      "    93% ...\n",
      "[3] Estimating global rates...\n"
     ]
    },
    {
     "name": "stdout",
     "output_type": "stream",
     "text": [
      "[1] 72\n"
     ]
    },
    {
     "name": "stderr",
     "output_type": "stream",
     "text": [
      "[1] Loading the environment...\n",
      "[2] Annotating the mutations...\n",
      "Warning message in dndscv(dfback, gene_list = randomgenestemp$V1, outp = 1, refdb = \"data/dndscv/dndscv_data/data/RefCDS_human_GRCh38.p12.rda\"):\n",
      "“Mutations observed in contiguous sites within a sample. Please annotate or remove dinucleotide or complex substitutions for best results.”Warning message in dndscv(dfback, gene_list = randomgenestemp$V1, outp = 1, refdb = \"data/dndscv/dndscv_data/data/RefCDS_human_GRCh38.p12.rda\"):\n",
      "“Same mutations observed in different sampleIDs. Please verify that these are independent events and remove duplicates otherwise.”    Note: 2074 mutations removed for exceeding the limit of mutations per gene per sample\n",
      "    15% ...\n",
      "    30% ...\n",
      "    45% ...\n",
      "    59% ...\n",
      "    74% ...\n",
      "    89% ...\n",
      "[3] Estimating global rates...\n"
     ]
    },
    {
     "name": "stdout",
     "output_type": "stream",
     "text": [
      "[1] 73\n"
     ]
    },
    {
     "name": "stderr",
     "output_type": "stream",
     "text": [
      "[1] Loading the environment...\n",
      "[2] Annotating the mutations...\n",
      "Warning message in dndscv(dfback, gene_list = randomgenestemp$V1, outp = 1, refdb = \"data/dndscv/dndscv_data/data/RefCDS_human_GRCh38.p12.rda\"):\n",
      "“Mutations observed in contiguous sites within a sample. Please annotate or remove dinucleotide or complex substitutions for best results.”Warning message in dndscv(dfback, gene_list = randomgenestemp$V1, outp = 1, refdb = \"data/dndscv/dndscv_data/data/RefCDS_human_GRCh38.p12.rda\"):\n",
      "“Same mutations observed in different sampleIDs. Please verify that these are independent events and remove duplicates otherwise.”    Note: 2456 mutations removed for exceeding the limit of mutations per gene per sample\n",
      "    15% ...\n",
      "    29% ...\n",
      "    44% ...\n",
      "    58% ...\n",
      "    73% ...\n",
      "    87% ...\n",
      "[3] Estimating global rates...\n"
     ]
    },
    {
     "name": "stdout",
     "output_type": "stream",
     "text": [
      "[1] 74\n"
     ]
    },
    {
     "name": "stderr",
     "output_type": "stream",
     "text": [
      "[1] Loading the environment...\n",
      "[2] Annotating the mutations...\n",
      "Warning message in dndscv(dfback, gene_list = randomgenestemp$V1, outp = 1, refdb = \"data/dndscv/dndscv_data/data/RefCDS_human_GRCh38.p12.rda\"):\n",
      "“Mutations observed in contiguous sites within a sample. Please annotate or remove dinucleotide or complex substitutions for best results.”Warning message in dndscv(dfback, gene_list = randomgenestemp$V1, outp = 1, refdb = \"data/dndscv/dndscv_data/data/RefCDS_human_GRCh38.p12.rda\"):\n",
      "“Same mutations observed in different sampleIDs. Please verify that these are independent events and remove duplicates otherwise.”    Note: 1740 mutations removed for exceeding the limit of mutations per gene per sample\n",
      "    15% ...\n",
      "    31% ...\n",
      "    46% ...\n",
      "    62% ...\n",
      "    77% ...\n",
      "    93% ...\n",
      "[3] Estimating global rates...\n"
     ]
    },
    {
     "name": "stdout",
     "output_type": "stream",
     "text": [
      "[1] 75\n"
     ]
    },
    {
     "name": "stderr",
     "output_type": "stream",
     "text": [
      "[1] Loading the environment...\n",
      "[2] Annotating the mutations...\n",
      "Warning message in dndscv(dfback, gene_list = randomgenestemp$V1, outp = 1, refdb = \"data/dndscv/dndscv_data/data/RefCDS_human_GRCh38.p12.rda\"):\n",
      "“Mutations observed in contiguous sites within a sample. Please annotate or remove dinucleotide or complex substitutions for best results.”Warning message in dndscv(dfback, gene_list = randomgenestemp$V1, outp = 1, refdb = \"data/dndscv/dndscv_data/data/RefCDS_human_GRCh38.p12.rda\"):\n",
      "“Same mutations observed in different sampleIDs. Please verify that these are independent events and remove duplicates otherwise.”    Note: 2829 mutations removed for exceeding the limit of mutations per gene per sample\n",
      "    15% ...\n",
      "    29% ...\n",
      "    44% ...\n",
      "    58% ...\n",
      "    73% ...\n",
      "    87% ...\n",
      "[3] Estimating global rates...\n"
     ]
    },
    {
     "name": "stdout",
     "output_type": "stream",
     "text": [
      "[1] 76\n"
     ]
    },
    {
     "name": "stderr",
     "output_type": "stream",
     "text": [
      "[1] Loading the environment...\n",
      "[2] Annotating the mutations...\n",
      "Warning message in dndscv(dfback, gene_list = randomgenestemp$V1, outp = 1, refdb = \"data/dndscv/dndscv_data/data/RefCDS_human_GRCh38.p12.rda\"):\n",
      "“Mutations observed in contiguous sites within a sample. Please annotate or remove dinucleotide or complex substitutions for best results.”Warning message in dndscv(dfback, gene_list = randomgenestemp$V1, outp = 1, refdb = \"data/dndscv/dndscv_data/data/RefCDS_human_GRCh38.p12.rda\"):\n",
      "“Same mutations observed in different sampleIDs. Please verify that these are independent events and remove duplicates otherwise.”    Note: 1836 mutations removed for exceeding the limit of mutations per gene per sample\n",
      "    15% ...\n",
      "    31% ...\n",
      "    46% ...\n",
      "    62% ...\n",
      "    77% ...\n",
      "    93% ...\n",
      "[3] Estimating global rates...\n"
     ]
    },
    {
     "name": "stdout",
     "output_type": "stream",
     "text": [
      "[1] 77\n"
     ]
    },
    {
     "name": "stderr",
     "output_type": "stream",
     "text": [
      "[1] Loading the environment...\n",
      "[2] Annotating the mutations...\n",
      "Warning message in dndscv(dfback, gene_list = randomgenestemp$V1, outp = 1, refdb = \"data/dndscv/dndscv_data/data/RefCDS_human_GRCh38.p12.rda\"):\n",
      "“Mutations observed in contiguous sites within a sample. Please annotate or remove dinucleotide or complex substitutions for best results.”Warning message in dndscv(dfback, gene_list = randomgenestemp$V1, outp = 1, refdb = \"data/dndscv/dndscv_data/data/RefCDS_human_GRCh38.p12.rda\"):\n",
      "“Same mutations observed in different sampleIDs. Please verify that these are independent events and remove duplicates otherwise.”    Note: 2073 mutations removed for exceeding the limit of mutations per gene per sample\n",
      "    15% ...\n",
      "    30% ...\n",
      "    45% ...\n",
      "    60% ...\n",
      "    75% ...\n",
      "    90% ...\n",
      "[3] Estimating global rates...\n"
     ]
    },
    {
     "name": "stdout",
     "output_type": "stream",
     "text": [
      "[1] 78\n"
     ]
    },
    {
     "name": "stderr",
     "output_type": "stream",
     "text": [
      "[1] Loading the environment...\n",
      "[2] Annotating the mutations...\n",
      "Warning message in dndscv(dfback, gene_list = randomgenestemp$V1, outp = 1, refdb = \"data/dndscv/dndscv_data/data/RefCDS_human_GRCh38.p12.rda\"):\n",
      "“Mutations observed in contiguous sites within a sample. Please annotate or remove dinucleotide or complex substitutions for best results.”Warning message in dndscv(dfback, gene_list = randomgenestemp$V1, outp = 1, refdb = \"data/dndscv/dndscv_data/data/RefCDS_human_GRCh38.p12.rda\"):\n",
      "“Same mutations observed in different sampleIDs. Please verify that these are independent events and remove duplicates otherwise.”    Note: 1813 mutations removed for exceeding the limit of mutations per gene per sample\n",
      "    16% ...\n",
      "    32% ...\n",
      "    48% ...\n",
      "    64% ...\n",
      "    79% ...\n",
      "    95% ...\n",
      "[3] Estimating global rates...\n"
     ]
    },
    {
     "name": "stdout",
     "output_type": "stream",
     "text": [
      "[1] 79\n"
     ]
    },
    {
     "name": "stderr",
     "output_type": "stream",
     "text": [
      "[1] Loading the environment...\n",
      "[2] Annotating the mutations...\n",
      "Warning message in dndscv(dfback, gene_list = randomgenestemp$V1, outp = 1, refdb = \"data/dndscv/dndscv_data/data/RefCDS_human_GRCh38.p12.rda\"):\n",
      "“Mutations observed in contiguous sites within a sample. Please annotate or remove dinucleotide or complex substitutions for best results.”Warning message in dndscv(dfback, gene_list = randomgenestemp$V1, outp = 1, refdb = \"data/dndscv/dndscv_data/data/RefCDS_human_GRCh38.p12.rda\"):\n",
      "“Same mutations observed in different sampleIDs. Please verify that these are independent events and remove duplicates otherwise.”    Note: 6050 mutations removed for exceeding the limit of mutations per gene per sample\n",
      "    14% ...\n",
      "    29% ...\n",
      "    43% ...\n",
      "    57% ...\n",
      "    72% ...\n",
      "    86% ...\n",
      "[3] Estimating global rates...\n"
     ]
    },
    {
     "name": "stdout",
     "output_type": "stream",
     "text": [
      "[1] 80\n"
     ]
    },
    {
     "name": "stderr",
     "output_type": "stream",
     "text": [
      "[1] Loading the environment...\n",
      "[2] Annotating the mutations...\n",
      "Warning message in dndscv(dfback, gene_list = randomgenestemp$V1, outp = 1, refdb = \"data/dndscv/dndscv_data/data/RefCDS_human_GRCh38.p12.rda\"):\n",
      "“Mutations observed in contiguous sites within a sample. Please annotate or remove dinucleotide or complex substitutions for best results.”Warning message in dndscv(dfback, gene_list = randomgenestemp$V1, outp = 1, refdb = \"data/dndscv/dndscv_data/data/RefCDS_human_GRCh38.p12.rda\"):\n",
      "“Same mutations observed in different sampleIDs. Please verify that these are independent events and remove duplicates otherwise.”    Note: 1447 mutations removed for exceeding the limit of mutations per gene per sample\n",
      "    16% ...\n",
      "    32% ...\n",
      "    48% ...\n",
      "    63% ...\n",
      "    79% ...\n",
      "    95% ...\n",
      "[3] Estimating global rates...\n"
     ]
    },
    {
     "name": "stdout",
     "output_type": "stream",
     "text": [
      "[1] 81\n"
     ]
    },
    {
     "name": "stderr",
     "output_type": "stream",
     "text": [
      "[1] Loading the environment...\n",
      "[2] Annotating the mutations...\n",
      "Warning message in dndscv(dfback, gene_list = randomgenestemp$V1, outp = 1, refdb = \"data/dndscv/dndscv_data/data/RefCDS_human_GRCh38.p12.rda\"):\n",
      "“Mutations observed in contiguous sites within a sample. Please annotate or remove dinucleotide or complex substitutions for best results.”Warning message in dndscv(dfback, gene_list = randomgenestemp$V1, outp = 1, refdb = \"data/dndscv/dndscv_data/data/RefCDS_human_GRCh38.p12.rda\"):\n",
      "“Same mutations observed in different sampleIDs. Please verify that these are independent events and remove duplicates otherwise.”    Note: 3510 mutations removed for exceeding the limit of mutations per gene per sample\n",
      "    15% ...\n",
      "    30% ...\n",
      "    45% ...\n",
      "    60% ...\n",
      "    75% ...\n",
      "    90% ...\n",
      "[3] Estimating global rates...\n"
     ]
    },
    {
     "name": "stdout",
     "output_type": "stream",
     "text": [
      "[1] 82\n"
     ]
    },
    {
     "name": "stderr",
     "output_type": "stream",
     "text": [
      "[1] Loading the environment...\n",
      "[2] Annotating the mutations...\n",
      "Warning message in dndscv(dfback, gene_list = randomgenestemp$V1, outp = 1, refdb = \"data/dndscv/dndscv_data/data/RefCDS_human_GRCh38.p12.rda\"):\n",
      "“Mutations observed in contiguous sites within a sample. Please annotate or remove dinucleotide or complex substitutions for best results.”Warning message in dndscv(dfback, gene_list = randomgenestemp$V1, outp = 1, refdb = \"data/dndscv/dndscv_data/data/RefCDS_human_GRCh38.p12.rda\"):\n",
      "“Same mutations observed in different sampleIDs. Please verify that these are independent events and remove duplicates otherwise.”    Note: 1958 mutations removed for exceeding the limit of mutations per gene per sample\n",
      "    15% ...\n",
      "    30% ...\n",
      "    45% ...\n",
      "    60% ...\n",
      "    75% ...\n",
      "    90% ...\n",
      "[3] Estimating global rates...\n"
     ]
    },
    {
     "name": "stdout",
     "output_type": "stream",
     "text": [
      "[1] 83\n"
     ]
    },
    {
     "name": "stderr",
     "output_type": "stream",
     "text": [
      "[1] Loading the environment...\n",
      "[2] Annotating the mutations...\n",
      "Warning message in dndscv(dfback, gene_list = randomgenestemp$V1, outp = 1, refdb = \"data/dndscv/dndscv_data/data/RefCDS_human_GRCh38.p12.rda\"):\n",
      "“Mutations observed in contiguous sites within a sample. Please annotate or remove dinucleotide or complex substitutions for best results.”Warning message in dndscv(dfback, gene_list = randomgenestemp$V1, outp = 1, refdb = \"data/dndscv/dndscv_data/data/RefCDS_human_GRCh38.p12.rda\"):\n",
      "“Same mutations observed in different sampleIDs. Please verify that these are independent events and remove duplicates otherwise.”    Note: 2631 mutations removed for exceeding the limit of mutations per gene per sample\n",
      "    15% ...\n",
      "    31% ...\n",
      "    46% ...\n",
      "    62% ...\n",
      "    77% ...\n",
      "    92% ...\n",
      "[3] Estimating global rates...\n"
     ]
    },
    {
     "name": "stdout",
     "output_type": "stream",
     "text": [
      "[1] 84\n"
     ]
    },
    {
     "name": "stderr",
     "output_type": "stream",
     "text": [
      "[1] Loading the environment...\n",
      "[2] Annotating the mutations...\n",
      "Warning message in dndscv(dfback, gene_list = randomgenestemp$V1, outp = 1, refdb = \"data/dndscv/dndscv_data/data/RefCDS_human_GRCh38.p12.rda\"):\n",
      "“Mutations observed in contiguous sites within a sample. Please annotate or remove dinucleotide or complex substitutions for best results.”Warning message in dndscv(dfback, gene_list = randomgenestemp$V1, outp = 1, refdb = \"data/dndscv/dndscv_data/data/RefCDS_human_GRCh38.p12.rda\"):\n",
      "“Same mutations observed in different sampleIDs. Please verify that these are independent events and remove duplicates otherwise.”    Note: 2235 mutations removed for exceeding the limit of mutations per gene per sample\n",
      "    15% ...\n",
      "    29% ...\n",
      "    44% ...\n",
      "    58% ...\n",
      "    73% ...\n",
      "    88% ...\n",
      "[3] Estimating global rates...\n"
     ]
    },
    {
     "name": "stdout",
     "output_type": "stream",
     "text": [
      "[1] 85\n"
     ]
    },
    {
     "name": "stderr",
     "output_type": "stream",
     "text": [
      "[1] Loading the environment...\n",
      "[2] Annotating the mutations...\n",
      "Warning message in dndscv(dfback, gene_list = randomgenestemp$V1, outp = 1, refdb = \"data/dndscv/dndscv_data/data/RefCDS_human_GRCh38.p12.rda\"):\n",
      "“Mutations observed in contiguous sites within a sample. Please annotate or remove dinucleotide or complex substitutions for best results.”Warning message in dndscv(dfback, gene_list = randomgenestemp$V1, outp = 1, refdb = \"data/dndscv/dndscv_data/data/RefCDS_human_GRCh38.p12.rda\"):\n",
      "“Same mutations observed in different sampleIDs. Please verify that these are independent events and remove duplicates otherwise.”    Note: 1702 mutations removed for exceeding the limit of mutations per gene per sample\n",
      "    15% ...\n",
      "    31% ...\n",
      "    46% ...\n",
      "    62% ...\n",
      "    77% ...\n",
      "    93% ...\n",
      "[3] Estimating global rates...\n"
     ]
    },
    {
     "name": "stdout",
     "output_type": "stream",
     "text": [
      "[1] 86\n"
     ]
    },
    {
     "name": "stderr",
     "output_type": "stream",
     "text": [
      "[1] Loading the environment...\n",
      "[2] Annotating the mutations...\n",
      "Warning message in dndscv(dfback, gene_list = randomgenestemp$V1, outp = 1, refdb = \"data/dndscv/dndscv_data/data/RefCDS_human_GRCh38.p12.rda\"):\n",
      "“Mutations observed in contiguous sites within a sample. Please annotate or remove dinucleotide or complex substitutions for best results.”Warning message in dndscv(dfback, gene_list = randomgenestemp$V1, outp = 1, refdb = \"data/dndscv/dndscv_data/data/RefCDS_human_GRCh38.p12.rda\"):\n",
      "“Same mutations observed in different sampleIDs. Please verify that these are independent events and remove duplicates otherwise.”    Note: 2063 mutations removed for exceeding the limit of mutations per gene per sample\n",
      "    14% ...\n",
      "    29% ...\n",
      "    43% ...\n",
      "    57% ...\n",
      "    72% ...\n",
      "    86% ...\n",
      "[3] Estimating global rates...\n"
     ]
    },
    {
     "name": "stdout",
     "output_type": "stream",
     "text": [
      "[1] 87\n"
     ]
    },
    {
     "name": "stderr",
     "output_type": "stream",
     "text": [
      "[1] Loading the environment...\n",
      "[2] Annotating the mutations...\n",
      "Warning message in dndscv(dfback, gene_list = randomgenestemp$V1, outp = 1, refdb = \"data/dndscv/dndscv_data/data/RefCDS_human_GRCh38.p12.rda\"):\n",
      "“Mutations observed in contiguous sites within a sample. Please annotate or remove dinucleotide or complex substitutions for best results.”Warning message in dndscv(dfback, gene_list = randomgenestemp$V1, outp = 1, refdb = \"data/dndscv/dndscv_data/data/RefCDS_human_GRCh38.p12.rda\"):\n",
      "“Same mutations observed in different sampleIDs. Please verify that these are independent events and remove duplicates otherwise.”    Note: 3588 mutations removed for exceeding the limit of mutations per gene per sample\n",
      "    14% ...\n",
      "    28% ...\n",
      "    43% ...\n",
      "    57% ...\n",
      "    71% ...\n",
      "    85% ...\n",
      "    100% ...\n",
      "[3] Estimating global rates...\n"
     ]
    },
    {
     "name": "stdout",
     "output_type": "stream",
     "text": [
      "[1] 88\n"
     ]
    },
    {
     "name": "stderr",
     "output_type": "stream",
     "text": [
      "[1] Loading the environment...\n",
      "[2] Annotating the mutations...\n",
      "Warning message in dndscv(dfback, gene_list = randomgenestemp$V1, outp = 1, refdb = \"data/dndscv/dndscv_data/data/RefCDS_human_GRCh38.p12.rda\"):\n",
      "“Mutations observed in contiguous sites within a sample. Please annotate or remove dinucleotide or complex substitutions for best results.”Warning message in dndscv(dfback, gene_list = randomgenestemp$V1, outp = 1, refdb = \"data/dndscv/dndscv_data/data/RefCDS_human_GRCh38.p12.rda\"):\n",
      "“Same mutations observed in different sampleIDs. Please verify that these are independent events and remove duplicates otherwise.”    Note: 2611 mutations removed for exceeding the limit of mutations per gene per sample\n",
      "    15% ...\n",
      "    29% ...\n",
      "    44% ...\n",
      "    59% ...\n",
      "    74% ...\n",
      "    88% ...\n",
      "[3] Estimating global rates...\n"
     ]
    },
    {
     "name": "stdout",
     "output_type": "stream",
     "text": [
      "[1] 89\n"
     ]
    },
    {
     "name": "stderr",
     "output_type": "stream",
     "text": [
      "[1] Loading the environment...\n",
      "[2] Annotating the mutations...\n",
      "Warning message in dndscv(dfback, gene_list = randomgenestemp$V1, outp = 1, refdb = \"data/dndscv/dndscv_data/data/RefCDS_human_GRCh38.p12.rda\"):\n",
      "“Mutations observed in contiguous sites within a sample. Please annotate or remove dinucleotide or complex substitutions for best results.”Warning message in dndscv(dfback, gene_list = randomgenestemp$V1, outp = 1, refdb = \"data/dndscv/dndscv_data/data/RefCDS_human_GRCh38.p12.rda\"):\n",
      "“Same mutations observed in different sampleIDs. Please verify that these are independent events and remove duplicates otherwise.”    Note: 1848 mutations removed for exceeding the limit of mutations per gene per sample\n",
      "    16% ...\n",
      "    31% ...\n",
      "    47% ...\n",
      "    63% ...\n",
      "    79% ...\n",
      "    94% ...\n",
      "[3] Estimating global rates...\n"
     ]
    },
    {
     "name": "stdout",
     "output_type": "stream",
     "text": [
      "[1] 90\n"
     ]
    },
    {
     "name": "stderr",
     "output_type": "stream",
     "text": [
      "[1] Loading the environment...\n",
      "[2] Annotating the mutations...\n",
      "Warning message in dndscv(dfback, gene_list = randomgenestemp$V1, outp = 1, refdb = \"data/dndscv/dndscv_data/data/RefCDS_human_GRCh38.p12.rda\"):\n",
      "“Mutations observed in contiguous sites within a sample. Please annotate or remove dinucleotide or complex substitutions for best results.”Warning message in dndscv(dfback, gene_list = randomgenestemp$V1, outp = 1, refdb = \"data/dndscv/dndscv_data/data/RefCDS_human_GRCh38.p12.rda\"):\n",
      "“Same mutations observed in different sampleIDs. Please verify that these are independent events and remove duplicates otherwise.”    Note: 1789 mutations removed for exceeding the limit of mutations per gene per sample\n",
      "    15% ...\n",
      "    30% ...\n",
      "    45% ...\n",
      "    61% ...\n",
      "    76% ...\n",
      "    91% ...\n",
      "[3] Estimating global rates...\n"
     ]
    },
    {
     "name": "stdout",
     "output_type": "stream",
     "text": [
      "[1] 91\n"
     ]
    },
    {
     "name": "stderr",
     "output_type": "stream",
     "text": [
      "[1] Loading the environment...\n",
      "[2] Annotating the mutations...\n",
      "Warning message in dndscv(dfback, gene_list = randomgenestemp$V1, outp = 1, refdb = \"data/dndscv/dndscv_data/data/RefCDS_human_GRCh38.p12.rda\"):\n",
      "“Mutations observed in contiguous sites within a sample. Please annotate or remove dinucleotide or complex substitutions for best results.”Warning message in dndscv(dfback, gene_list = randomgenestemp$V1, outp = 1, refdb = \"data/dndscv/dndscv_data/data/RefCDS_human_GRCh38.p12.rda\"):\n",
      "“Same mutations observed in different sampleIDs. Please verify that these are independent events and remove duplicates otherwise.”    Note: 1616 mutations removed for exceeding the limit of mutations per gene per sample\n",
      "    15% ...\n",
      "    29% ...\n",
      "    44% ...\n",
      "    59% ...\n",
      "    73% ...\n",
      "    88% ...\n",
      "[3] Estimating global rates...\n"
     ]
    },
    {
     "name": "stdout",
     "output_type": "stream",
     "text": [
      "[1] 92\n"
     ]
    },
    {
     "name": "stderr",
     "output_type": "stream",
     "text": [
      "[1] Loading the environment...\n",
      "[2] Annotating the mutations...\n",
      "Warning message in dndscv(dfback, gene_list = randomgenestemp$V1, outp = 1, refdb = \"data/dndscv/dndscv_data/data/RefCDS_human_GRCh38.p12.rda\"):\n",
      "“Mutations observed in contiguous sites within a sample. Please annotate or remove dinucleotide or complex substitutions for best results.”Warning message in dndscv(dfback, gene_list = randomgenestemp$V1, outp = 1, refdb = \"data/dndscv/dndscv_data/data/RefCDS_human_GRCh38.p12.rda\"):\n",
      "“Same mutations observed in different sampleIDs. Please verify that these are independent events and remove duplicates otherwise.”    Note: 2490 mutations removed for exceeding the limit of mutations per gene per sample\n",
      "    15% ...\n",
      "    30% ...\n",
      "    44% ...\n",
      "    59% ...\n",
      "    74% ...\n",
      "    89% ...\n",
      "[3] Estimating global rates...\n"
     ]
    },
    {
     "name": "stdout",
     "output_type": "stream",
     "text": [
      "[1] 93\n"
     ]
    },
    {
     "name": "stderr",
     "output_type": "stream",
     "text": [
      "[1] Loading the environment...\n",
      "[2] Annotating the mutations...\n",
      "Warning message in dndscv(dfback, gene_list = randomgenestemp$V1, outp = 1, refdb = \"data/dndscv/dndscv_data/data/RefCDS_human_GRCh38.p12.rda\"):\n",
      "“Mutations observed in contiguous sites within a sample. Please annotate or remove dinucleotide or complex substitutions for best results.”Warning message in dndscv(dfback, gene_list = randomgenestemp$V1, outp = 1, refdb = \"data/dndscv/dndscv_data/data/RefCDS_human_GRCh38.p12.rda\"):\n",
      "“Same mutations observed in different sampleIDs. Please verify that these are independent events and remove duplicates otherwise.”    Note: 2243 mutations removed for exceeding the limit of mutations per gene per sample\n",
      "    15% ...\n",
      "    29% ...\n",
      "    44% ...\n",
      "    58% ...\n",
      "    73% ...\n",
      "    88% ...\n",
      "[3] Estimating global rates...\n"
     ]
    },
    {
     "name": "stdout",
     "output_type": "stream",
     "text": [
      "[1] 94\n"
     ]
    },
    {
     "name": "stderr",
     "output_type": "stream",
     "text": [
      "[1] Loading the environment...\n",
      "[2] Annotating the mutations...\n",
      "Warning message in dndscv(dfback, gene_list = randomgenestemp$V1, outp = 1, refdb = \"data/dndscv/dndscv_data/data/RefCDS_human_GRCh38.p12.rda\"):\n",
      "“Mutations observed in contiguous sites within a sample. Please annotate or remove dinucleotide or complex substitutions for best results.”Warning message in dndscv(dfback, gene_list = randomgenestemp$V1, outp = 1, refdb = \"data/dndscv/dndscv_data/data/RefCDS_human_GRCh38.p12.rda\"):\n",
      "“Same mutations observed in different sampleIDs. Please verify that these are independent events and remove duplicates otherwise.”    Note: 2904 mutations removed for exceeding the limit of mutations per gene per sample\n",
      "    15% ...\n",
      "    29% ...\n",
      "    44% ...\n",
      "    59% ...\n",
      "    73% ...\n",
      "    88% ...\n",
      "[3] Estimating global rates...\n"
     ]
    },
    {
     "name": "stdout",
     "output_type": "stream",
     "text": [
      "[1] 95\n"
     ]
    },
    {
     "name": "stderr",
     "output_type": "stream",
     "text": [
      "[1] Loading the environment...\n",
      "[2] Annotating the mutations...\n",
      "Warning message in dndscv(dfback, gene_list = randomgenestemp$V1, outp = 1, refdb = \"data/dndscv/dndscv_data/data/RefCDS_human_GRCh38.p12.rda\"):\n",
      "“Mutations observed in contiguous sites within a sample. Please annotate or remove dinucleotide or complex substitutions for best results.”Warning message in dndscv(dfback, gene_list = randomgenestemp$V1, outp = 1, refdb = \"data/dndscv/dndscv_data/data/RefCDS_human_GRCh38.p12.rda\"):\n",
      "“Same mutations observed in different sampleIDs. Please verify that these are independent events and remove duplicates otherwise.”    Note: 2285 mutations removed for exceeding the limit of mutations per gene per sample\n",
      "    14% ...\n",
      "    29% ...\n",
      "    43% ...\n",
      "    57% ...\n",
      "    72% ...\n",
      "    86% ...\n",
      "[3] Estimating global rates...\n"
     ]
    },
    {
     "name": "stdout",
     "output_type": "stream",
     "text": [
      "[1] 96\n"
     ]
    },
    {
     "name": "stderr",
     "output_type": "stream",
     "text": [
      "[1] Loading the environment...\n",
      "[2] Annotating the mutations...\n",
      "Warning message in dndscv(dfback, gene_list = randomgenestemp$V1, outp = 1, refdb = \"data/dndscv/dndscv_data/data/RefCDS_human_GRCh38.p12.rda\"):\n",
      "“Mutations observed in contiguous sites within a sample. Please annotate or remove dinucleotide or complex substitutions for best results.”Warning message in dndscv(dfback, gene_list = randomgenestemp$V1, outp = 1, refdb = \"data/dndscv/dndscv_data/data/RefCDS_human_GRCh38.p12.rda\"):\n",
      "“Same mutations observed in different sampleIDs. Please verify that these are independent events and remove duplicates otherwise.”    Note: 2595 mutations removed for exceeding the limit of mutations per gene per sample\n",
      "    15% ...\n",
      "    31% ...\n",
      "    46% ...\n",
      "    61% ...\n",
      "    76% ...\n",
      "    92% ...\n",
      "[3] Estimating global rates...\n"
     ]
    },
    {
     "name": "stdout",
     "output_type": "stream",
     "text": [
      "[1] 97\n"
     ]
    },
    {
     "name": "stderr",
     "output_type": "stream",
     "text": [
      "[1] Loading the environment...\n",
      "[2] Annotating the mutations...\n",
      "Warning message in dndscv(dfback, gene_list = randomgenestemp$V1, outp = 1, refdb = \"data/dndscv/dndscv_data/data/RefCDS_human_GRCh38.p12.rda\"):\n",
      "“Mutations observed in contiguous sites within a sample. Please annotate or remove dinucleotide or complex substitutions for best results.”Warning message in dndscv(dfback, gene_list = randomgenestemp$V1, outp = 1, refdb = \"data/dndscv/dndscv_data/data/RefCDS_human_GRCh38.p12.rda\"):\n",
      "“Same mutations observed in different sampleIDs. Please verify that these are independent events and remove duplicates otherwise.”    Note: 2703 mutations removed for exceeding the limit of mutations per gene per sample\n",
      "    15% ...\n",
      "    30% ...\n",
      "    45% ...\n",
      "    60% ...\n",
      "    75% ...\n",
      "    90% ...\n",
      "[3] Estimating global rates...\n"
     ]
    },
    {
     "name": "stdout",
     "output_type": "stream",
     "text": [
      "[1] 98\n"
     ]
    },
    {
     "name": "stderr",
     "output_type": "stream",
     "text": [
      "[1] Loading the environment...\n",
      "[2] Annotating the mutations...\n",
      "Warning message in dndscv(dfback, gene_list = randomgenestemp$V1, outp = 1, refdb = \"data/dndscv/dndscv_data/data/RefCDS_human_GRCh38.p12.rda\"):\n",
      "“Mutations observed in contiguous sites within a sample. Please annotate or remove dinucleotide or complex substitutions for best results.”Warning message in dndscv(dfback, gene_list = randomgenestemp$V1, outp = 1, refdb = \"data/dndscv/dndscv_data/data/RefCDS_human_GRCh38.p12.rda\"):\n",
      "“Same mutations observed in different sampleIDs. Please verify that these are independent events and remove duplicates otherwise.”    Note: 1997 mutations removed for exceeding the limit of mutations per gene per sample\n",
      "    15% ...\n",
      "    30% ...\n",
      "    46% ...\n",
      "    61% ...\n",
      "    76% ...\n",
      "    91% ...\n",
      "[3] Estimating global rates...\n"
     ]
    },
    {
     "name": "stdout",
     "output_type": "stream",
     "text": [
      "[1] 99\n"
     ]
    },
    {
     "name": "stderr",
     "output_type": "stream",
     "text": [
      "[1] Loading the environment...\n",
      "[2] Annotating the mutations...\n",
      "Warning message in dndscv(dfback, gene_list = randomgenestemp$V1, outp = 1, refdb = \"data/dndscv/dndscv_data/data/RefCDS_human_GRCh38.p12.rda\"):\n",
      "“Mutations observed in contiguous sites within a sample. Please annotate or remove dinucleotide or complex substitutions for best results.”Warning message in dndscv(dfback, gene_list = randomgenestemp$V1, outp = 1, refdb = \"data/dndscv/dndscv_data/data/RefCDS_human_GRCh38.p12.rda\"):\n",
      "“Same mutations observed in different sampleIDs. Please verify that these are independent events and remove duplicates otherwise.”    Note: 2122 mutations removed for exceeding the limit of mutations per gene per sample\n",
      "    15% ...\n",
      "    31% ...\n",
      "    46% ...\n",
      "    62% ...\n",
      "    77% ...\n",
      "    92% ...\n",
      "[3] Estimating global rates...\n"
     ]
    },
    {
     "name": "stdout",
     "output_type": "stream",
     "text": [
      "[1] 100\n"
     ]
    },
    {
     "name": "stderr",
     "output_type": "stream",
     "text": [
      "[1] Loading the environment...\n",
      "[2] Annotating the mutations...\n",
      "Warning message in dndscv(dfback, gene_list = randomgenestemp$V1, outp = 1, refdb = \"data/dndscv/dndscv_data/data/RefCDS_human_GRCh38.p12.rda\"):\n",
      "“Mutations observed in contiguous sites within a sample. Please annotate or remove dinucleotide or complex substitutions for best results.”Warning message in dndscv(dfback, gene_list = randomgenestemp$V1, outp = 1, refdb = \"data/dndscv/dndscv_data/data/RefCDS_human_GRCh38.p12.rda\"):\n",
      "“Same mutations observed in different sampleIDs. Please verify that these are independent events and remove duplicates otherwise.”    Note: 2620 mutations removed for exceeding the limit of mutations per gene per sample\n",
      "    15% ...\n",
      "    29% ...\n",
      "    44% ...\n",
      "    58% ...\n",
      "    73% ...\n",
      "    87% ...\n",
      "[3] Estimating global rates...\n"
     ]
    }
   ],
   "source": [
    "# generate an additional 100 random samples and ensure mean is 1\n",
    "dndsrandom2 <- data.frame()\n",
    "\n",
    "for (i in 1:100){\n",
    "    print(i)\n",
    "    randomgenestemp <- read.table(\"data/genelists/refcdsgenes.txt\", header = TRUE) %>%\n",
    "        filter(!V1 %in% cellessential$V1, !V1 %in% drivers$V1) %>%\n",
    "        sample_n(1000)\n",
    "    x <- dndscv(dfback, gene_list = randomgenestemp$V1, outp = 1, \n",
    "                refdb = \"data/dndscv/dndscv_data/data/RefCDS_human_GRCh38.p12.rda\")\n",
    "    out <- x$globaldnds %>% mutate(mutationtype = \"randomgenes\")\n",
    "    dndsrandom2 <- rbind(dndsrandom2, out)\n",
    "}"
   ]
  },
  {
   "cell_type": "code",
   "execution_count": 35,
   "metadata": {},
   "outputs": [],
   "source": [
    "dndsrandom2 %>%\n",
    "        left_join(., baseline, by = \"name\") %>%\n",
    "        mutate(mle = mle - (dnds_bl - 1),\n",
    "              cilow = cilow - (dnds_bl - 1),\n",
    "              cihigh = cihigh - (dnds_bl - 1)) %>%\n",
    "write_csv(., \"FinalFigures/data_for_figures/dNdS_baseline_validate.csv\")\n",
    "    "
   ]
  },
  {
   "cell_type": "markdown",
   "metadata": {},
   "source": [
    "### dN/dS subclonal vs clonal"
   ]
  },
  {
   "cell_type": "code",
   "execution_count": 36,
   "metadata": {
    "scrolled": false
   },
   "outputs": [
    {
     "name": "stdout",
     "output_type": "stream",
     "text": [
      "[1] 2619\n"
     ]
    },
    {
     "name": "stderr",
     "output_type": "stream",
     "text": [
      "[1] Loading the environment...\n",
      "[2] Annotating the mutations...\n",
      "Warning message in dndscv(x1, gene_list = as.character(drivers$V1), outp = 1, refdb = \"data/dndscv/dndscv_data/data/RefCDS_human_GRCh38.p12.rda\"):\n",
      "“Mutations observed in contiguous sites within a sample. Please annotate or remove dinucleotide or complex substitutions for best results.”Warning message in dndscv(x1, gene_list = as.character(drivers$V1), outp = 1, refdb = \"data/dndscv/dndscv_data/data/RefCDS_human_GRCh38.p12.rda\"):\n",
      "“Same mutations observed in different sampleIDs. Please verify that these are independent events and remove duplicates otherwise.”    Note: 14 mutations removed for exceeding the limit of mutations per gene per sample\n",
      "[3] Estimating global rates...\n"
     ]
    },
    {
     "name": "stdout",
     "output_type": "stream",
     "text": [
      "[1] \"Subclonal\"\n",
      "  name      mle     cilow   cihigh clonality mutationtype\n",
      "1 wmis 1.301226 1.1887701 1.424320 Subclonal      drivers\n",
      "2 wnon 2.492821 2.1305445 2.916698 Subclonal      drivers\n",
      "3 wspl 1.125045 0.8625158 1.467482 Subclonal      drivers\n",
      "4 wtru 2.006855 1.7399483 2.314706 Subclonal      drivers\n",
      "5 wall 1.366820 1.2501703 1.494353 Subclonal      drivers\n"
     ]
    },
    {
     "name": "stderr",
     "output_type": "stream",
     "text": [
      "[1] Loading the environment...\n",
      "[2] Annotating the mutations...\n",
      "Warning message in dndscv(x1, gene_list = as.character(cellessential$V1), outp = 1, :\n",
      "“Mutations observed in contiguous sites within a sample. Please annotate or remove dinucleotide or complex substitutions for best results.”Warning message in dndscv(x1, gene_list = as.character(cellessential$V1), outp = 1, :\n",
      "“Same mutations observed in different sampleIDs. Please verify that these are independent events and remove duplicates otherwise.”    Note: 18 mutations removed for exceeding the limit of mutations per gene per sample\n",
      "[3] Estimating global rates...\n",
      "[1] Loading the environment...\n",
      "[2] Annotating the mutations...\n",
      "Warning message in dndscv(x1, outp = 1, refdb = \"data/dndscv/dndscv_data/data/RefCDS_human_GRCh38.p12.rda\"):\n",
      "“Mutations observed in contiguous sites within a sample. Please annotate or remove dinucleotide or complex substitutions for best results.”Warning message in dndscv(x1, outp = 1, refdb = \"data/dndscv/dndscv_data/data/RefCDS_human_GRCh38.p12.rda\"):\n",
      "“Same mutations observed in different sampleIDs. Please verify that these are independent events and remove duplicates otherwise.”    Note: 6 samples excluded for exceeding the limit of mutations per sample\n",
      "    Note: 446 mutations removed for exceeding the limit of mutations per gene per sample\n",
      "    7% ...\n",
      "    15% ...\n",
      "    22% ...\n",
      "    30% ...\n",
      "    37% ...\n",
      "    44% ...\n",
      "    52% ...\n",
      "    59% ...\n",
      "    67% ...\n",
      "    74% ...\n",
      "    81% ...\n",
      "    89% ...\n",
      "    96% ...\n",
      "[3] Estimating global rates...\n",
      "[1] Loading the environment...\n",
      "[2] Annotating the mutations...\n",
      "Warning message in dndscv(x1, gene_list = as.character(drivers$V1), outp = 1, refdb = \"data/dndscv/dndscv_data/data/RefCDS_human_GRCh38.p12.rda\"):\n",
      "“Mutations observed in contiguous sites within a sample. Please annotate or remove dinucleotide or complex substitutions for best results.”Warning message in dndscv(x1, gene_list = as.character(drivers$V1), outp = 1, refdb = \"data/dndscv/dndscv_data/data/RefCDS_human_GRCh38.p12.rda\"):\n",
      "“Same mutations observed in different sampleIDs. Please verify that these are independent events and remove duplicates otherwise.”    Note: 379 mutations removed for exceeding the limit of mutations per gene per sample\n",
      "    85% ...\n",
      "[3] Estimating global rates...\n"
     ]
    },
    {
     "name": "stdout",
     "output_type": "stream",
     "text": [
      "[1] \"Clonal\"\n",
      "  name      mle    cilow   cihigh clonality mutationtype\n",
      "1 wmis 1.363730 1.299535 1.431096    Clonal      drivers\n",
      "2 wnon 3.118913 2.886016 3.370604    Clonal      drivers\n",
      "3 wspl 1.363666 1.193458 1.558148    Clonal      drivers\n",
      "4 wtru 2.519415 2.345925 2.705736    Clonal      drivers\n",
      "5 wall 1.476691 1.408281 1.548424    Clonal      drivers\n"
     ]
    },
    {
     "name": "stderr",
     "output_type": "stream",
     "text": [
      "[1] Loading the environment...\n",
      "[2] Annotating the mutations...\n",
      "Warning message in dndscv(x1, gene_list = as.character(cellessential$V1), outp = 1, :\n",
      "“Mutations observed in contiguous sites within a sample. Please annotate or remove dinucleotide or complex substitutions for best results.”Warning message in dndscv(x1, gene_list = as.character(cellessential$V1), outp = 1, :\n",
      "“Same mutations observed in different sampleIDs. Please verify that these are independent events and remove duplicates otherwise.”    Note: 385 mutations removed for exceeding the limit of mutations per gene per sample\n",
      "    42% ...\n",
      "    84% ...\n",
      "[3] Estimating global rates...\n",
      "[1] Loading the environment...\n",
      "[2] Annotating the mutations...\n",
      "Warning message in dndscv(x1, outp = 1, refdb = \"data/dndscv/dndscv_data/data/RefCDS_human_GRCh38.p12.rda\"):\n",
      "“Mutations observed in contiguous sites within a sample. Please annotate or remove dinucleotide or complex substitutions for best results.”Warning message in dndscv(x1, outp = 1, refdb = \"data/dndscv/dndscv_data/data/RefCDS_human_GRCh38.p12.rda\"):\n",
      "“Same mutations observed in different sampleIDs. Please verify that these are independent events and remove duplicates otherwise.”    Note: 29 samples excluded for exceeding the limit of mutations per sample\n",
      "    Note: 1148 mutations removed for exceeding the limit of mutations per gene per sample\n",
      "    3% ...\n",
      "    6% ...\n",
      "    9% ...\n",
      "    12% ...\n",
      "    16% ...\n",
      "    19% ...\n",
      "    22% ...\n",
      "    25% ...\n",
      "    28% ...\n",
      "    31% ...\n",
      "    34% ...\n",
      "    37% ...\n",
      "    41% ...\n",
      "    44% ...\n",
      "    47% ...\n",
      "    50% ...\n",
      "    53% ...\n",
      "    56% ...\n",
      "    59% ...\n",
      "    62% ...\n",
      "    65% ...\n",
      "    69% ...\n",
      "    72% ...\n",
      "    75% ...\n",
      "    78% ...\n",
      "    81% ...\n",
      "    84% ...\n",
      "    87% ...\n",
      "    90% ...\n",
      "    94% ...\n",
      "    97% ...\n",
      "    100% ...\n",
      "[3] Estimating global rates...\n",
      "[1] Loading the environment...\n",
      "[2] Annotating the mutations...\n",
      "Warning message in dndscv(x1, gene_list = as.character(drivers$V1), outp = 1, refdb = \"data/dndscv/dndscv_data/data/RefCDS_human_GRCh38.p12.rda\"):\n",
      "“Mutations observed in contiguous sites within a sample. Please annotate or remove dinucleotide or complex substitutions for best results.”Warning message in dndscv(x1, gene_list = as.character(drivers$V1), outp = 1, refdb = \"data/dndscv/dndscv_data/data/RefCDS_human_GRCh38.p12.rda\"):\n",
      "“Same mutations observed in different sampleIDs. Please verify that these are independent events and remove duplicates otherwise.”    Note: 13 mutations removed for exceeding the limit of mutations per gene per sample\n",
      "[3] Estimating global rates...\n"
     ]
    },
    {
     "name": "stdout",
     "output_type": "stream",
     "text": [
      "[1] \"Amplified\"\n",
      "  name      mle    cilow   cihigh clonality mutationtype\n",
      "1 wmis 1.803822 1.581243 2.057731 Amplified      drivers\n",
      "2 wnon 4.126698 3.380162 5.038112 Amplified      drivers\n",
      "3 wspl 2.147708 1.589018 2.902831 Amplified      drivers\n",
      "4 wtru 3.412842 2.844514 4.094721 Amplified      drivers\n",
      "5 wall 1.965595 1.726307 2.238052 Amplified      drivers\n"
     ]
    },
    {
     "name": "stderr",
     "output_type": "stream",
     "text": [
      "[1] Loading the environment...\n",
      "[2] Annotating the mutations...\n",
      "Warning message in dndscv(x1, gene_list = as.character(cellessential$V1), outp = 1, :\n",
      "“Mutations observed in contiguous sites within a sample. Please annotate or remove dinucleotide or complex substitutions for best results.”Warning message in dndscv(x1, gene_list = as.character(cellessential$V1), outp = 1, :\n",
      "“Same mutations observed in different sampleIDs. Please verify that these are independent events and remove duplicates otherwise.”    Note: 15 mutations removed for exceeding the limit of mutations per gene per sample\n",
      "[3] Estimating global rates...\n",
      "[1] Loading the environment...\n",
      "[2] Annotating the mutations...\n",
      "Warning message in dndscv(x1, outp = 1, refdb = \"data/dndscv/dndscv_data/data/RefCDS_human_GRCh38.p12.rda\"):\n",
      "“Mutations observed in contiguous sites within a sample. Please annotate or remove dinucleotide or complex substitutions for best results.”Warning message in dndscv(x1, outp = 1, refdb = \"data/dndscv/dndscv_data/data/RefCDS_human_GRCh38.p12.rda\"):\n",
      "“Same mutations observed in different sampleIDs. Please verify that these are independent events and remove duplicates otherwise.”    Note: 2 samples excluded for exceeding the limit of mutations per sample\n",
      "    Note: 134 mutations removed for exceeding the limit of mutations per gene per sample\n",
      "    21% ...\n",
      "    42% ...\n",
      "    63% ...\n",
      "    83% ...\n",
      "[3] Estimating global rates...\n"
     ]
    }
   ],
   "source": [
    "dfsubc <- df %>%\n",
    "    filter(meaneffdepth > 50.0) %>% #remove samples with effective depth < 50X\n",
    "    select(sampleid, chr, start, Reference_Allele, Tumor_Seq_Allele2, everything())\n",
    "\n",
    "print(length(unique(dfsubc$sampleid)))\n",
    "\n",
    "write_csv(dfsubc, \"FinalFigures/data_for_figures/TCGAmutations_for_dnds_clonality.csv\")\n",
    "\n",
    "dfdnds <- data.frame()\n",
    "\n",
    "for (clon in c(\"Subclonal\", \"Clonal\", \"Amplified\")){\n",
    "    x1 <- dfsubc %>% filter(clonality == clon)\n",
    "    \n",
    "    x <- dndscv(x1 , gene_list = as.character(drivers$V1), outp = 1,\n",
    "               refdb = \"data/dndscv/dndscv_data/data/RefCDS_human_GRCh38.p12.rda\")\n",
    "    out <- x$globaldnds %>% mutate(clonality = clon, mutationtype = \"drivers\")\n",
    "    dfdnds <- rbind(dfdnds, out)\n",
    "    print(clon)\n",
    "    print(out)\n",
    "    \n",
    "    x <- dndscv(x1, gene_list = as.character(cellessential$V1), outp = 1,\n",
    "               refdb = \"data/dndscv/dndscv_data/data/RefCDS_human_GRCh38.p12.rda\")\n",
    "    out <- x$globaldnds %>% mutate(clonality = clon, mutationtype = \"cellessential\")\n",
    "    dfdnds <- rbind(dfdnds, out)\n",
    "    \n",
    "    x <- dndscv(x1, outp = 1,\n",
    "               refdb = \"data/dndscv/dndscv_data/data/RefCDS_human_GRCh38.p12.rda\")\n",
    "    out <- x$globaldnds %>% mutate(clonality = clon, mutationtype = \"all\")\n",
    "    dfdnds <- rbind(dfdnds, out)\n",
    "}\n",
    "\n",
    "dfdnds <- dfdnds %>%\n",
    "    mutate(clonality = factor(clonality, \n",
    "                              levels = c(\"Subclonal\", \"Clonal\", \"Amplified\")))"
   ]
  },
  {
   "cell_type": "code",
   "execution_count": 37,
   "metadata": {},
   "outputs": [
    {
     "data": {
      "text/html": [
       "2619"
      ],
      "text/latex": [
       "2619"
      ],
      "text/markdown": [
       "2619"
      ],
      "text/plain": [
       "[1] 2619"
      ]
     },
     "metadata": {},
     "output_type": "display_data"
    }
   ],
   "source": [
    "length(unique(dfsubc$sampleid))"
   ]
  },
  {
   "cell_type": "code",
   "execution_count": 38,
   "metadata": {},
   "outputs": [],
   "source": [
    "getdndsplot <- function(dfdnds, baseline, mutname, muttype, plottitle = \"\", \n",
    "                        ylabel = \"dN/dS\", ylims = c(0.8, 2.0), pointsize = 2, linesize = 1){\n",
    "\n",
    "    dftemp <- dfdnds %>%\n",
    "        left_join(., baseline, by = \"name\") %>%\n",
    "        mutate(mle = mle - (dnds_bl - 1),\n",
    "              cilow = cilow - (dnds_bl - 1),\n",
    "              cihigh = cihigh - (dnds_bl - 1)) %>%\n",
    "        filter(name == mutname, mutationtype ==  muttype)\n",
    "    out <- dfdnds %>%\n",
    "    filter(name == mutname, mutationtype ==  muttype) %>%\n",
    "    ggplot(aes(x = clonality, y = mle, ymin = cilow, ymax = cihigh, col = clonality)) +\n",
    "    geom_point(size = pointsize) +\n",
    "    geom_linerange(size = linesize) +\n",
    "    geom_hline(yintercept = 1.0, lty = 2) +\n",
    "    background_grid(major = \"xy\", minor = \"none\") +\n",
    "    ylab(ylabel) + xlab(\"\") + ggtitle(plottitle) +\n",
    "    theme(axis.text.x = element_text(angle = 45, hjust = 1)) +\n",
    "    scale_color_ptol() + ylim(ylims)\n",
    "    return(out)\n",
    "}"
   ]
  },
  {
   "cell_type": "code",
   "execution_count": 62,
   "metadata": {
    "scrolled": true
   },
   "outputs": [
    {
     "name": "stderr",
     "output_type": "stream",
     "text": [
      "Scale for 'colour' is already present. Adding another scale for 'colour',\n",
      "which will replace the existing scale.\n",
      "Scale for 'colour' is already present. Adding another scale for 'colour',\n",
      "which will replace the existing scale.\n",
      "Warning message:\n",
      "“Removed 5629 rows containing non-finite values (stat_bin).”Warning message:\n",
      "“Removed 8 rows containing missing values (geom_bar).”Warning message:\n",
      "“Removed 1 rows containing missing values (geom_linerange).”"
     ]
    },
    {
     "data": {},
     "metadata": {},
     "output_type": "display_data"
    },
    {
     "data": {
      "image/png": "[encoded data removed]",
      "text/plain": [
       "plot without title"
      ]
     },
     "metadata": {},
     "output_type": "display_data"
    }
   ],
   "source": [
    "write_csv(dfdnds, \"FinalFigures/data_for_figures/TCGA_dnds_clonality.csv\")\n",
    "library(jcolors)\n",
    "gvafall <- dfsubc %>%\n",
    "    mutate(clonality = factor(clonality, \n",
    "                              levels = c(\"Subclonal\", \"Clonal\", \"Amplified\"))) %>%\n",
    "    ggplot(aes(x = MCN, fill = clonality)) +\n",
    "    geom_histogram(bins = 100, position = \"identity\") +\n",
    "    geom_vline(xintercept = 1.0, lty = 2, col = \"firebrick\", alpha = 0.5) +\n",
    "    xlim(c(0, 3.0)) +\n",
    "    theme(legend.position = c(0.5, 0.8), legend.title = element_blank()) +\n",
    "    xlab(\"Mutation copy number\") + ylab(\"Counts\") + \n",
    "    scale_fill_jcolors(palette = \"pal9\") #+scale_color_jcolors(palette = \"pal9\")\n",
    "\n",
    "\n",
    "gdndsdriver <- getdndsplot(dfdnds, baseline, \"wmis\", \"drivers\", \"Driver mutations\", \"dN/dS - Missense\", ylims = c(0.5, 2.5)) +\n",
    "                scale_color_jcolors(palette = \"pal9\") + theme(legend.position = \"none\") + ggtitle(\"\")\n",
    "gdndsdrivernon <- getdndsplot(dfdnds, baseline, \"wnon\", \"drivers\", \"Driver mutations\", \"dN/dS - Nonsense\", ylims = c(0.5, 5.0)) +\n",
    "                scale_color_jcolors(palette = \"pal9\") + theme(legend.position = \"none\") + ggtitle(\"\")\n",
    "\n",
    "\n",
    "\n",
    "gclonality <- cowplot::plot_grid(gvafall, gdndsdriver, gdndsdrivernon, ncol = 3, labels = c(\"a\", \"b\", \"c\"))\n",
    "#save_plot(\"plots/1.TCGA/dndsclonality.pdf\", gclonality, base_height = 3.5, base_width = 10)\n",
    "gclonality"
   ]
  },
  {
   "cell_type": "markdown",
   "metadata": {},
   "source": [
    "### Interval dN/dS for subclonal mutations"
   ]
  },
  {
   "cell_type": "code",
   "execution_count": 40,
   "metadata": {},
   "outputs": [
    {
     "name": "stderr",
     "output_type": "stream",
     "text": [
      "[1] Loading the environment...\n",
      "[2] Annotating the mutations...\n",
      "Warning message in dndscv(x1, gene_list = as.character(drivers$V1), outp = 1, refdb = \"data/dndscv/dndscv_data/data/RefCDS_human_GRCh38.p12.rda\"):\n",
      "“Mutations observed in contiguous sites within a sample. Please annotate or remove dinucleotide or complex substitutions for best results.”Warning message in dndscv(x1, gene_list = as.character(drivers$V1), outp = 1, refdb = \"data/dndscv/dndscv_data/data/RefCDS_human_GRCh38.p12.rda\"):\n",
      "“Same mutations observed in different sampleIDs. Please verify that these are independent events and remove duplicates otherwise.”[3] Estimating global rates...\n"
     ]
    },
    {
     "name": "stdout",
     "output_type": "stream",
     "text": [
      "  name       mle     cilow   cihigh MCN mutationtype\n",
      "1 wmis 1.4149393 1.1921475 1.679367 0.2      drivers\n",
      "2 wnon 2.8383339 2.1123005 3.813917 0.2      drivers\n",
      "3 wspl 0.9935853 0.5869293 1.681994 0.2      drivers\n",
      "4 wtru 2.1386065 1.6348195 2.797641 0.2      drivers\n",
      "5 wall 1.4844340 1.2534925 1.757924 0.2      drivers\n"
     ]
    },
    {
     "name": "stderr",
     "output_type": "stream",
     "text": [
      "[1] Loading the environment...\n",
      "[2] Annotating the mutations...\n",
      "Warning message in dndscv(x1, outp = 1, refdb = \"data/dndscv/dndscv_data/data/RefCDS_human_GRCh38.p12.rda\"):\n",
      "“Mutations observed in contiguous sites within a sample. Please annotate or remove dinucleotide or complex substitutions for best results.”Warning message in dndscv(x1, outp = 1, refdb = \"data/dndscv/dndscv_data/data/RefCDS_human_GRCh38.p12.rda\"):\n",
      "“Same mutations observed in different sampleIDs. Please verify that these are independent events and remove duplicates otherwise.”    Note: 62 mutations removed for exceeding the limit of mutations per gene per sample\n",
      "    22% ...\n",
      "    44% ...\n",
      "    67% ...\n",
      "    89% ...\n",
      "[3] Estimating global rates...\n",
      "[1] Loading the environment...\n",
      "[2] Annotating the mutations...\n",
      "Warning message in dndscv(x1, gene_list = as.character(drivers$V1), outp = 1, refdb = \"data/dndscv/dndscv_data/data/RefCDS_human_GRCh38.p12.rda\"):\n",
      "“Mutations observed in contiguous sites within a sample. Please annotate or remove dinucleotide or complex substitutions for best results.”Warning message in dndscv(x1, gene_list = as.character(drivers$V1), outp = 1, refdb = \"data/dndscv/dndscv_data/data/RefCDS_human_GRCh38.p12.rda\"):\n",
      "“Same mutations observed in different sampleIDs. Please verify that these are independent events and remove duplicates otherwise.”[3] Estimating global rates...\n"
     ]
    },
    {
     "name": "stdout",
     "output_type": "stream",
     "text": [
      "  name      mle     cilow   cihigh   MCN mutationtype\n",
      "1 wmis 1.405248 1.2054152 1.638210 0.225      drivers\n",
      "2 wnon 2.668245 2.0462260 3.479347 0.225      drivers\n",
      "3 wspl 1.115913 0.7123825 1.748025 0.225      drivers\n",
      "4 wtru 2.092755 1.6455717 2.661460 0.225      drivers\n",
      "5 wall 1.471610 1.2648476 1.712171 0.225      drivers\n"
     ]
    },
    {
     "name": "stderr",
     "output_type": "stream",
     "text": [
      "[1] Loading the environment...\n",
      "[2] Annotating the mutations...\n",
      "Warning message in dndscv(x1, outp = 1, refdb = \"data/dndscv/dndscv_data/data/RefCDS_human_GRCh38.p12.rda\"):\n",
      "“Mutations observed in contiguous sites within a sample. Please annotate or remove dinucleotide or complex substitutions for best results.”Warning message in dndscv(x1, outp = 1, refdb = \"data/dndscv/dndscv_data/data/RefCDS_human_GRCh38.p12.rda\"):\n",
      "“Same mutations observed in different sampleIDs. Please verify that these are independent events and remove duplicates otherwise.”    Note: 107 mutations removed for exceeding the limit of mutations per gene per sample\n",
      "    18% ...\n",
      "    35% ...\n",
      "    53% ...\n",
      "    70% ...\n",
      "    88% ...\n",
      "[3] Estimating global rates...\n",
      "[1] Loading the environment...\n",
      "[2] Annotating the mutations...\n",
      "Warning message in dndscv(x1, gene_list = as.character(drivers$V1), outp = 1, refdb = \"data/dndscv/dndscv_data/data/RefCDS_human_GRCh38.p12.rda\"):\n",
      "“Mutations observed in contiguous sites within a sample. Please annotate or remove dinucleotide or complex substitutions for best results.”Warning message in dndscv(x1, gene_list = as.character(drivers$V1), outp = 1, refdb = \"data/dndscv/dndscv_data/data/RefCDS_human_GRCh38.p12.rda\"):\n",
      "“Same mutations observed in different sampleIDs. Please verify that these are independent events and remove duplicates otherwise.”[3] Estimating global rates...\n"
     ]
    },
    {
     "name": "stdout",
     "output_type": "stream",
     "text": [
      "  name      mle     cilow   cihigh  MCN mutationtype\n",
      "1 wmis 1.366509 1.1867726 1.573467 0.25      drivers\n",
      "2 wnon 2.809433 2.2085842 3.573743 0.25      drivers\n",
      "3 wspl 1.099180 0.7258049 1.664630 0.25      drivers\n",
      "4 wtru 2.175182 1.7476235 2.707344 0.25      drivers\n",
      "5 wall 1.442661 1.2552514 1.658052 0.25      drivers\n"
     ]
    },
    {
     "name": "stderr",
     "output_type": "stream",
     "text": [
      "[1] Loading the environment...\n",
      "[2] Annotating the mutations...\n",
      "Warning message in dndscv(x1, outp = 1, refdb = \"data/dndscv/dndscv_data/data/RefCDS_human_GRCh38.p12.rda\"):\n",
      "“Mutations observed in contiguous sites within a sample. Please annotate or remove dinucleotide or complex substitutions for best results.”Warning message in dndscv(x1, outp = 1, refdb = \"data/dndscv/dndscv_data/data/RefCDS_human_GRCh38.p12.rda\"):\n",
      "“Same mutations observed in different sampleIDs. Please verify that these are independent events and remove duplicates otherwise.”    Note: 150 mutations removed for exceeding the limit of mutations per gene per sample\n",
      "    15% ...\n",
      "    29% ...\n",
      "    44% ...\n",
      "    59% ...\n",
      "    73% ...\n",
      "    88% ...\n",
      "[3] Estimating global rates...\n",
      "[1] Loading the environment...\n",
      "[2] Annotating the mutations...\n",
      "Warning message in dndscv(x1, gene_list = as.character(drivers$V1), outp = 1, refdb = \"data/dndscv/dndscv_data/data/RefCDS_human_GRCh38.p12.rda\"):\n",
      "“Mutations observed in contiguous sites within a sample. Please annotate or remove dinucleotide or complex substitutions for best results.”Warning message in dndscv(x1, gene_list = as.character(drivers$V1), outp = 1, refdb = \"data/dndscv/dndscv_data/data/RefCDS_human_GRCh38.p12.rda\"):\n",
      "“Same mutations observed in different sampleIDs. Please verify that these are independent events and remove duplicates otherwise.”[3] Estimating global rates...\n"
     ]
    },
    {
     "name": "stdout",
     "output_type": "stream",
     "text": [
      "  name       mle     cilow   cihigh   MCN mutationtype\n",
      "1 wmis 1.3257562 1.1643279 1.509566 0.275      drivers\n",
      "2 wnon 2.5714154 2.0505138 3.224644 0.275      drivers\n",
      "3 wspl 0.9684756 0.6507949 1.441230 0.275      drivers\n",
      "4 wtru 1.9718519 1.6048082 2.422844 0.275      drivers\n",
      "5 wall 1.3883562 1.2213309 1.578223 0.275      drivers\n"
     ]
    },
    {
     "name": "stderr",
     "output_type": "stream",
     "text": [
      "[1] Loading the environment...\n",
      "[2] Annotating the mutations...\n",
      "Warning message in dndscv(x1, outp = 1, refdb = \"data/dndscv/dndscv_data/data/RefCDS_human_GRCh38.p12.rda\"):\n",
      "“Mutations observed in contiguous sites within a sample. Please annotate or remove dinucleotide or complex substitutions for best results.”Warning message in dndscv(x1, outp = 1, refdb = \"data/dndscv/dndscv_data/data/RefCDS_human_GRCh38.p12.rda\"):\n",
      "“Same mutations observed in different sampleIDs. Please verify that these are independent events and remove duplicates otherwise.”    Note: 205 mutations removed for exceeding the limit of mutations per gene per sample\n",
      "    13% ...\n",
      "    25% ...\n",
      "    38% ...\n",
      "    50% ...\n",
      "    63% ...\n",
      "    76% ...\n",
      "    88% ...\n",
      "[3] Estimating global rates...\n",
      "[1] Loading the environment...\n",
      "[2] Annotating the mutations...\n",
      "Warning message in dndscv(x1, gene_list = as.character(drivers$V1), outp = 1, refdb = \"data/dndscv/dndscv_data/data/RefCDS_human_GRCh38.p12.rda\"):\n",
      "“Mutations observed in contiguous sites within a sample. Please annotate or remove dinucleotide or complex substitutions for best results.”Warning message in dndscv(x1, gene_list = as.character(drivers$V1), outp = 1, refdb = \"data/dndscv/dndscv_data/data/RefCDS_human_GRCh38.p12.rda\"):\n",
      "“Same mutations observed in different sampleIDs. Please verify that these are independent events and remove duplicates otherwise.”    Note: 2 mutations removed for exceeding the limit of mutations per gene per sample\n",
      "[3] Estimating global rates...\n"
     ]
    },
    {
     "name": "stdout",
     "output_type": "stream",
     "text": [
      "  name       mle     cilow   cihigh MCN mutationtype\n",
      "1 wmis 1.3446915 1.1887588 1.521078 0.3      drivers\n",
      "2 wnon 2.6076151 2.1069860 3.227196 0.3      drivers\n",
      "3 wspl 0.9487484 0.6460642 1.393242 0.3      drivers\n",
      "4 wtru 1.9999309 1.6457552 2.430327 0.3      drivers\n",
      "5 wall 1.4090391 1.2476151 1.591349 0.3      drivers\n"
     ]
    },
    {
     "name": "stderr",
     "output_type": "stream",
     "text": [
      "[1] Loading the environment...\n",
      "[2] Annotating the mutations...\n",
      "Warning message in dndscv(x1, outp = 1, refdb = \"data/dndscv/dndscv_data/data/RefCDS_human_GRCh38.p12.rda\"):\n",
      "“Mutations observed in contiguous sites within a sample. Please annotate or remove dinucleotide or complex substitutions for best results.”Warning message in dndscv(x1, outp = 1, refdb = \"data/dndscv/dndscv_data/data/RefCDS_human_GRCh38.p12.rda\"):\n",
      "“Same mutations observed in different sampleIDs. Please verify that these are independent events and remove duplicates otherwise.”    Note: 1 samples excluded for exceeding the limit of mutations per sample\n",
      "    Note: 241 mutations removed for exceeding the limit of mutations per gene per sample\n",
      "    12% ...\n",
      "    23% ...\n",
      "    35% ...\n",
      "    46% ...\n",
      "    58% ...\n",
      "    69% ...\n",
      "    81% ...\n",
      "    92% ...\n",
      "[3] Estimating global rates...\n",
      "[1] Loading the environment...\n",
      "[2] Annotating the mutations...\n",
      "Warning message in dndscv(x1, gene_list = as.character(drivers$V1), outp = 1, refdb = \"data/dndscv/dndscv_data/data/RefCDS_human_GRCh38.p12.rda\"):\n",
      "“Mutations observed in contiguous sites within a sample. Please annotate or remove dinucleotide or complex substitutions for best results.”Warning message in dndscv(x1, gene_list = as.character(drivers$V1), outp = 1, refdb = \"data/dndscv/dndscv_data/data/RefCDS_human_GRCh38.p12.rda\"):\n",
      "“Same mutations observed in different sampleIDs. Please verify that these are independent events and remove duplicates otherwise.”    Note: 3 mutations removed for exceeding the limit of mutations per gene per sample\n",
      "[3] Estimating global rates...\n"
     ]
    },
    {
     "name": "stdout",
     "output_type": "stream",
     "text": [
      "  name      mle     cilow   cihigh   MCN mutationtype\n",
      "1 wmis 1.361661 1.2110150 1.531046 0.325      drivers\n",
      "2 wnon 2.628347 2.1484433 3.215447 0.325      drivers\n",
      "3 wspl 1.009559 0.7051043 1.445473 0.325      drivers\n",
      "4 wtru 2.045256 1.7008391 2.459416 0.325      drivers\n",
      "5 wall 1.427362 1.2713141 1.602563 0.325      drivers\n"
     ]
    },
    {
     "name": "stderr",
     "output_type": "stream",
     "text": [
      "[1] Loading the environment...\n",
      "[2] Annotating the mutations...\n",
      "Warning message in dndscv(x1, outp = 1, refdb = \"data/dndscv/dndscv_data/data/RefCDS_human_GRCh38.p12.rda\"):\n",
      "“Mutations observed in contiguous sites within a sample. Please annotate or remove dinucleotide or complex substitutions for best results.”Warning message in dndscv(x1, outp = 1, refdb = \"data/dndscv/dndscv_data/data/RefCDS_human_GRCh38.p12.rda\"):\n",
      "“Same mutations observed in different sampleIDs. Please verify that these are independent events and remove duplicates otherwise.”    Note: 3 samples excluded for exceeding the limit of mutations per sample\n",
      "    Note: 202 mutations removed for exceeding the limit of mutations per gene per sample\n",
      "    11% ...\n",
      "    22% ...\n",
      "    33% ...\n",
      "    45% ...\n",
      "    56% ...\n",
      "    67% ...\n",
      "    78% ...\n",
      "    89% ...\n",
      "[3] Estimating global rates...\n",
      "[1] Loading the environment...\n",
      "[2] Annotating the mutations...\n",
      "Warning message in dndscv(x1, gene_list = as.character(drivers$V1), outp = 1, refdb = \"data/dndscv/dndscv_data/data/RefCDS_human_GRCh38.p12.rda\"):\n",
      "“Mutations observed in contiguous sites within a sample. Please annotate or remove dinucleotide or complex substitutions for best results.”Warning message in dndscv(x1, gene_list = as.character(drivers$V1), outp = 1, refdb = \"data/dndscv/dndscv_data/data/RefCDS_human_GRCh38.p12.rda\"):\n",
      "“Same mutations observed in different sampleIDs. Please verify that these are independent events and remove duplicates otherwise.”    Note: 4 mutations removed for exceeding the limit of mutations per gene per sample\n",
      "[3] Estimating global rates...\n"
     ]
    },
    {
     "name": "stdout",
     "output_type": "stream",
     "text": [
      "  name      mle     cilow   cihigh  MCN mutationtype\n",
      "1 wmis 1.340746 1.1993783 1.498775 0.35      drivers\n",
      "2 wnon 2.636880 2.1765093 3.194628 0.35      drivers\n",
      "3 wspl 1.059912 0.7587384 1.480632 0.35      drivers\n",
      "4 wtru 2.065977 1.7344179 2.460918 0.35      drivers\n",
      "5 wall 1.409148 1.2623650 1.572997 0.35      drivers\n"
     ]
    },
    {
     "name": "stderr",
     "output_type": "stream",
     "text": [
      "[1] Loading the environment...\n",
      "[2] Annotating the mutations...\n",
      "Warning message in dndscv(x1, outp = 1, refdb = \"data/dndscv/dndscv_data/data/RefCDS_human_GRCh38.p12.rda\"):\n",
      "“Mutations observed in contiguous sites within a sample. Please annotate or remove dinucleotide or complex substitutions for best results.”Warning message in dndscv(x1, outp = 1, refdb = \"data/dndscv/dndscv_data/data/RefCDS_human_GRCh38.p12.rda\"):\n",
      "“Same mutations observed in different sampleIDs. Please verify that these are independent events and remove duplicates otherwise.”    Note: 3 samples excluded for exceeding the limit of mutations per sample\n",
      "    Note: 241 mutations removed for exceeding the limit of mutations per gene per sample\n",
      "    10% ...\n",
      "    20% ...\n",
      "    31% ...\n",
      "    41% ...\n",
      "    51% ...\n",
      "    61% ...\n",
      "    71% ...\n",
      "    81% ...\n",
      "    92% ...\n",
      "[3] Estimating global rates...\n",
      "[1] Loading the environment...\n",
      "[2] Annotating the mutations...\n",
      "Warning message in dndscv(x1, gene_list = as.character(drivers$V1), outp = 1, refdb = \"data/dndscv/dndscv_data/data/RefCDS_human_GRCh38.p12.rda\"):\n",
      "“Mutations observed in contiguous sites within a sample. Please annotate or remove dinucleotide or complex substitutions for best results.”Warning message in dndscv(x1, gene_list = as.character(drivers$V1), outp = 1, refdb = \"data/dndscv/dndscv_data/data/RefCDS_human_GRCh38.p12.rda\"):\n",
      "“Same mutations observed in different sampleIDs. Please verify that these are independent events and remove duplicates otherwise.”    Note: 4 mutations removed for exceeding the limit of mutations per gene per sample\n",
      "[3] Estimating global rates...\n"
     ]
    },
    {
     "name": "stdout",
     "output_type": "stream",
     "text": [
      "  name      mle     cilow   cihigh   MCN mutationtype\n",
      "1 wmis 1.303984 1.1731703 1.449384 0.375      drivers\n",
      "2 wnon 2.480056 2.0617630 2.983213 0.375      drivers\n",
      "3 wspl 1.006659 0.7270782 1.393745 0.375      drivers\n",
      "4 wtru 1.953211 1.6502251 2.311827 0.375      drivers\n",
      "5 wall 1.365174 1.2298663 1.515369 0.375      drivers\n"
     ]
    },
    {
     "name": "stderr",
     "output_type": "stream",
     "text": [
      "[1] Loading the environment...\n",
      "[2] Annotating the mutations...\n",
      "Warning message in dndscv(x1, outp = 1, refdb = \"data/dndscv/dndscv_data/data/RefCDS_human_GRCh38.p12.rda\"):\n",
      "“Mutations observed in contiguous sites within a sample. Please annotate or remove dinucleotide or complex substitutions for best results.”Warning message in dndscv(x1, outp = 1, refdb = \"data/dndscv/dndscv_data/data/RefCDS_human_GRCh38.p12.rda\"):\n",
      "“Same mutations observed in different sampleIDs. Please verify that these are independent events and remove duplicates otherwise.”    Note: 3 samples excluded for exceeding the limit of mutations per sample\n",
      "    Note: 297 mutations removed for exceeding the limit of mutations per gene per sample\n",
      "    9% ...\n",
      "    19% ...\n",
      "    28% ...\n",
      "    38% ...\n",
      "    47% ...\n",
      "    56% ...\n",
      "    66% ...\n",
      "    75% ...\n",
      "    85% ...\n",
      "    94% ...\n",
      "[3] Estimating global rates...\n",
      "[1] Loading the environment...\n",
      "[2] Annotating the mutations...\n",
      "Warning message in dndscv(x1, gene_list = as.character(drivers$V1), outp = 1, refdb = \"data/dndscv/dndscv_data/data/RefCDS_human_GRCh38.p12.rda\"):\n",
      "“Mutations observed in contiguous sites within a sample. Please annotate or remove dinucleotide or complex substitutions for best results.”Warning message in dndscv(x1, gene_list = as.character(drivers$V1), outp = 1, refdb = \"data/dndscv/dndscv_data/data/RefCDS_human_GRCh38.p12.rda\"):\n",
      "“Same mutations observed in different sampleIDs. Please verify that these are independent events and remove duplicates otherwise.”    Note: 5 mutations removed for exceeding the limit of mutations per gene per sample\n",
      "[3] Estimating global rates...\n"
     ]
    },
    {
     "name": "stdout",
     "output_type": "stream",
     "text": [
      "  name       mle     cilow   cihigh MCN mutationtype\n",
      "1 wmis 1.2969308 1.1712418 1.436108 0.4      drivers\n",
      "2 wnon 2.4824433 2.0778634 2.965799 0.4      drivers\n",
      "3 wspl 0.9992276 0.7295493 1.368593 0.4      drivers\n",
      "4 wtru 1.9523825 1.6597452 2.296616 0.4      drivers\n",
      "5 wall 1.3582580 1.2282169 1.502068 0.4      drivers\n"
     ]
    },
    {
     "name": "stderr",
     "output_type": "stream",
     "text": [
      "[1] Loading the environment...\n",
      "[2] Annotating the mutations...\n",
      "Warning message in dndscv(x1, outp = 1, refdb = \"data/dndscv/dndscv_data/data/RefCDS_human_GRCh38.p12.rda\"):\n",
      "“Mutations observed in contiguous sites within a sample. Please annotate or remove dinucleotide or complex substitutions for best results.”Warning message in dndscv(x1, outp = 1, refdb = \"data/dndscv/dndscv_data/data/RefCDS_human_GRCh38.p12.rda\"):\n",
      "“Same mutations observed in different sampleIDs. Please verify that these are independent events and remove duplicates otherwise.”    Note: 4 samples excluded for exceeding the limit of mutations per sample\n",
      "    Note: 314 mutations removed for exceeding the limit of mutations per gene per sample\n",
      "    9% ...\n",
      "    18% ...\n",
      "    27% ...\n",
      "    36% ...\n",
      "    45% ...\n",
      "    54% ...\n",
      "    63% ...\n",
      "    72% ...\n",
      "    81% ...\n",
      "    90% ...\n",
      "    99% ...\n",
      "[3] Estimating global rates...\n",
      "[1] Loading the environment...\n",
      "[2] Annotating the mutations...\n",
      "Warning message in dndscv(x1, gene_list = as.character(drivers$V1), outp = 1, refdb = \"data/dndscv/dndscv_data/data/RefCDS_human_GRCh38.p12.rda\"):\n",
      "“Mutations observed in contiguous sites within a sample. Please annotate or remove dinucleotide or complex substitutions for best results.”Warning message in dndscv(x1, gene_list = as.character(drivers$V1), outp = 1, refdb = \"data/dndscv/dndscv_data/data/RefCDS_human_GRCh38.p12.rda\"):\n",
      "“Same mutations observed in different sampleIDs. Please verify that these are independent events and remove duplicates otherwise.”    Note: 6 mutations removed for exceeding the limit of mutations per gene per sample\n",
      "[3] Estimating global rates...\n"
     ]
    },
    {
     "name": "stdout",
     "output_type": "stream",
     "text": [
      "  name      mle     cilow   cihigh   MCN mutationtype\n",
      "1 wmis 1.286219 1.1653920 1.419572 0.425      drivers\n",
      "2 wnon 2.453045 2.0648689 2.914196 0.425      drivers\n",
      "3 wspl 1.015028 0.7500327 1.373648 0.425      drivers\n",
      "4 wtru 1.942061 1.6596483 2.272530 0.425      drivers\n",
      "5 wall 1.347240 1.2222156 1.485053 0.425      drivers\n"
     ]
    },
    {
     "name": "stderr",
     "output_type": "stream",
     "text": [
      "[1] Loading the environment...\n",
      "[2] Annotating the mutations...\n",
      "Warning message in dndscv(x1, outp = 1, refdb = \"data/dndscv/dndscv_data/data/RefCDS_human_GRCh38.p12.rda\"):\n",
      "“Mutations observed in contiguous sites within a sample. Please annotate or remove dinucleotide or complex substitutions for best results.”Warning message in dndscv(x1, outp = 1, refdb = \"data/dndscv/dndscv_data/data/RefCDS_human_GRCh38.p12.rda\"):\n",
      "“Same mutations observed in different sampleIDs. Please verify that these are independent events and remove duplicates otherwise.”    Note: 4 samples excluded for exceeding the limit of mutations per sample\n",
      "    Note: 360 mutations removed for exceeding the limit of mutations per gene per sample\n",
      "    8% ...\n",
      "    17% ...\n",
      "    25% ...\n",
      "    34% ...\n",
      "    42% ...\n",
      "    51% ...\n",
      "    59% ...\n",
      "    67% ...\n",
      "    76% ...\n",
      "    84% ...\n",
      "    93% ...\n",
      "[3] Estimating global rates...\n",
      "[1] Loading the environment...\n",
      "[2] Annotating the mutations...\n",
      "Warning message in dndscv(x1, gene_list = as.character(drivers$V1), outp = 1, refdb = \"data/dndscv/dndscv_data/data/RefCDS_human_GRCh38.p12.rda\"):\n",
      "“Mutations observed in contiguous sites within a sample. Please annotate or remove dinucleotide or complex substitutions for best results.”Warning message in dndscv(x1, gene_list = as.character(drivers$V1), outp = 1, refdb = \"data/dndscv/dndscv_data/data/RefCDS_human_GRCh38.p12.rda\"):\n",
      "“Same mutations observed in different sampleIDs. Please verify that these are independent events and remove duplicates otherwise.”    Note: 8 mutations removed for exceeding the limit of mutations per gene per sample\n",
      "[3] Estimating global rates...\n"
     ]
    },
    {
     "name": "stdout",
     "output_type": "stream",
     "text": [
      "  name      mle     cilow   cihigh  MCN mutationtype\n",
      "1 wmis 1.304743 1.1854547 1.436036 0.45      drivers\n",
      "2 wnon 2.485370 2.1037197 2.936258 0.45      drivers\n",
      "3 wspl 1.088854 0.8164025 1.452228 0.45      drivers\n",
      "4 wtru 1.994417 1.7133331 2.321614 0.45      drivers\n",
      "5 wall 1.368479 1.2448864 1.504342 0.45      drivers\n"
     ]
    },
    {
     "name": "stderr",
     "output_type": "stream",
     "text": [
      "[1] Loading the environment...\n",
      "[2] Annotating the mutations...\n",
      "Warning message in dndscv(x1, outp = 1, refdb = \"data/dndscv/dndscv_data/data/RefCDS_human_GRCh38.p12.rda\"):\n",
      "“Mutations observed in contiguous sites within a sample. Please annotate or remove dinucleotide or complex substitutions for best results.”Warning message in dndscv(x1, outp = 1, refdb = \"data/dndscv/dndscv_data/data/RefCDS_human_GRCh38.p12.rda\"):\n",
      "“Same mutations observed in different sampleIDs. Please verify that these are independent events and remove duplicates otherwise.”    Note: 5 samples excluded for exceeding the limit of mutations per sample\n",
      "    Note: 384 mutations removed for exceeding the limit of mutations per gene per sample\n",
      "    8% ...\n",
      "    16% ...\n",
      "    24% ...\n",
      "    32% ...\n",
      "    41% ...\n",
      "    49% ...\n",
      "    57% ...\n",
      "    65% ...\n",
      "    73% ...\n",
      "    81% ...\n",
      "    89% ...\n",
      "    97% ...\n",
      "[3] Estimating global rates...\n",
      "[1] Loading the environment...\n",
      "[2] Annotating the mutations...\n",
      "Warning message in dndscv(x1, gene_list = as.character(drivers$V1), outp = 1, refdb = \"data/dndscv/dndscv_data/data/RefCDS_human_GRCh38.p12.rda\"):\n",
      "“Mutations observed in contiguous sites within a sample. Please annotate or remove dinucleotide or complex substitutions for best results.”Warning message in dndscv(x1, gene_list = as.character(drivers$V1), outp = 1, refdb = \"data/dndscv/dndscv_data/data/RefCDS_human_GRCh38.p12.rda\"):\n",
      "“Same mutations observed in different sampleIDs. Please verify that these are independent events and remove duplicates otherwise.”    Note: 10 mutations removed for exceeding the limit of mutations per gene per sample\n",
      "[3] Estimating global rates...\n"
     ]
    },
    {
     "name": "stdout",
     "output_type": "stream",
     "text": [
      "  name      mle     cilow   cihigh   MCN mutationtype\n",
      "1 wmis 1.316305 1.1989857 1.445103 0.475      drivers\n",
      "2 wnon 2.465497 2.0964680 2.899484 0.475      drivers\n",
      "3 wspl 1.095120 0.8301709 1.444627 0.475      drivers\n",
      "4 wtru 1.980391 1.7087143 2.295263 0.475      drivers\n",
      "5 wall 1.378401 1.2570316 1.511488 0.475      drivers\n"
     ]
    },
    {
     "name": "stderr",
     "output_type": "stream",
     "text": [
      "[1] Loading the environment...\n",
      "[2] Annotating the mutations...\n",
      "Warning message in dndscv(x1, outp = 1, refdb = \"data/dndscv/dndscv_data/data/RefCDS_human_GRCh38.p12.rda\"):\n",
      "“Mutations observed in contiguous sites within a sample. Please annotate or remove dinucleotide or complex substitutions for best results.”Warning message in dndscv(x1, outp = 1, refdb = \"data/dndscv/dndscv_data/data/RefCDS_human_GRCh38.p12.rda\"):\n",
      "“Same mutations observed in different sampleIDs. Please verify that these are independent events and remove duplicates otherwise.”    Note: 5 samples excluded for exceeding the limit of mutations per sample\n",
      "    Note: 427 mutations removed for exceeding the limit of mutations per gene per sample\n",
      "    8% ...\n",
      "    15% ...\n",
      "    23% ...\n",
      "    31% ...\n",
      "    38% ...\n",
      "    46% ...\n",
      "    54% ...\n",
      "    61% ...\n",
      "    69% ...\n",
      "    77% ...\n",
      "    84% ...\n",
      "    92% ...\n",
      "    100% ...\n",
      "[3] Estimating global rates...\n",
      "[1] Loading the environment...\n",
      "[2] Annotating the mutations...\n",
      "Warning message in dndscv(x1, gene_list = as.character(drivers$V1), outp = 1, refdb = \"data/dndscv/dndscv_data/data/RefCDS_human_GRCh38.p12.rda\"):\n",
      "“Mutations observed in contiguous sites within a sample. Please annotate or remove dinucleotide or complex substitutions for best results.”Warning message in dndscv(x1, gene_list = as.character(drivers$V1), outp = 1, refdb = \"data/dndscv/dndscv_data/data/RefCDS_human_GRCh38.p12.rda\"):\n",
      "“Same mutations observed in different sampleIDs. Please verify that these are independent events and remove duplicates otherwise.”    Note: 14 mutations removed for exceeding the limit of mutations per gene per sample\n",
      "[3] Estimating global rates...\n"
     ]
    },
    {
     "name": "stdout",
     "output_type": "stream",
     "text": [
      "  name      mle     cilow   cihigh MCN mutationtype\n",
      "1 wmis 1.301226 1.1887701 1.424320 0.5      drivers\n",
      "2 wnon 2.492821 2.1305445 2.916698 0.5      drivers\n",
      "3 wspl 1.125045 0.8625158 1.467482 0.5      drivers\n",
      "4 wtru 2.006855 1.7399483 2.314706 0.5      drivers\n",
      "5 wall 1.366820 1.2501703 1.494353 0.5      drivers\n"
     ]
    },
    {
     "name": "stderr",
     "output_type": "stream",
     "text": [
      "[1] Loading the environment...\n",
      "[2] Annotating the mutations...\n",
      "Warning message in dndscv(x1, outp = 1, refdb = \"data/dndscv/dndscv_data/data/RefCDS_human_GRCh38.p12.rda\"):\n",
      "“Mutations observed in contiguous sites within a sample. Please annotate or remove dinucleotide or complex substitutions for best results.”Warning message in dndscv(x1, outp = 1, refdb = \"data/dndscv/dndscv_data/data/RefCDS_human_GRCh38.p12.rda\"):\n",
      "“Same mutations observed in different sampleIDs. Please verify that these are independent events and remove duplicates otherwise.”    Note: 6 samples excluded for exceeding the limit of mutations per sample\n",
      "    Note: 446 mutations removed for exceeding the limit of mutations per gene per sample\n",
      "    7% ...\n",
      "    15% ...\n",
      "    22% ...\n",
      "    30% ...\n",
      "    37% ...\n",
      "    44% ...\n",
      "    52% ...\n",
      "    59% ...\n",
      "    67% ...\n",
      "    74% ...\n",
      "    81% ...\n",
      "    89% ...\n",
      "    96% ...\n",
      "[3] Estimating global rates...\n"
     ]
    }
   ],
   "source": [
    "dfsubc <- df %>%\n",
    "    filter(meaneffdepth > 50.0) %>%\n",
    "    select(sampleid, chr, start, Reference_Allele, Tumor_Seq_Allele2, everything())\n",
    "\n",
    "dfdnds.interval <- data.frame()\n",
    "cutoff <- seq(0.2, 0.5, 0.025)\n",
    "\n",
    "for (i in cutoff){\n",
    "    x1 <- dfsubc %>% filter(MCN < i)\n",
    "    \n",
    "    x <- dndscv(x1 , gene_list = as.character(drivers$V1), outp = 1,\n",
    "               refdb = \"data/dndscv/dndscv_data/data/RefCDS_human_GRCh38.p12.rda\")\n",
    "    out <- x$globaldnds %>% mutate(MCN = i, mutationtype = \"drivers\")\n",
    "    dfdnds.interval <- rbind(dfdnds.interval, out)\n",
    "    print(out)\n",
    "    \n",
    "    x <- dndscv(x1, outp = 1,\n",
    "               refdb = \"data/dndscv/dndscv_data/data/RefCDS_human_GRCh38.p12.rda\")\n",
    "    out <- x$globaldnds %>% mutate(MCN = i, mutationtype = \"all\")\n",
    "    dfdnds.interval <- rbind(dfdnds.interval, out)\n",
    "}"
   ]
  },
  {
   "cell_type": "code",
   "execution_count": 41,
   "metadata": {},
   "outputs": [
    {
     "data": {},
     "metadata": {},
     "output_type": "display_data"
    },
    {
     "data": {
      "image/png": "[encoded data removed]",
      "text/plain": [
       "plot without title"
      ]
     },
     "metadata": {},
     "output_type": "display_data"
    }
   ],
   "source": [
    "dfdndsInt <- dfdnds.interval %>%\n",
    "    left_join(., baseline, by = \"name\") %>%\n",
    "    mutate(mle = mle - (dnds_bl - 1),\n",
    "          cilow = cilow - (dnds_bl - 1),\n",
    "          cihigh = cihigh - (dnds_bl - 1))\n",
    "write_csv(dfdndsInt, \"FinalFigures/data_for_figures/IntervalDnDs_tcga.csv\")\n",
    "\n",
    "gmissInt <- dfdndsInt %>%\n",
    "    filter(name == \"wmis\", mutationtype ==  \"drivers\") %>%\n",
    "    ggplot(aes(x = MCN, y = mle, ymin = cilow, ymax = cihigh)) +\n",
    "    geom_point(size = 2, col = \"plum4\") +\n",
    "    geom_linerange(col = \"plum4\") +\n",
    "    geom_hline(yintercept = 1.0, lty = 2) +\n",
    "    background_grid(major = \"xy\", minor = \"none\") +\n",
    "    ylab(\"Interval dN/dS - Missense\") + xlab(expression(f[max])) +\n",
    "    theme(axis.text.x = element_text(angle = 45, hjust = 1)) +\n",
    "    scale_color_ptol() + ylim(c(0.8, 2.0))\n",
    "\n",
    "gnonInt <- dfdndsInt %>%\n",
    "    filter(name == \"wnon\", mutationtype ==  \"drivers\") %>%\n",
    "    ggplot(aes(x = MCN, y = mle, ymin = cilow, ymax = cihigh)) +\n",
    "    geom_point(size = 2, col = \"plum4\") +\n",
    "    geom_linerange(col = \"plum4\") +\n",
    "    geom_hline(yintercept = 1.0, lty = 2) +\n",
    "    background_grid(major = \"xy\", minor = \"none\") +\n",
    "    ylab(\"Interval dN/dS - Nonsense\") + xlab(expression(f[max])) + \n",
    "    theme(axis.text.x = element_text(angle = 45, hjust = 1)) +\n",
    "    scale_color_ptol() + ylim(c(0.8, 5.0))\n",
    "gInt <- cowplot::plot_grid(gmissInt, gnonInt, ncol = 2, align = T, labels = c(\"a\", \"b\"))\n",
    "#save_plot(\"plots/1.TCGA/intervaldnds.svg\", gInt, base_height = 3.5, base_width = 10)\n",
    "gInt"
   ]
  },
  {
   "cell_type": "markdown",
   "metadata": {},
   "source": [
    "### Per cancer type"
   ]
  },
  {
   "cell_type": "code",
   "execution_count": 42,
   "metadata": {},
   "outputs": [
    {
     "data": {
      "text/html": [
       "<table>\n",
       "<thead><tr><th scope=col>cancertype</th><th scope=col>n</th></tr></thead>\n",
       "<tbody>\n",
       "\t<tr><td>ACC </td><td> 22 </td></tr>\n",
       "\t<tr><td>BLCA</td><td> 52 </td></tr>\n",
       "\t<tr><td>BRCA</td><td>270 </td></tr>\n",
       "\t<tr><td>CESC</td><td> 24 </td></tr>\n",
       "\t<tr><td>COAD</td><td>199 </td></tr>\n",
       "\t<tr><td>DLBC</td><td>  9 </td></tr>\n",
       "\t<tr><td>GBM </td><td>253 </td></tr>\n",
       "\t<tr><td>HNSC</td><td>103 </td></tr>\n",
       "\t<tr><td>KICH</td><td> 31 </td></tr>\n",
       "\t<tr><td>KIRC</td><td>186 </td></tr>\n",
       "\t<tr><td>LAML</td><td> 51 </td></tr>\n",
       "\t<tr><td>LGG </td><td>189 </td></tr>\n",
       "\t<tr><td>LIHC</td><td> 82 </td></tr>\n",
       "\t<tr><td>LUAD</td><td> 98 </td></tr>\n",
       "\t<tr><td>LUSC</td><td>104 </td></tr>\n",
       "\t<tr><td>OV  </td><td>153 </td></tr>\n",
       "\t<tr><td>PAAD</td><td> 59 </td></tr>\n",
       "\t<tr><td>PRAD</td><td>136 </td></tr>\n",
       "\t<tr><td>SARC</td><td> 22 </td></tr>\n",
       "\t<tr><td>SKCM</td><td>122 </td></tr>\n",
       "\t<tr><td>STAD</td><td> 93 </td></tr>\n",
       "\t<tr><td>THCA</td><td>161 </td></tr>\n",
       "\t<tr><td>UCEC</td><td>191 </td></tr>\n",
       "\t<tr><td>UCS </td><td>  9 </td></tr>\n",
       "</tbody>\n",
       "</table>\n"
      ],
      "text/latex": [
       "\\begin{tabular}{r|ll}\n",
       " cancertype & n\\\\\n",
       "\\hline\n",
       "\t ACC  &  22 \\\\\n",
       "\t BLCA &  52 \\\\\n",
       "\t BRCA & 270 \\\\\n",
       "\t CESC &  24 \\\\\n",
       "\t COAD & 199 \\\\\n",
       "\t DLBC &   9 \\\\\n",
       "\t GBM  & 253 \\\\\n",
       "\t HNSC & 103 \\\\\n",
       "\t KICH &  31 \\\\\n",
       "\t KIRC & 186 \\\\\n",
       "\t LAML &  51 \\\\\n",
       "\t LGG  & 189 \\\\\n",
       "\t LIHC &  82 \\\\\n",
       "\t LUAD &  98 \\\\\n",
       "\t LUSC & 104 \\\\\n",
       "\t OV   & 153 \\\\\n",
       "\t PAAD &  59 \\\\\n",
       "\t PRAD & 136 \\\\\n",
       "\t SARC &  22 \\\\\n",
       "\t SKCM & 122 \\\\\n",
       "\t STAD &  93 \\\\\n",
       "\t THCA & 161 \\\\\n",
       "\t UCEC & 191 \\\\\n",
       "\t UCS  &   9 \\\\\n",
       "\\end{tabular}\n"
      ],
      "text/markdown": [
       "\n",
       "cancertype | n | \n",
       "|---|---|---|---|---|---|---|---|---|---|---|---|---|---|---|---|---|---|---|---|---|---|---|---|\n",
       "| ACC  |  22  | \n",
       "| BLCA |  52  | \n",
       "| BRCA | 270  | \n",
       "| CESC |  24  | \n",
       "| COAD | 199  | \n",
       "| DLBC |   9  | \n",
       "| GBM  | 253  | \n",
       "| HNSC | 103  | \n",
       "| KICH |  31  | \n",
       "| KIRC | 186  | \n",
       "| LAML |  51  | \n",
       "| LGG  | 189  | \n",
       "| LIHC |  82  | \n",
       "| LUAD |  98  | \n",
       "| LUSC | 104  | \n",
       "| OV   | 153  | \n",
       "| PAAD |  59  | \n",
       "| PRAD | 136  | \n",
       "| SARC |  22  | \n",
       "| SKCM | 122  | \n",
       "| STAD |  93  | \n",
       "| THCA | 161  | \n",
       "| UCEC | 191  | \n",
       "| UCS  |   9  | \n",
       "\n",
       "\n"
      ],
      "text/plain": [
       "   cancertype n  \n",
       "1  ACC         22\n",
       "2  BLCA        52\n",
       "3  BRCA       270\n",
       "4  CESC        24\n",
       "5  COAD       199\n",
       "6  DLBC         9\n",
       "7  GBM        253\n",
       "8  HNSC       103\n",
       "9  KICH        31\n",
       "10 KIRC       186\n",
       "11 LAML        51\n",
       "12 LGG        189\n",
       "13 LIHC        82\n",
       "14 LUAD        98\n",
       "15 LUSC       104\n",
       "16 OV         153\n",
       "17 PAAD        59\n",
       "18 PRAD       136\n",
       "19 SARC        22\n",
       "20 SKCM       122\n",
       "21 STAD        93\n",
       "22 THCA       161\n",
       "23 UCEC       191\n",
       "24 UCS          9"
      ]
     },
     "metadata": {},
     "output_type": "display_data"
    }
   ],
   "source": [
    "dfsubc %>%\n",
    "    distinct(sampleid, cancertype) %>%\n",
    "    group_by(cancertype) %>%\n",
    "    summarise(n = n())"
   ]
  },
  {
   "cell_type": "code",
   "execution_count": 43,
   "metadata": {},
   "outputs": [
    {
     "name": "stdout",
     "output_type": "stream",
     "text": [
      "[1] \"BRCA\"\n"
     ]
    },
    {
     "name": "stderr",
     "output_type": "stream",
     "text": [
      "[1] Loading the environment...\n",
      "[2] Annotating the mutations...\n",
      "Warning message in dndscv(x1, gene_list = as.character(drivers$V1), outp = 1, refdb = \"data/dndscv/dndscv_data/data/RefCDS_human_GRCh38.p12.rda\"):\n",
      "“Mutations observed in contiguous sites within a sample. Please annotate or remove dinucleotide or complex substitutions for best results.”Warning message in dndscv(x1, gene_list = as.character(drivers$V1), outp = 1, refdb = \"data/dndscv/dndscv_data/data/RefCDS_human_GRCh38.p12.rda\"):\n",
      "“Same mutations observed in different sampleIDs. Please verify that these are independent events and remove duplicates otherwise.”[3] Estimating global rates...\n",
      "[1] Loading the environment...\n",
      "[2] Annotating the mutations...\n",
      "Warning message in dndscv(x1, outp = 1, refdb = \"data/dndscv/dndscv_data/data/RefCDS_human_GRCh38.p12.rda\"):\n",
      "“Mutations observed in contiguous sites within a sample. Please annotate or remove dinucleotide or complex substitutions for best results.”Warning message in dndscv(x1, outp = 1, refdb = \"data/dndscv/dndscv_data/data/RefCDS_human_GRCh38.p12.rda\"):\n",
      "“Same mutations observed in different sampleIDs. Please verify that these are independent events and remove duplicates otherwise.”    Note: 12 mutations removed for exceeding the limit of mutations per gene per sample\n",
      "[3] Estimating global rates...\n",
      "[1] Loading the environment...\n",
      "[2] Annotating the mutations...\n",
      "Warning message in dndscv(x1, gene_list = as.character(drivers$V1), outp = 1, refdb = \"data/dndscv/dndscv_data/data/RefCDS_human_GRCh38.p12.rda\"):\n",
      "“Mutations observed in contiguous sites within a sample. Please annotate or remove dinucleotide or complex substitutions for best results.”Warning message in dndscv(x1, gene_list = as.character(drivers$V1), outp = 1, refdb = \"data/dndscv/dndscv_data/data/RefCDS_human_GRCh38.p12.rda\"):\n",
      "“Same mutations observed in different sampleIDs. Please verify that these are independent events and remove duplicates otherwise.”    Note: 4 mutations removed for exceeding the limit of mutations per gene per sample\n",
      "[3] Estimating global rates...\n",
      "[1] Loading the environment...\n",
      "[2] Annotating the mutations...\n",
      "Warning message in dndscv(x1, outp = 1, refdb = \"data/dndscv/dndscv_data/data/RefCDS_human_GRCh38.p12.rda\"):\n",
      "“Mutations observed in contiguous sites within a sample. Please annotate or remove dinucleotide or complex substitutions for best results.”Warning message in dndscv(x1, outp = 1, refdb = \"data/dndscv/dndscv_data/data/RefCDS_human_GRCh38.p12.rda\"):\n",
      "“Same mutations observed in different sampleIDs. Please verify that these are independent events and remove duplicates otherwise.”    Note: 1 samples excluded for exceeding the limit of mutations per sample\n",
      "    Note: 12 mutations removed for exceeding the limit of mutations per gene per sample\n",
      "    71% ...\n",
      "[3] Estimating global rates...\n",
      "[1] Loading the environment...\n",
      "[2] Annotating the mutations...\n",
      "Warning message in dndscv(x1, gene_list = as.character(drivers$V1), outp = 1, refdb = \"data/dndscv/dndscv_data/data/RefCDS_human_GRCh38.p12.rda\"):\n",
      "“Mutations observed in contiguous sites within a sample. Please annotate or remove dinucleotide or complex substitutions for best results.”Warning message in dndscv(x1, gene_list = as.character(drivers$V1), outp = 1, refdb = \"data/dndscv/dndscv_data/data/RefCDS_human_GRCh38.p12.rda\"):\n",
      "“Same mutations observed in different sampleIDs. Please verify that these are independent events and remove duplicates otherwise.”[3] Estimating global rates...\n",
      "[1] Loading the environment...\n",
      "[2] Annotating the mutations...\n",
      "Warning message in dndscv(x1, outp = 1, refdb = \"data/dndscv/dndscv_data/data/RefCDS_human_GRCh38.p12.rda\"):\n",
      "“Mutations observed in contiguous sites within a sample. Please annotate or remove dinucleotide or complex substitutions for best results.”Warning message in dndscv(x1, outp = 1, refdb = \"data/dndscv/dndscv_data/data/RefCDS_human_GRCh38.p12.rda\"):\n",
      "“Same mutations observed in different sampleIDs. Please verify that these are independent events and remove duplicates otherwise.”    Note: 1 mutations removed for exceeding the limit of mutations per gene per sample\n",
      "[3] Estimating global rates...\n"
     ]
    },
    {
     "name": "stdout",
     "output_type": "stream",
     "text": [
      "[1] \"COAD\"\n"
     ]
    },
    {
     "name": "stderr",
     "output_type": "stream",
     "text": [
      "[1] Loading the environment...\n",
      "[2] Annotating the mutations...\n",
      "Warning message in dndscv(x1, gene_list = as.character(drivers$V1), outp = 1, refdb = \"data/dndscv/dndscv_data/data/RefCDS_human_GRCh38.p12.rda\"):\n",
      "“Mutations observed in contiguous sites within a sample. Please annotate or remove dinucleotide or complex substitutions for best results.”Warning message in dndscv(x1, gene_list = as.character(drivers$V1), outp = 1, refdb = \"data/dndscv/dndscv_data/data/RefCDS_human_GRCh38.p12.rda\"):\n",
      "“Same mutations observed in different sampleIDs. Please verify that these are independent events and remove duplicates otherwise.”    Note: 3 mutations removed for exceeding the limit of mutations per gene per sample\n",
      "[3] Estimating global rates...\n",
      "[1] Loading the environment...\n",
      "[2] Annotating the mutations...\n",
      "Warning message in dndscv(x1, outp = 1, refdb = \"data/dndscv/dndscv_data/data/RefCDS_human_GRCh38.p12.rda\"):\n",
      "“Mutations observed in contiguous sites within a sample. Please annotate or remove dinucleotide or complex substitutions for best results.”Warning message in dndscv(x1, outp = 1, refdb = \"data/dndscv/dndscv_data/data/RefCDS_human_GRCh38.p12.rda\"):\n",
      "“Same mutations observed in different sampleIDs. Please verify that these are independent events and remove duplicates otherwise.”    Note: 1 samples excluded for exceeding the limit of mutations per sample\n",
      "    Note: 51 mutations removed for exceeding the limit of mutations per gene per sample\n",
      "    48% ...\n",
      "    96% ...\n",
      "[3] Estimating global rates...\n",
      "[1] Loading the environment...\n",
      "[2] Annotating the mutations...\n",
      "Warning message in dndscv(x1, gene_list = as.character(drivers$V1), outp = 1, refdb = \"data/dndscv/dndscv_data/data/RefCDS_human_GRCh38.p12.rda\"):\n",
      "“Mutations observed in contiguous sites within a sample. Please annotate or remove dinucleotide or complex substitutions for best results.”Warning message in dndscv(x1, gene_list = as.character(drivers$V1), outp = 1, refdb = \"data/dndscv/dndscv_data/data/RefCDS_human_GRCh38.p12.rda\"):\n",
      "“Same mutations observed in different sampleIDs. Please verify that these are independent events and remove duplicates otherwise.”    Note: 52 mutations removed for exceeding the limit of mutations per gene per sample\n",
      "[3] Estimating global rates...\n",
      "[1] Loading the environment...\n",
      "[2] Annotating the mutations...\n",
      "Warning message in dndscv(x1, outp = 1, refdb = \"data/dndscv/dndscv_data/data/RefCDS_human_GRCh38.p12.rda\"):\n",
      "“Mutations observed in contiguous sites within a sample. Please annotate or remove dinucleotide or complex substitutions for best results.”Warning message in dndscv(x1, outp = 1, refdb = \"data/dndscv/dndscv_data/data/RefCDS_human_GRCh38.p12.rda\"):\n",
      "“Same mutations observed in different sampleIDs. Please verify that these are independent events and remove duplicates otherwise.”    Note: 5 samples excluded for exceeding the limit of mutations per sample\n",
      "    Note: 218 mutations removed for exceeding the limit of mutations per gene per sample\n",
      "    15% ...\n",
      "    29% ...\n",
      "    44% ...\n",
      "    59% ...\n",
      "    73% ...\n",
      "    88% ...\n",
      "[3] Estimating global rates...\n",
      "[1] Loading the environment...\n",
      "[2] Annotating the mutations...\n",
      "Warning message in dndscv(x1, gene_list = as.character(drivers$V1), outp = 1, refdb = \"data/dndscv/dndscv_data/data/RefCDS_human_GRCh38.p12.rda\"):\n",
      "“Mutations observed in contiguous sites within a sample. Please annotate or remove dinucleotide or complex substitutions for best results.”Warning message in dndscv(x1, gene_list = as.character(drivers$V1), outp = 1, refdb = \"data/dndscv/dndscv_data/data/RefCDS_human_GRCh38.p12.rda\"):\n",
      "“Same mutations observed in different sampleIDs. Please verify that these are independent events and remove duplicates otherwise.”    Note: 1 mutations removed for exceeding the limit of mutations per gene per sample\n",
      "[3] Estimating global rates...\n",
      "[1] Loading the environment...\n",
      "[2] Annotating the mutations...\n",
      "Warning message in dndscv(x1, outp = 1, refdb = \"data/dndscv/dndscv_data/data/RefCDS_human_GRCh38.p12.rda\"):\n",
      "“Mutations observed in contiguous sites within a sample. Please annotate or remove dinucleotide or complex substitutions for best results.”Warning message in dndscv(x1, outp = 1, refdb = \"data/dndscv/dndscv_data/data/RefCDS_human_GRCh38.p12.rda\"):\n",
      "“Same mutations observed in different sampleIDs. Please verify that these are independent events and remove duplicates otherwise.”    Note: 11 mutations removed for exceeding the limit of mutations per gene per sample\n",
      "[3] Estimating global rates...\n"
     ]
    },
    {
     "name": "stdout",
     "output_type": "stream",
     "text": [
      "[1] \"GBM\"\n"
     ]
    },
    {
     "name": "stderr",
     "output_type": "stream",
     "text": [
      "[1] Loading the environment...\n",
      "[2] Annotating the mutations...\n",
      "Warning message in dndscv(x1, gene_list = as.character(drivers$V1), outp = 1, refdb = \"data/dndscv/dndscv_data/data/RefCDS_human_GRCh38.p12.rda\"):\n",
      "“Mutations observed in contiguous sites within a sample. Please annotate or remove dinucleotide or complex substitutions for best results.”Warning message in dndscv(x1, gene_list = as.character(drivers$V1), outp = 1, refdb = \"data/dndscv/dndscv_data/data/RefCDS_human_GRCh38.p12.rda\"):\n",
      "“Same mutations observed in different sampleIDs. Please verify that these are independent events and remove duplicates otherwise.”[3] Estimating global rates...\n",
      "[1] Loading the environment...\n",
      "[2] Annotating the mutations...\n",
      "Warning message in dndscv(x1, outp = 1, refdb = \"data/dndscv/dndscv_data/data/RefCDS_human_GRCh38.p12.rda\"):\n",
      "“Mutations observed in contiguous sites within a sample. Please annotate or remove dinucleotide or complex substitutions for best results.”Warning message in dndscv(x1, outp = 1, refdb = \"data/dndscv/dndscv_data/data/RefCDS_human_GRCh38.p12.rda\"):\n",
      "“Same mutations observed in different sampleIDs. Please verify that these are independent events and remove duplicates otherwise.”    Note: 40 mutations removed for exceeding the limit of mutations per gene per sample\n",
      "    80% ...\n",
      "[3] Estimating global rates...\n",
      "[1] Loading the environment...\n",
      "[2] Annotating the mutations...\n",
      "Warning message in dndscv(x1, gene_list = as.character(drivers$V1), outp = 1, refdb = \"data/dndscv/dndscv_data/data/RefCDS_human_GRCh38.p12.rda\"):\n",
      "“Mutations observed in contiguous sites within a sample. Please annotate or remove dinucleotide or complex substitutions for best results.”Warning message in dndscv(x1, gene_list = as.character(drivers$V1), outp = 1, refdb = \"data/dndscv/dndscv_data/data/RefCDS_human_GRCh38.p12.rda\"):\n",
      "“Same mutations observed in different sampleIDs. Please verify that these are independent events and remove duplicates otherwise.”    Note: 14 mutations removed for exceeding the limit of mutations per gene per sample\n",
      "[3] Estimating global rates...\n",
      "[1] Loading the environment...\n",
      "[2] Annotating the mutations...\n",
      "Warning message in dndscv(x1, outp = 1, refdb = \"data/dndscv/dndscv_data/data/RefCDS_human_GRCh38.p12.rda\"):\n",
      "“Mutations observed in contiguous sites within a sample. Please annotate or remove dinucleotide or complex substitutions for best results.”Warning message in dndscv(x1, outp = 1, refdb = \"data/dndscv/dndscv_data/data/RefCDS_human_GRCh38.p12.rda\"):\n",
      "“Same mutations observed in different sampleIDs. Please verify that these are independent events and remove duplicates otherwise.”    Note: 1 samples excluded for exceeding the limit of mutations per sample\n",
      "    Note: 2 mutations removed for exceeding the limit of mutations per gene per sample\n",
      "    59% ...\n",
      "[3] Estimating global rates...\n",
      "[1] Loading the environment...\n",
      "[2] Annotating the mutations...\n",
      "Warning message in dndscv(x1, gene_list = as.character(drivers$V1), outp = 1, refdb = \"data/dndscv/dndscv_data/data/RefCDS_human_GRCh38.p12.rda\"):\n",
      "“Mutations observed in contiguous sites within a sample. Please annotate or remove dinucleotide or complex substitutions for best results.”Warning message in dndscv(x1, gene_list = as.character(drivers$V1), outp = 1, refdb = \"data/dndscv/dndscv_data/data/RefCDS_human_GRCh38.p12.rda\"):\n",
      "“Same mutations observed in different sampleIDs. Please verify that these are independent events and remove duplicates otherwise.”    Note: 2 mutations removed for exceeding the limit of mutations per gene per sample\n",
      "[3] Estimating global rates...\n",
      "[1] Loading the environment...\n",
      "[2] Annotating the mutations...\n",
      "Warning message in dndscv(x1, outp = 1, refdb = \"data/dndscv/dndscv_data/data/RefCDS_human_GRCh38.p12.rda\"):\n",
      "“Mutations observed in contiguous sites within a sample. Please annotate or remove dinucleotide or complex substitutions for best results.”Warning message in dndscv(x1, outp = 1, refdb = \"data/dndscv/dndscv_data/data/RefCDS_human_GRCh38.p12.rda\"):\n",
      "“Same mutations observed in different sampleIDs. Please verify that these are independent events and remove duplicates otherwise.”    Note: 1 samples excluded for exceeding the limit of mutations per sample\n",
      "[3] Estimating global rates...\n"
     ]
    },
    {
     "name": "stdout",
     "output_type": "stream",
     "text": [
      "[1] \"HNSC\"\n"
     ]
    },
    {
     "name": "stderr",
     "output_type": "stream",
     "text": [
      "[1] Loading the environment...\n",
      "[2] Annotating the mutations...\n",
      "Warning message in dndscv(x1, gene_list = as.character(drivers$V1), outp = 1, refdb = \"data/dndscv/dndscv_data/data/RefCDS_human_GRCh38.p12.rda\"):\n",
      "“Mutations observed in contiguous sites within a sample. Please annotate or remove dinucleotide or complex substitutions for best results.”Warning message in dndscv(x1, gene_list = as.character(drivers$V1), outp = 1, refdb = \"data/dndscv/dndscv_data/data/RefCDS_human_GRCh38.p12.rda\"):\n",
      "“Same mutations observed in different sampleIDs. Please verify that these are independent events and remove duplicates otherwise.”[3] Estimating global rates...\n",
      "[1] Loading the environment...\n",
      "[2] Annotating the mutations...\n",
      "Warning message in dndscv(x1, outp = 1, refdb = \"data/dndscv/dndscv_data/data/RefCDS_human_GRCh38.p12.rda\"):\n",
      "“Mutations observed in contiguous sites within a sample. Please annotate or remove dinucleotide or complex substitutions for best results.”Warning message in dndscv(x1, outp = 1, refdb = \"data/dndscv/dndscv_data/data/RefCDS_human_GRCh38.p12.rda\"):\n",
      "“Same mutations observed in different sampleIDs. Please verify that these are independent events and remove duplicates otherwise.”    Note: 9 mutations removed for exceeding the limit of mutations per gene per sample\n",
      "[3] Estimating global rates...\n",
      "[1] Loading the environment...\n",
      "[2] Annotating the mutations...\n",
      "Warning message in dndscv(x1, gene_list = as.character(drivers$V1), outp = 1, refdb = \"data/dndscv/dndscv_data/data/RefCDS_human_GRCh38.p12.rda\"):\n",
      "“Mutations observed in contiguous sites within a sample. Please annotate or remove dinucleotide or complex substitutions for best results.”Warning message in dndscv(x1, gene_list = as.character(drivers$V1), outp = 1, refdb = \"data/dndscv/dndscv_data/data/RefCDS_human_GRCh38.p12.rda\"):\n",
      "“Same mutations observed in different sampleIDs. Please verify that these are independent events and remove duplicates otherwise.”[3] Estimating global rates...\n",
      "[1] Loading the environment...\n",
      "[2] Annotating the mutations...\n",
      "Warning message in dndscv(x1, outp = 1, refdb = \"data/dndscv/dndscv_data/data/RefCDS_human_GRCh38.p12.rda\"):\n",
      "“Mutations observed in contiguous sites within a sample. Please annotate or remove dinucleotide or complex substitutions for best results.”Warning message in dndscv(x1, outp = 1, refdb = \"data/dndscv/dndscv_data/data/RefCDS_human_GRCh38.p12.rda\"):\n",
      "“Same mutations observed in different sampleIDs. Please verify that these are independent events and remove duplicates otherwise.”    Note: 36 mutations removed for exceeding the limit of mutations per gene per sample\n",
      "    71% ...\n",
      "[3] Estimating global rates...\n",
      "[1] Loading the environment...\n",
      "[2] Annotating the mutations...\n",
      "Warning message in dndscv(x1, gene_list = as.character(drivers$V1), outp = 1, refdb = \"data/dndscv/dndscv_data/data/RefCDS_human_GRCh38.p12.rda\"):\n",
      "“Mutations observed in contiguous sites within a sample. Please annotate or remove dinucleotide or complex substitutions for best results.”Warning message in dndscv(x1, gene_list = as.character(drivers$V1), outp = 1, refdb = \"data/dndscv/dndscv_data/data/RefCDS_human_GRCh38.p12.rda\"):\n",
      "“Same mutations observed in different sampleIDs. Please verify that these are independent events and remove duplicates otherwise.”[3] Estimating global rates...\n",
      "[1] Loading the environment...\n",
      "[2] Annotating the mutations...\n",
      "Warning message in dndscv(x1, outp = 1, refdb = \"data/dndscv/dndscv_data/data/RefCDS_human_GRCh38.p12.rda\"):\n",
      "“Mutations observed in contiguous sites within a sample. Please annotate or remove dinucleotide or complex substitutions for best results.”Warning message in dndscv(x1, outp = 1, refdb = \"data/dndscv/dndscv_data/data/RefCDS_human_GRCh38.p12.rda\"):\n",
      "“Same mutations observed in different sampleIDs. Please verify that these are independent events and remove duplicates otherwise.”    Note: 4 mutations removed for exceeding the limit of mutations per gene per sample\n",
      "[3] Estimating global rates...\n"
     ]
    },
    {
     "name": "stdout",
     "output_type": "stream",
     "text": [
      "[1] \"KIRC\"\n"
     ]
    },
    {
     "name": "stderr",
     "output_type": "stream",
     "text": [
      "[1] Loading the environment...\n",
      "[2] Annotating the mutations...\n",
      "Warning message in dndscv(x1, gene_list = as.character(drivers$V1), outp = 1, refdb = \"data/dndscv/dndscv_data/data/RefCDS_human_GRCh38.p12.rda\"):\n",
      "“Mutations observed in contiguous sites within a sample. Please annotate or remove dinucleotide or complex substitutions for best results.”Warning message in dndscv(x1, gene_list = as.character(drivers$V1), outp = 1, refdb = \"data/dndscv/dndscv_data/data/RefCDS_human_GRCh38.p12.rda\"):\n",
      "“Same mutations observed in different sampleIDs. Please verify that these are independent events and remove duplicates otherwise.”[3] Estimating global rates...\n",
      "[1] Loading the environment...\n",
      "[2] Annotating the mutations...\n",
      "Warning message in dndscv(x1, outp = 1, refdb = \"data/dndscv/dndscv_data/data/RefCDS_human_GRCh38.p12.rda\"):\n",
      "“Mutations observed in contiguous sites within a sample. Please annotate or remove dinucleotide or complex substitutions for best results.”Warning message in dndscv(x1, outp = 1, refdb = \"data/dndscv/dndscv_data/data/RefCDS_human_GRCh38.p12.rda\"):\n",
      "“Same mutations observed in different sampleIDs. Please verify that these are independent events and remove duplicates otherwise.”[3] Estimating global rates...\n",
      "[1] Loading the environment...\n",
      "[2] Annotating the mutations...\n",
      "Warning message in dndscv(x1, gene_list = as.character(drivers$V1), outp = 1, refdb = \"data/dndscv/dndscv_data/data/RefCDS_human_GRCh38.p12.rda\"):\n",
      "“Mutations observed in contiguous sites within a sample. Please annotate or remove dinucleotide or complex substitutions for best results.”Warning message in dndscv(x1, gene_list = as.character(drivers$V1), outp = 1, refdb = \"data/dndscv/dndscv_data/data/RefCDS_human_GRCh38.p12.rda\"):\n",
      "“Same mutations observed in different sampleIDs. Please verify that these are independent events and remove duplicates otherwise.”[3] Estimating global rates...\n",
      "[1] Loading the environment...\n",
      "[2] Annotating the mutations...\n",
      "Warning message in dndscv(x1, outp = 1, refdb = \"data/dndscv/dndscv_data/data/RefCDS_human_GRCh38.p12.rda\"):\n",
      "“Mutations observed in contiguous sites within a sample. Please annotate or remove dinucleotide or complex substitutions for best results.”Warning message in dndscv(x1, outp = 1, refdb = \"data/dndscv/dndscv_data/data/RefCDS_human_GRCh38.p12.rda\"):\n",
      "“Same mutations observed in different sampleIDs. Please verify that these are independent events and remove duplicates otherwise.”[3] Estimating global rates...\n",
      "[1] Loading the environment...\n",
      "[2] Annotating the mutations...\n",
      "Warning message in dndscv(x1, gene_list = as.character(drivers$V1), outp = 1, refdb = \"data/dndscv/dndscv_data/data/RefCDS_human_GRCh38.p12.rda\"):\n",
      "“Mutations observed in contiguous sites within a sample. Please annotate or remove dinucleotide or complex substitutions for best results.”Warning message in dndscv(x1, gene_list = as.character(drivers$V1), outp = 1, refdb = \"data/dndscv/dndscv_data/data/RefCDS_human_GRCh38.p12.rda\"):\n",
      "“Same mutations observed in different sampleIDs. Please verify that these are independent events and remove duplicates otherwise.”[3] Estimating global rates...\n",
      "[1] Loading the environment...\n",
      "[2] Annotating the mutations...\n",
      "Warning message in dndscv(x1, outp = 1, refdb = \"data/dndscv/dndscv_data/data/RefCDS_human_GRCh38.p12.rda\"):\n",
      "“Mutations observed in contiguous sites within a sample. Please annotate or remove dinucleotide or complex substitutions for best results.”Warning message in dndscv(x1, outp = 1, refdb = \"data/dndscv/dndscv_data/data/RefCDS_human_GRCh38.p12.rda\"):\n",
      "“Same mutations observed in different sampleIDs. Please verify that these are independent events and remove duplicates otherwise.”[3] Estimating global rates...\n"
     ]
    },
    {
     "name": "stdout",
     "output_type": "stream",
     "text": [
      "[1] \"LGG\"\n"
     ]
    },
    {
     "name": "stderr",
     "output_type": "stream",
     "text": [
      "[1] Loading the environment...\n",
      "[2] Annotating the mutations...\n",
      "Warning message in dndscv(x1, gene_list = as.character(drivers$V1), outp = 1, refdb = \"data/dndscv/dndscv_data/data/RefCDS_human_GRCh38.p12.rda\"):\n",
      "“Mutations observed in contiguous sites within a sample. Please annotate or remove dinucleotide or complex substitutions for best results.”[3] Estimating global rates...\n",
      "[1] Loading the environment...\n",
      "[2] Annotating the mutations...\n",
      "Warning message in dndscv(x1, outp = 1, refdb = \"data/dndscv/dndscv_data/data/RefCDS_human_GRCh38.p12.rda\"):\n",
      "“Mutations observed in contiguous sites within a sample. Please annotate or remove dinucleotide or complex substitutions for best results.”    Note: 1 samples excluded for exceeding the limit of mutations per sample\n",
      "[3] Estimating global rates...\n",
      "[1] Loading the environment...\n",
      "[2] Annotating the mutations...\n",
      "Warning message in dndscv(x1, gene_list = as.character(drivers$V1), outp = 1, refdb = \"data/dndscv/dndscv_data/data/RefCDS_human_GRCh38.p12.rda\"):\n",
      "“Mutations observed in contiguous sites within a sample. Please annotate or remove dinucleotide or complex substitutions for best results.”Warning message in dndscv(x1, gene_list = as.character(drivers$V1), outp = 1, refdb = \"data/dndscv/dndscv_data/data/RefCDS_human_GRCh38.p12.rda\"):\n",
      "“Same mutations observed in different sampleIDs. Please verify that these are independent events and remove duplicates otherwise.”    Note: 9 mutations removed for exceeding the limit of mutations per gene per sample\n",
      "[3] Estimating global rates...\n",
      "[1] Loading the environment...\n",
      "[2] Annotating the mutations...\n",
      "Warning message in dndscv(x1, outp = 1, refdb = \"data/dndscv/dndscv_data/data/RefCDS_human_GRCh38.p12.rda\"):\n",
      "“Mutations observed in contiguous sites within a sample. Please annotate or remove dinucleotide or complex substitutions for best results.”Warning message in dndscv(x1, outp = 1, refdb = \"data/dndscv/dndscv_data/data/RefCDS_human_GRCh38.p12.rda\"):\n",
      "“Same mutations observed in different sampleIDs. Please verify that these are independent events and remove duplicates otherwise.”    Note: 1 samples excluded for exceeding the limit of mutations per sample\n",
      "    Note: 1 mutations removed for exceeding the limit of mutations per gene per sample\n",
      "[3] Estimating global rates...\n",
      "[1] Loading the environment...\n",
      "[2] Annotating the mutations...\n",
      "Warning message in dndscv(x1, gene_list = as.character(drivers$V1), outp = 1, refdb = \"data/dndscv/dndscv_data/data/RefCDS_human_GRCh38.p12.rda\"):\n",
      "“Same mutations observed in different sampleIDs. Please verify that these are independent events and remove duplicates otherwise.”    Note: 1 mutations removed for exceeding the limit of mutations per gene per sample\n",
      "[3] Estimating global rates...\n",
      "[1] Loading the environment...\n",
      "[2] Annotating the mutations...\n",
      "Warning message in dndscv(x1, outp = 1, refdb = \"data/dndscv/dndscv_data/data/RefCDS_human_GRCh38.p12.rda\"):\n",
      "“Same mutations observed in different sampleIDs. Please verify that these are independent events and remove duplicates otherwise.”    Note: 21 mutations removed for exceeding the limit of mutations per gene per sample\n",
      "[3] Estimating global rates...\n"
     ]
    },
    {
     "name": "stdout",
     "output_type": "stream",
     "text": [
      "[1] \"LUSC\"\n"
     ]
    },
    {
     "name": "stderr",
     "output_type": "stream",
     "text": [
      "[1] Loading the environment...\n",
      "[2] Annotating the mutations...\n",
      "Warning message in dndscv(x1, gene_list = as.character(drivers$V1), outp = 1, refdb = \"data/dndscv/dndscv_data/data/RefCDS_human_GRCh38.p12.rda\"):\n",
      "“Mutations observed in contiguous sites within a sample. Please annotate or remove dinucleotide or complex substitutions for best results.”Warning message in dndscv(x1, gene_list = as.character(drivers$V1), outp = 1, refdb = \"data/dndscv/dndscv_data/data/RefCDS_human_GRCh38.p12.rda\"):\n",
      "“Same mutations observed in different sampleIDs. Please verify that these are independent events and remove duplicates otherwise.”[3] Estimating global rates...\n",
      "[1] Loading the environment...\n",
      "[2] Annotating the mutations...\n",
      "Warning message in dndscv(x1, outp = 1, refdb = \"data/dndscv/dndscv_data/data/RefCDS_human_GRCh38.p12.rda\"):\n",
      "“Mutations observed in contiguous sites within a sample. Please annotate or remove dinucleotide or complex substitutions for best results.”Warning message in dndscv(x1, outp = 1, refdb = \"data/dndscv/dndscv_data/data/RefCDS_human_GRCh38.p12.rda\"):\n",
      "“Same mutations observed in different sampleIDs. Please verify that these are independent events and remove duplicates otherwise.”    Note: 4 mutations removed for exceeding the limit of mutations per gene per sample\n",
      "[3] Estimating global rates...\n",
      "[1] Loading the environment...\n",
      "[2] Annotating the mutations...\n",
      "Warning message in dndscv(x1, gene_list = as.character(drivers$V1), outp = 1, refdb = \"data/dndscv/dndscv_data/data/RefCDS_human_GRCh38.p12.rda\"):\n",
      "“Mutations observed in contiguous sites within a sample. Please annotate or remove dinucleotide or complex substitutions for best results.”Warning message in dndscv(x1, gene_list = as.character(drivers$V1), outp = 1, refdb = \"data/dndscv/dndscv_data/data/RefCDS_human_GRCh38.p12.rda\"):\n",
      "“Same mutations observed in different sampleIDs. Please verify that these are independent events and remove duplicates otherwise.”[3] Estimating global rates...\n",
      "[1] Loading the environment...\n",
      "[2] Annotating the mutations...\n",
      "Warning message in dndscv(x1, outp = 1, refdb = \"data/dndscv/dndscv_data/data/RefCDS_human_GRCh38.p12.rda\"):\n",
      "“Mutations observed in contiguous sites within a sample. Please annotate or remove dinucleotide or complex substitutions for best results.”Warning message in dndscv(x1, outp = 1, refdb = \"data/dndscv/dndscv_data/data/RefCDS_human_GRCh38.p12.rda\"):\n",
      "“Same mutations observed in different sampleIDs. Please verify that these are independent events and remove duplicates otherwise.”    Note: 58 mutations removed for exceeding the limit of mutations per gene per sample\n",
      "    44% ...\n",
      "    89% ...\n",
      "[3] Estimating global rates...\n",
      "[1] Loading the environment...\n",
      "[2] Annotating the mutations...\n",
      "Warning message in dndscv(x1, gene_list = as.character(drivers$V1), outp = 1, refdb = \"data/dndscv/dndscv_data/data/RefCDS_human_GRCh38.p12.rda\"):\n",
      "“Mutations observed in contiguous sites within a sample. Please annotate or remove dinucleotide or complex substitutions for best results.”Warning message in dndscv(x1, gene_list = as.character(drivers$V1), outp = 1, refdb = \"data/dndscv/dndscv_data/data/RefCDS_human_GRCh38.p12.rda\"):\n",
      "“Same mutations observed in different sampleIDs. Please verify that these are independent events and remove duplicates otherwise.”[3] Estimating global rates...\n",
      "[1] Loading the environment...\n",
      "[2] Annotating the mutations...\n",
      "Warning message in dndscv(x1, outp = 1, refdb = \"data/dndscv/dndscv_data/data/RefCDS_human_GRCh38.p12.rda\"):\n",
      "“Mutations observed in contiguous sites within a sample. Please annotate or remove dinucleotide or complex substitutions for best results.”Warning message in dndscv(x1, outp = 1, refdb = \"data/dndscv/dndscv_data/data/RefCDS_human_GRCh38.p12.rda\"):\n",
      "“Same mutations observed in different sampleIDs. Please verify that these are independent events and remove duplicates otherwise.”    Note: 6 mutations removed for exceeding the limit of mutations per gene per sample\n",
      "[3] Estimating global rates...\n"
     ]
    },
    {
     "name": "stdout",
     "output_type": "stream",
     "text": [
      "[1] \"OV\"\n"
     ]
    },
    {
     "name": "stderr",
     "output_type": "stream",
     "text": [
      "[1] Loading the environment...\n",
      "[2] Annotating the mutations...\n",
      "Warning message in dndscv(x1, gene_list = as.character(drivers$V1), outp = 1, refdb = \"data/dndscv/dndscv_data/data/RefCDS_human_GRCh38.p12.rda\"):\n",
      "“Mutations observed in contiguous sites within a sample. Please annotate or remove dinucleotide or complex substitutions for best results.”Warning message in dndscv(x1, gene_list = as.character(drivers$V1), outp = 1, refdb = \"data/dndscv/dndscv_data/data/RefCDS_human_GRCh38.p12.rda\"):\n",
      "“Same mutations observed in different sampleIDs. Please verify that these are independent events and remove duplicates otherwise.”[3] Estimating global rates...\n",
      "[1] Loading the environment...\n",
      "[2] Annotating the mutations...\n",
      "Warning message in dndscv(x1, outp = 1, refdb = \"data/dndscv/dndscv_data/data/RefCDS_human_GRCh38.p12.rda\"):\n",
      "“Mutations observed in contiguous sites within a sample. Please annotate or remove dinucleotide or complex substitutions for best results.”Warning message in dndscv(x1, outp = 1, refdb = \"data/dndscv/dndscv_data/data/RefCDS_human_GRCh38.p12.rda\"):\n",
      "“Same mutations observed in different sampleIDs. Please verify that these are independent events and remove duplicates otherwise.”    Note: 10 mutations removed for exceeding the limit of mutations per gene per sample\n",
      "[3] Estimating global rates...\n",
      "[1] Loading the environment...\n",
      "[2] Annotating the mutations...\n",
      "Warning message in dndscv(x1, gene_list = as.character(drivers$V1), outp = 1, refdb = \"data/dndscv/dndscv_data/data/RefCDS_human_GRCh38.p12.rda\"):\n",
      "“Mutations observed in contiguous sites within a sample. Please annotate or remove dinucleotide or complex substitutions for best results.”Warning message in dndscv(x1, gene_list = as.character(drivers$V1), outp = 1, refdb = \"data/dndscv/dndscv_data/data/RefCDS_human_GRCh38.p12.rda\"):\n",
      "“Same mutations observed in different sampleIDs. Please verify that these are independent events and remove duplicates otherwise.”[3] Estimating global rates...\n",
      "[1] Loading the environment...\n",
      "[2] Annotating the mutations...\n",
      "Warning message in dndscv(x1, outp = 1, refdb = \"data/dndscv/dndscv_data/data/RefCDS_human_GRCh38.p12.rda\"):\n",
      "“Mutations observed in contiguous sites within a sample. Please annotate or remove dinucleotide or complex substitutions for best results.”Warning message in dndscv(x1, outp = 1, refdb = \"data/dndscv/dndscv_data/data/RefCDS_human_GRCh38.p12.rda\"):\n",
      "“Same mutations observed in different sampleIDs. Please verify that these are independent events and remove duplicates otherwise.”    Note: 3 mutations removed for exceeding the limit of mutations per gene per sample\n",
      "[3] Estimating global rates...\n",
      "[1] Loading the environment...\n",
      "[2] Annotating the mutations...\n",
      "Warning message in dndscv(x1, gene_list = as.character(drivers$V1), outp = 1, refdb = \"data/dndscv/dndscv_data/data/RefCDS_human_GRCh38.p12.rda\"):\n",
      "“Mutations observed in contiguous sites within a sample. Please annotate or remove dinucleotide or complex substitutions for best results.”Warning message in dndscv(x1, gene_list = as.character(drivers$V1), outp = 1, refdb = \"data/dndscv/dndscv_data/data/RefCDS_human_GRCh38.p12.rda\"):\n",
      "“Same mutations observed in different sampleIDs. Please verify that these are independent events and remove duplicates otherwise.”[3] Estimating global rates...\n",
      "[1] Loading the environment...\n",
      "[2] Annotating the mutations...\n",
      "Warning message in dndscv(x1, outp = 1, refdb = \"data/dndscv/dndscv_data/data/RefCDS_human_GRCh38.p12.rda\"):\n",
      "“Mutations observed in contiguous sites within a sample. Please annotate or remove dinucleotide or complex substitutions for best results.”Warning message in dndscv(x1, outp = 1, refdb = \"data/dndscv/dndscv_data/data/RefCDS_human_GRCh38.p12.rda\"):\n",
      "“Same mutations observed in different sampleIDs. Please verify that these are independent events and remove duplicates otherwise.”[3] Estimating global rates...\n"
     ]
    },
    {
     "name": "stdout",
     "output_type": "stream",
     "text": [
      "[1] \"PRAD\"\n"
     ]
    },
    {
     "name": "stderr",
     "output_type": "stream",
     "text": [
      "[1] Loading the environment...\n",
      "[2] Annotating the mutations...\n",
      "Warning message in dndscv(x1, gene_list = as.character(drivers$V1), outp = 1, refdb = \"data/dndscv/dndscv_data/data/RefCDS_human_GRCh38.p12.rda\"):\n",
      "“Mutations observed in contiguous sites within a sample. Please annotate or remove dinucleotide or complex substitutions for best results.”[3] Estimating global rates...\n",
      "[1] Loading the environment...\n",
      "[2] Annotating the mutations...\n",
      "Warning message in dndscv(x1, outp = 1, refdb = \"data/dndscv/dndscv_data/data/RefCDS_human_GRCh38.p12.rda\"):\n",
      "“Mutations observed in contiguous sites within a sample. Please annotate or remove dinucleotide or complex substitutions for best results.”[3] Estimating global rates...\n",
      "[1] Loading the environment...\n",
      "[2] Annotating the mutations...\n",
      "Warning message in dndscv(x1, gene_list = as.character(drivers$V1), outp = 1, refdb = \"data/dndscv/dndscv_data/data/RefCDS_human_GRCh38.p12.rda\"):\n",
      "“Mutations observed in contiguous sites within a sample. Please annotate or remove dinucleotide or complex substitutions for best results.”Warning message in dndscv(x1, gene_list = as.character(drivers$V1), outp = 1, refdb = \"data/dndscv/dndscv_data/data/RefCDS_human_GRCh38.p12.rda\"):\n",
      "“Same mutations observed in different sampleIDs. Please verify that these are independent events and remove duplicates otherwise.”[3] Estimating global rates...\n",
      "[1] Loading the environment...\n",
      "[2] Annotating the mutations...\n",
      "Warning message in dndscv(x1, outp = 1, refdb = \"data/dndscv/dndscv_data/data/RefCDS_human_GRCh38.p12.rda\"):\n",
      "“Mutations observed in contiguous sites within a sample. Please annotate or remove dinucleotide or complex substitutions for best results.”Warning message in dndscv(x1, outp = 1, refdb = \"data/dndscv/dndscv_data/data/RefCDS_human_GRCh38.p12.rda\"):\n",
      "“Same mutations observed in different sampleIDs. Please verify that these are independent events and remove duplicates otherwise.”[3] Estimating global rates...\n",
      "[1] Loading the environment...\n",
      "[2] Annotating the mutations...\n",
      "Warning message in dndscv(x1, gene_list = as.character(drivers$V1), outp = 1, refdb = \"data/dndscv/dndscv_data/data/RefCDS_human_GRCh38.p12.rda\"):\n",
      "“Mutations observed in contiguous sites within a sample. Please annotate or remove dinucleotide or complex substitutions for best results.”[3] Estimating global rates...\n",
      "Warning message:\n",
      "“glm.fit: fitted rates numerically 0 occurred”Warning message:\n",
      "“glm.fit: fitted rates numerically 0 occurred”[1] Loading the environment...\n",
      "[2] Annotating the mutations...\n",
      "Warning message in dndscv(x1, outp = 1, refdb = \"data/dndscv/dndscv_data/data/RefCDS_human_GRCh38.p12.rda\"):\n",
      "“Mutations observed in contiguous sites within a sample. Please annotate or remove dinucleotide or complex substitutions for best results.”[3] Estimating global rates...\n"
     ]
    },
    {
     "name": "stdout",
     "output_type": "stream",
     "text": [
      "[1] \"SKCM\"\n"
     ]
    },
    {
     "name": "stderr",
     "output_type": "stream",
     "text": [
      "[1] Loading the environment...\n",
      "[2] Annotating the mutations...\n",
      "Warning message in dndscv(x1, gene_list = as.character(drivers$V1), outp = 1, refdb = \"data/dndscv/dndscv_data/data/RefCDS_human_GRCh38.p12.rda\"):\n",
      "“Mutations observed in contiguous sites within a sample. Please annotate or remove dinucleotide or complex substitutions for best results.”Warning message in dndscv(x1, gene_list = as.character(drivers$V1), outp = 1, refdb = \"data/dndscv/dndscv_data/data/RefCDS_human_GRCh38.p12.rda\"):\n",
      "“Same mutations observed in different sampleIDs. Please verify that these are independent events and remove duplicates otherwise.”    Note: 1 mutations removed for exceeding the limit of mutations per gene per sample\n",
      "[3] Estimating global rates...\n",
      "[1] Loading the environment...\n",
      "[2] Annotating the mutations...\n",
      "Warning message in dndscv(x1, outp = 1, refdb = \"data/dndscv/dndscv_data/data/RefCDS_human_GRCh38.p12.rda\"):\n",
      "“Mutations observed in contiguous sites within a sample. Please annotate or remove dinucleotide or complex substitutions for best results.”Warning message in dndscv(x1, outp = 1, refdb = \"data/dndscv/dndscv_data/data/RefCDS_human_GRCh38.p12.rda\"):\n",
      "“Same mutations observed in different sampleIDs. Please verify that these are independent events and remove duplicates otherwise.”    Note: 1 samples excluded for exceeding the limit of mutations per sample\n",
      "    Note: 133 mutations removed for exceeding the limit of mutations per gene per sample\n",
      "    85% ...\n",
      "[3] Estimating global rates...\n",
      "[1] Loading the environment...\n",
      "[2] Annotating the mutations...\n",
      "Warning message in dndscv(x1, gene_list = as.character(drivers$V1), outp = 1, refdb = \"data/dndscv/dndscv_data/data/RefCDS_human_GRCh38.p12.rda\"):\n",
      "“Mutations observed in contiguous sites within a sample. Please annotate or remove dinucleotide or complex substitutions for best results.”Warning message in dndscv(x1, gene_list = as.character(drivers$V1), outp = 1, refdb = \"data/dndscv/dndscv_data/data/RefCDS_human_GRCh38.p12.rda\"):\n",
      "“Same mutations observed in different sampleIDs. Please verify that these are independent events and remove duplicates otherwise.”    Note: 46 mutations removed for exceeding the limit of mutations per gene per sample\n",
      "[3] Estimating global rates...\n",
      "[1] Loading the environment...\n",
      "[2] Annotating the mutations...\n",
      "Warning message in dndscv(x1, outp = 1, refdb = \"data/dndscv/dndscv_data/data/RefCDS_human_GRCh38.p12.rda\"):\n",
      "“Mutations observed in contiguous sites within a sample. Please annotate or remove dinucleotide or complex substitutions for best results.”Warning message in dndscv(x1, outp = 1, refdb = \"data/dndscv/dndscv_data/data/RefCDS_human_GRCh38.p12.rda\"):\n",
      "“Same mutations observed in different sampleIDs. Please verify that these are independent events and remove duplicates otherwise.”    Note: 2 samples excluded for exceeding the limit of mutations per sample\n",
      "    Note: 608 mutations removed for exceeding the limit of mutations per gene per sample\n",
      "    20% ...\n",
      "    39% ...\n",
      "    59% ...\n",
      "    78% ...\n",
      "    98% ...\n",
      "[3] Estimating global rates...\n",
      "[1] Loading the environment...\n",
      "[2] Annotating the mutations...\n",
      "Warning message in dndscv(x1, gene_list = as.character(drivers$V1), outp = 1, refdb = \"data/dndscv/dndscv_data/data/RefCDS_human_GRCh38.p12.rda\"):\n",
      "“Mutations observed in contiguous sites within a sample. Please annotate or remove dinucleotide or complex substitutions for best results.”Warning message in dndscv(x1, gene_list = as.character(drivers$V1), outp = 1, refdb = \"data/dndscv/dndscv_data/data/RefCDS_human_GRCh38.p12.rda\"):\n",
      "“Same mutations observed in different sampleIDs. Please verify that these are independent events and remove duplicates otherwise.”[3] Estimating global rates...\n",
      "[1] Loading the environment...\n",
      "[2] Annotating the mutations...\n",
      "Warning message in dndscv(x1, outp = 1, refdb = \"data/dndscv/dndscv_data/data/RefCDS_human_GRCh38.p12.rda\"):\n",
      "“Mutations observed in contiguous sites within a sample. Please annotate or remove dinucleotide or complex substitutions for best results.”Warning message in dndscv(x1, outp = 1, refdb = \"data/dndscv/dndscv_data/data/RefCDS_human_GRCh38.p12.rda\"):\n",
      "“Same mutations observed in different sampleIDs. Please verify that these are independent events and remove duplicates otherwise.”    Note: 68 mutations removed for exceeding the limit of mutations per gene per sample\n",
      "[3] Estimating global rates...\n"
     ]
    },
    {
     "name": "stdout",
     "output_type": "stream",
     "text": [
      "[1] \"THCA\"\n"
     ]
    },
    {
     "name": "stderr",
     "output_type": "stream",
     "text": [
      "[1] Loading the environment...\n",
      "[2] Annotating the mutations...\n",
      "Warning message in dndscv(x1, gene_list = as.character(drivers$V1), outp = 1, refdb = \"data/dndscv/dndscv_data/data/RefCDS_human_GRCh38.p12.rda\"):\n",
      "“Mutations observed in contiguous sites within a sample. Please annotate or remove dinucleotide or complex substitutions for best results.”Warning message in dndscv(x1, gene_list = as.character(drivers$V1), outp = 1, refdb = \"data/dndscv/dndscv_data/data/RefCDS_human_GRCh38.p12.rda\"):\n",
      "“Same mutations observed in different sampleIDs. Please verify that these are independent events and remove duplicates otherwise.”[3] Estimating global rates...\n",
      "Warning message:\n",
      "“glm.fit: fitted rates numerically 0 occurred”[1] Loading the environment...\n",
      "[2] Annotating the mutations...\n",
      "Warning message in dndscv(x1, outp = 1, refdb = \"data/dndscv/dndscv_data/data/RefCDS_human_GRCh38.p12.rda\"):\n",
      "“Mutations observed in contiguous sites within a sample. Please annotate or remove dinucleotide or complex substitutions for best results.”Warning message in dndscv(x1, outp = 1, refdb = \"data/dndscv/dndscv_data/data/RefCDS_human_GRCh38.p12.rda\"):\n",
      "“Same mutations observed in different sampleIDs. Please verify that these are independent events and remove duplicates otherwise.”[3] Estimating global rates...\n",
      "[1] Loading the environment...\n",
      "[2] Annotating the mutations...\n",
      "Warning message in dndscv(x1, gene_list = as.character(drivers$V1), outp = 1, refdb = \"data/dndscv/dndscv_data/data/RefCDS_human_GRCh38.p12.rda\"):\n",
      "“Mutations observed in contiguous sites within a sample. Please annotate or remove dinucleotide or complex substitutions for best results.”Warning message in dndscv(x1, gene_list = as.character(drivers$V1), outp = 1, refdb = \"data/dndscv/dndscv_data/data/RefCDS_human_GRCh38.p12.rda\"):\n",
      "“Same mutations observed in different sampleIDs. Please verify that these are independent events and remove duplicates otherwise.”[3] Estimating global rates...\n",
      "Warning message:\n",
      "“glm.fit: fitted rates numerically 0 occurred”[1] Loading the environment...\n",
      "[2] Annotating the mutations...\n",
      "Warning message in dndscv(x1, outp = 1, refdb = \"data/dndscv/dndscv_data/data/RefCDS_human_GRCh38.p12.rda\"):\n",
      "“Mutations observed in contiguous sites within a sample. Please annotate or remove dinucleotide or complex substitutions for best results.”Warning message in dndscv(x1, outp = 1, refdb = \"data/dndscv/dndscv_data/data/RefCDS_human_GRCh38.p12.rda\"):\n",
      "“Same mutations observed in different sampleIDs. Please verify that these are independent events and remove duplicates otherwise.”[3] Estimating global rates...\n",
      "[1] Loading the environment...\n",
      "[2] Annotating the mutations...\n",
      "Warning message in dndscv(x1, gene_list = as.character(drivers$V1), outp = 1, refdb = \"data/dndscv/dndscv_data/data/RefCDS_human_GRCh38.p12.rda\"):\n",
      "“Same mutations observed in different sampleIDs. Please verify that these are independent events and remove duplicates otherwise.”[3] Estimating global rates...\n",
      "Warning message:\n",
      "“glm.fit: algorithm did not converge”Warning message:\n",
      "“glm.fit: fitted rates numerically 0 occurred”Warning message:\n",
      "“glm.fit: fitted rates numerically 0 occurred”Warning message:\n",
      "“glm.fit: algorithm did not converge”Warning message:\n",
      "“glm.fit: fitted rates numerically 0 occurred”[1] Loading the environment...\n",
      "[2] Annotating the mutations...\n",
      "Warning message in dndscv(x1, outp = 1, refdb = \"data/dndscv/dndscv_data/data/RefCDS_human_GRCh38.p12.rda\"):\n",
      "“Same mutations observed in different sampleIDs. Please verify that these are independent events and remove duplicates otherwise.”[3] Estimating global rates...\n"
     ]
    },
    {
     "name": "stdout",
     "output_type": "stream",
     "text": [
      "[1] \"UCEC\"\n"
     ]
    },
    {
     "name": "stderr",
     "output_type": "stream",
     "text": [
      "[1] Loading the environment...\n",
      "[2] Annotating the mutations...\n",
      "Warning message in dndscv(x1, gene_list = as.character(drivers$V1), outp = 1, refdb = \"data/dndscv/dndscv_data/data/RefCDS_human_GRCh38.p12.rda\"):\n",
      "“Mutations observed in contiguous sites within a sample. Please annotate or remove dinucleotide or complex substitutions for best results.”Warning message in dndscv(x1, gene_list = as.character(drivers$V1), outp = 1, refdb = \"data/dndscv/dndscv_data/data/RefCDS_human_GRCh38.p12.rda\"):\n",
      "“Same mutations observed in different sampleIDs. Please verify that these are independent events and remove duplicates otherwise.”    Note: 10 mutations removed for exceeding the limit of mutations per gene per sample\n",
      "[3] Estimating global rates...\n",
      "[1] Loading the environment...\n",
      "[2] Annotating the mutations...\n",
      "Warning message in dndscv(x1, outp = 1, refdb = \"data/dndscv/dndscv_data/data/RefCDS_human_GRCh38.p12.rda\"):\n",
      "“Mutations observed in contiguous sites within a sample. Please annotate or remove dinucleotide or complex substitutions for best results.”Warning message in dndscv(x1, outp = 1, refdb = \"data/dndscv/dndscv_data/data/RefCDS_human_GRCh38.p12.rda\"):\n",
      "“Same mutations observed in different sampleIDs. Please verify that these are independent events and remove duplicates otherwise.”    Note: 2 samples excluded for exceeding the limit of mutations per sample\n",
      "    Note: 154 mutations removed for exceeding the limit of mutations per gene per sample\n",
      "    28% ...\n",
      "    57% ...\n",
      "    85% ...\n",
      "[3] Estimating global rates...\n",
      "[1] Loading the environment...\n",
      "[2] Annotating the mutations...\n",
      "Warning message in dndscv(x1, gene_list = as.character(drivers$V1), outp = 1, refdb = \"data/dndscv/dndscv_data/data/RefCDS_human_GRCh38.p12.rda\"):\n",
      "“Mutations observed in contiguous sites within a sample. Please annotate or remove dinucleotide or complex substitutions for best results.”Warning message in dndscv(x1, gene_list = as.character(drivers$V1), outp = 1, refdb = \"data/dndscv/dndscv_data/data/RefCDS_human_GRCh38.p12.rda\"):\n",
      "“Same mutations observed in different sampleIDs. Please verify that these are independent events and remove duplicates otherwise.”    Note: 243 mutations removed for exceeding the limit of mutations per gene per sample\n",
      "[3] Estimating global rates...\n",
      "[1] Loading the environment...\n",
      "[2] Annotating the mutations...\n",
      "Warning message in dndscv(x1, outp = 1, refdb = \"data/dndscv/dndscv_data/data/RefCDS_human_GRCh38.p12.rda\"):\n",
      "“Mutations observed in contiguous sites within a sample. Please annotate or remove dinucleotide or complex substitutions for best results.”Warning message in dndscv(x1, outp = 1, refdb = \"data/dndscv/dndscv_data/data/RefCDS_human_GRCh38.p12.rda\"):\n",
      "“Same mutations observed in different sampleIDs. Please verify that these are independent events and remove duplicates otherwise.”    Note: 16 samples excluded for exceeding the limit of mutations per sample\n",
      "    Note: 102 mutations removed for exceeding the limit of mutations per gene per sample\n",
      "    25% ...\n",
      "    50% ...\n",
      "    75% ...\n",
      "    99% ...\n",
      "[3] Estimating global rates...\n",
      "[1] Loading the environment...\n",
      "[2] Annotating the mutations...\n",
      "Warning message in dndscv(x1, gene_list = as.character(drivers$V1), outp = 1, refdb = \"data/dndscv/dndscv_data/data/RefCDS_human_GRCh38.p12.rda\"):\n",
      "“Mutations observed in contiguous sites within a sample. Please annotate or remove dinucleotide or complex substitutions for best results.”Warning message in dndscv(x1, gene_list = as.character(drivers$V1), outp = 1, refdb = \"data/dndscv/dndscv_data/data/RefCDS_human_GRCh38.p12.rda\"):\n",
      "“Same mutations observed in different sampleIDs. Please verify that these are independent events and remove duplicates otherwise.”    Note: 9 mutations removed for exceeding the limit of mutations per gene per sample\n",
      "[3] Estimating global rates...\n",
      "[1] Loading the environment...\n",
      "[2] Annotating the mutations...\n",
      "Warning message in dndscv(x1, outp = 1, refdb = \"data/dndscv/dndscv_data/data/RefCDS_human_GRCh38.p12.rda\"):\n",
      "“Mutations observed in contiguous sites within a sample. Please annotate or remove dinucleotide or complex substitutions for best results.”Warning message in dndscv(x1, outp = 1, refdb = \"data/dndscv/dndscv_data/data/RefCDS_human_GRCh38.p12.rda\"):\n",
      "“Same mutations observed in different sampleIDs. Please verify that these are independent events and remove duplicates otherwise.”    Note: 1 samples excluded for exceeding the limit of mutations per sample\n",
      "    Note: 14 mutations removed for exceeding the limit of mutations per gene per sample\n",
      "[3] Estimating global rates...\n"
     ]
    }
   ],
   "source": [
    "dfsubc <- df %>%\n",
    "    filter(meaneffdepth > 50.0) %>% #remove samples with effective depth < 50X\n",
    "    select(sampleid, chr, start, Reference_Allele, Tumor_Seq_Allele2, everything())\n",
    "\n",
    "cancertypes <- dfsubc %>%\n",
    "    distinct(sampleid, cancertype) %>%\n",
    "    group_by(cancertype) %>%\n",
    "    summarise(n = n()) %>%\n",
    "    filter(n >= 100) %>%\n",
    "    #filter(!cancertype %in% c(\"THCA\", \"PRAD\")) %>%\n",
    "    pull(cancertype)\n",
    "\n",
    "dfdnds.cancertype <- data.frame()\n",
    "\n",
    "for (ct in cancertypes){\n",
    "    print(ct)\n",
    "    for (clon in c(\"Subclonal\", \"Clonal\", \"Amplified\")){\n",
    "        x1 <- dfsubc %>% filter(clonality == clon, cancertype == ct)\n",
    "\n",
    "        x <- dndscv(x1 , gene_list = as.character(drivers$V1), outp = 1,\n",
    "                   refdb = \"data/dndscv/dndscv_data/data/RefCDS_human_GRCh38.p12.rda\")\n",
    "        out <- x$globaldnds %>% mutate(clonality = clon, mutationtype = \"drivers\", cancertype = ct)\n",
    "        dfdnds.cancertype <- rbind(dfdnds.cancertype, out)\n",
    "\n",
    "        x <- dndscv(x1, outp = 1,\n",
    "                   refdb = \"data/dndscv/dndscv_data/data/RefCDS_human_GRCh38.p12.rda\")\n",
    "        out <- x$globaldnds %>% mutate(clonality = clon, mutationtype = \"all\", cancertype = ct)\n",
    "        dfdnds.cancertype <- rbind(dfdnds.cancertype, out)\n",
    "    }\n",
    "}\n",
    "\n",
    "dfdnds.cancertype <- dfdnds.cancertype %>%\n",
    "    mutate(clonality = factor(clonality, \n",
    "                              levels = c(\"Subclonal\", \"Clonal\", \"Amplified\")))"
   ]
  },
  {
   "cell_type": "code",
   "execution_count": 44,
   "metadata": {},
   "outputs": [],
   "source": [
    "write_csv(dfdnds.cancertype, \"FinalFigures/data_for_figures/TCGA_dnds_clonality_percancertype.csv\")"
   ]
  },
  {
   "cell_type": "code",
   "execution_count": 45,
   "metadata": {},
   "outputs": [
    {
     "name": "stderr",
     "output_type": "stream",
     "text": [
      "Scale for 'colour' is already present. Adding another scale for 'colour',\n",
      "which will replace the existing scale.\n",
      "Scale for 'colour' is already present. Adding another scale for 'colour',\n",
      "which will replace the existing scale.\n",
      "Warning message:\n",
      "“Removed 209 rows containing non-finite values (stat_bin).”Warning message:\n",
      "“Removed 6 rows containing missing values (geom_bar).”Scale for 'colour' is already present. Adding another scale for 'colour',\n",
      "which will replace the existing scale.\n",
      "Scale for 'colour' is already present. Adding another scale for 'colour',\n",
      "which will replace the existing scale.\n",
      "Warning message:\n",
      "“Removed 619 rows containing non-finite values (stat_bin).”Warning message:\n",
      "“Removed 6 rows containing missing values (geom_bar).”Scale for 'colour' is already present. Adding another scale for 'colour',\n",
      "which will replace the existing scale.\n",
      "Scale for 'colour' is already present. Adding another scale for 'colour',\n",
      "which will replace the existing scale.\n",
      "Warning message:\n",
      "“Removed 656 rows containing non-finite values (stat_bin).”Warning message:\n",
      "“Removed 6 rows containing missing values (geom_bar).”Scale for 'colour' is already present. Adding another scale for 'colour',\n",
      "which will replace the existing scale.\n",
      "Scale for 'colour' is already present. Adding another scale for 'colour',\n",
      "which will replace the existing scale.\n",
      "Warning message:\n",
      "“Removed 219 rows containing non-finite values (stat_bin).”Warning message:\n",
      "“Removed 6 rows containing missing values (geom_bar).”Scale for 'colour' is already present. Adding another scale for 'colour',\n",
      "which will replace the existing scale.\n",
      "Scale for 'colour' is already present. Adding another scale for 'colour',\n",
      "which will replace the existing scale.\n",
      "Warning message:\n",
      "“Removed 58 rows containing non-finite values (stat_bin).”Warning message:\n",
      "“Removed 6 rows containing missing values (geom_bar).”Scale for 'colour' is already present. Adding another scale for 'colour',\n",
      "which will replace the existing scale.\n",
      "Scale for 'colour' is already present. Adding another scale for 'colour',\n",
      "which will replace the existing scale.\n",
      "Warning message:\n",
      "“Removed 166 rows containing non-finite values (stat_bin).”Warning message:\n",
      "“Removed 6 rows containing missing values (geom_bar).”Scale for 'colour' is already present. Adding another scale for 'colour',\n",
      "which will replace the existing scale.\n",
      "Scale for 'colour' is already present. Adding another scale for 'colour',\n",
      "which will replace the existing scale.\n",
      "Warning message:\n",
      "“Removed 671 rows containing non-finite values (stat_bin).”Warning message:\n",
      "“Removed 6 rows containing missing values (geom_bar).”Scale for 'colour' is already present. Adding another scale for 'colour',\n",
      "which will replace the existing scale.\n",
      "Scale for 'colour' is already present. Adding another scale for 'colour',\n",
      "which will replace the existing scale.\n",
      "Warning message:\n",
      "“Removed 174 rows containing non-finite values (stat_bin).”Warning message:\n",
      "“Removed 6 rows containing missing values (geom_bar).”Scale for 'colour' is already present. Adding another scale for 'colour',\n",
      "which will replace the existing scale.\n",
      "Scale for 'colour' is already present. Adding another scale for 'colour',\n",
      "which will replace the existing scale.\n",
      "Warning message:\n",
      "“Removed 9 rows containing non-finite values (stat_bin).”Warning message:\n",
      "“Removed 6 rows containing missing values (geom_bar).”Scale for 'colour' is already present. Adding another scale for 'colour',\n",
      "which will replace the existing scale.\n",
      "Scale for 'colour' is already present. Adding another scale for 'colour',\n",
      "which will replace the existing scale.\n",
      "Warning message:\n",
      "“Removed 695 rows containing non-finite values (stat_bin).”Warning message:\n",
      "“Removed 6 rows containing missing values (geom_bar).”Scale for 'colour' is already present. Adding another scale for 'colour',\n",
      "which will replace the existing scale.\n",
      "Scale for 'colour' is already present. Adding another scale for 'colour',\n",
      "which will replace the existing scale.\n",
      "Warning message:\n",
      "“Removed 1 rows containing non-finite values (stat_bin).”Warning message:\n",
      "“Removed 6 rows containing missing values (geom_bar).”Scale for 'colour' is already present. Adding another scale for 'colour',\n",
      "which will replace the existing scale.\n",
      "Scale for 'colour' is already present. Adding another scale for 'colour',\n",
      "which will replace the existing scale.\n",
      "Warning message:\n",
      "“Removed 1281 rows containing non-finite values (stat_bin).”Warning message:\n",
      "“Removed 8 rows containing missing values (geom_bar).”Scale for 'colour' is already present. Adding another scale for 'colour',\n",
      "which will replace the existing scale.\n",
      "Scale for 'colour' is already present. Adding another scale for 'colour',\n",
      "which will replace the existing scale.\n",
      "Warning message:\n",
      "“Removed 209 rows containing non-finite values (stat_bin).”Warning message:\n",
      "“Removed 6 rows containing missing values (geom_bar).”Scale for 'colour' is already present. Adding another scale for 'colour',\n",
      "which will replace the existing scale.\n",
      "Scale for 'colour' is already present. Adding another scale for 'colour',\n",
      "which will replace the existing scale.\n",
      "Warning message:\n",
      "“Removed 619 rows containing non-finite values (stat_bin).”Warning message:\n",
      "“Removed 6 rows containing missing values (geom_bar).”Scale for 'colour' is already present. Adding another scale for 'colour',\n",
      "which will replace the existing scale.\n",
      "Scale for 'colour' is already present. Adding another scale for 'colour',\n",
      "which will replace the existing scale.\n",
      "Warning message:\n",
      "“Removed 656 rows containing non-finite values (stat_bin).”Warning message:\n",
      "“Removed 6 rows containing missing values (geom_bar).”Scale for 'colour' is already present. Adding another scale for 'colour',\n",
      "which will replace the existing scale.\n",
      "Scale for 'colour' is already present. Adding another scale for 'colour',\n",
      "which will replace the existing scale.\n",
      "Warning message:\n",
      "“Removed 219 rows containing non-finite values (stat_bin).”Warning message:\n",
      "“Removed 6 rows containing missing values (geom_bar).”Scale for 'colour' is already present. Adding another scale for 'colour',\n",
      "which will replace the existing scale.\n",
      "Scale for 'colour' is already present. Adding another scale for 'colour',\n",
      "which will replace the existing scale.\n",
      "Warning message:\n",
      "“Removed 58 rows containing non-finite values (stat_bin).”Warning message:\n",
      "“Removed 6 rows containing missing values (geom_bar).”Warning message:\n",
      "“Removed 1 rows containing missing values (geom_linerange).”Warning message:\n",
      "“Removed 1 rows containing missing values (geom_point).”Warning message:\n",
      "“Removed 1 rows containing missing values (geom_linerange).”Scale for 'colour' is already present. Adding another scale for 'colour',\n",
      "which will replace the existing scale.\n",
      "Scale for 'colour' is already present. Adding another scale for 'colour',\n",
      "which will replace the existing scale.\n",
      "Warning message:\n",
      "“Removed 166 rows containing non-finite values (stat_bin).”Warning message:\n",
      "“Removed 6 rows containing missing values (geom_bar).”Scale for 'colour' is already present. Adding another scale for 'colour',\n",
      "which will replace the existing scale.\n",
      "Scale for 'colour' is already present. Adding another scale for 'colour',\n",
      "which will replace the existing scale.\n",
      "Warning message:\n",
      "“Removed 671 rows containing non-finite values (stat_bin).”Warning message:\n",
      "“Removed 6 rows containing missing values (geom_bar).”Scale for 'colour' is already present. Adding another scale for 'colour',\n",
      "which will replace the existing scale.\n",
      "Scale for 'colour' is already present. Adding another scale for 'colour',\n",
      "which will replace the existing scale.\n",
      "Warning message:\n",
      "“Removed 174 rows containing non-finite values (stat_bin).”Warning message:\n",
      "“Removed 6 rows containing missing values (geom_bar).”Warning message:\n",
      "“Removed 1 rows containing missing values (geom_linerange).”Scale for 'colour' is already present. Adding another scale for 'colour',\n",
      "which will replace the existing scale.\n",
      "Scale for 'colour' is already present. Adding another scale for 'colour',\n",
      "which will replace the existing scale.\n",
      "Warning message:\n",
      "“Removed 9 rows containing non-finite values (stat_bin).”Warning message:\n",
      "“Removed 6 rows containing missing values (geom_bar).”Warning message:\n",
      "“Removed 1 rows containing missing values (geom_linerange).”Scale for 'colour' is already present. Adding another scale for 'colour',\n",
      "which will replace the existing scale.\n",
      "Scale for 'colour' is already present. Adding another scale for 'colour',\n",
      "which will replace the existing scale.\n",
      "Warning message:\n",
      "“Removed 695 rows containing non-finite values (stat_bin).”Warning message:\n",
      "“Removed 6 rows containing missing values (geom_bar).”Warning message:\n",
      "“Removed 1 rows containing missing values (geom_linerange).”Scale for 'colour' is already present. Adding another scale for 'colour',\n",
      "which will replace the existing scale.\n",
      "Scale for 'colour' is already present. Adding another scale for 'colour',\n",
      "which will replace the existing scale.\n",
      "Warning message:\n",
      "“Removed 1 rows containing non-finite values (stat_bin).”Warning message:\n",
      "“Removed 6 rows containing missing values (geom_bar).”Warning message:\n",
      "“Removed 1 rows containing missing values (geom_point).”Warning message:\n",
      "“Removed 2 rows containing missing values (geom_linerange).”Scale for 'colour' is already present. Adding another scale for 'colour',\n",
      "which will replace the existing scale.\n",
      "Scale for 'colour' is already present. Adding another scale for 'colour',\n",
      "which will replace the existing scale.\n",
      "Warning message:\n",
      "“Removed 1281 rows containing non-finite values (stat_bin).”Warning message:\n",
      "“Removed 8 rows containing missing values (geom_bar).”"
     ]
    }
   ],
   "source": [
    "plotlist <- list()\n",
    "i <- 1\n",
    "for (ct in cancertypes){\n",
    "    \n",
    "    dfdndsct <- dfdnds.cancertype %>%\n",
    "        filter(cancertype == ct)\n",
    "    \n",
    "    gvafall <- dfsubc %>%\n",
    "        filter(cancertype == ct) %>%\n",
    "        mutate(clonality = factor(clonality, \n",
    "                                  levels = c(\"Subclonal\", \"Clonal\", \"Amplified\"))) %>%\n",
    "        ggplot(aes(x = MCN, fill = clonality)) +\n",
    "        geom_histogram(bins = 100, position = \"identity\") +\n",
    "        geom_vline(xintercept = 1.0, lty = 2, col = \"firebrick\", alpha = 0.5) +\n",
    "        xlim(c(0, 3.0)) +\n",
    "        theme(legend.position = c(0.5, 0.8), legend.title = element_blank()) +\n",
    "        xlab(\"Mutation copy number\") + ylab(\"Counts\") + \n",
    "        scale_fill_jcolors(palette = \"pal9\") +\n",
    "        ggtitle(ct)\n",
    "\n",
    "    \n",
    "    lim <- round(max(filter(dfdndsct, name == \"wmis\")$cihigh)) + 0.5\n",
    "    gdndsdriver <- getdndsplot(dfdndsct, baseline, \"wmis\", \"drivers\", \"Driver mutations\", \"dN/dS - Missense\", ylims = c(0.0, lim)) +\n",
    "                    scale_color_jcolors(palette = \"pal9\") + theme(legend.position = \"none\") + ggtitle(\"\")\n",
    "    lim <- round(max(filter(dfdndsct, name == \"wnon\")$cihigh)) + 0.5\n",
    "    gdndsdrivernon <- getdndsplot(dfdndsct, baseline, \"wnon\", \"drivers\", \"Driver mutations\", \"dN/dS - Nonsense\", ylims = c(0.0, lim)) +\n",
    "                    scale_color_jcolors(palette = \"pal9\") + theme(legend.position = \"none\") + ggtitle(\"\")\n",
    "\n",
    "\n",
    "    gclonality <- plot_grid(gvafall, gdndsdriver, gdndsdrivernon, ncol = 3)\n",
    "    \n",
    "    plotlist[[i]] <- gclonality\n",
    "    i <- i + 1\n",
    "}\n",
    "\n",
    "save_plot(\"plots/1.TCGA/figureSX-dnds-percancertype-drivers.pdf\", plot_grid(plotlist = plotlist, ncol = 2), \n",
    "          base_height = 20,\n",
    "          base_width = 20)\n",
    "\n",
    "\n",
    "plotlist <- list()\n",
    "i <- 1\n",
    "for (ct in cancertypes){\n",
    "    \n",
    "    dfdndsct <- dfdnds.cancertype %>%\n",
    "        filter(cancertype == ct)\n",
    "    \n",
    "    gvafall <- dfsubc %>%\n",
    "        filter(cancertype == ct) %>%\n",
    "        mutate(clonality = factor(clonality, \n",
    "                                  levels = c(\"Subclonal\", \"Clonal\", \"Amplified\"))) %>%\n",
    "        ggplot(aes(x = MCN, fill = clonality)) +\n",
    "        geom_histogram(bins = 100, position = \"identity\") +\n",
    "        geom_vline(xintercept = 1.0, lty = 2, col = \"firebrick\", alpha = 0.5) +\n",
    "        xlim(c(0, 3.0)) +\n",
    "        theme(legend.position = c(0.5, 0.8), legend.title = element_blank()) +\n",
    "        xlab(\"Mutation copy number\") + ylab(\"Counts\") + \n",
    "        scale_fill_jcolors(palette = \"pal9\") +\n",
    "        ggtitle(ct)\n",
    "\n",
    "    \n",
    "    lim <- round(max(filter(dfdndsct, name == \"wmis\", mutationtype == \"all\")$cihigh)) + 0.5\n",
    "    gdndsdriver <- getdndsplot(dfdndsct, baseline, \"wmis\", \"all\", \"Driver mutations\", \"dN/dS - Missense\", ylims = c(0.8, lim)) +\n",
    "                    scale_color_jcolors(palette = \"pal9\") + theme(legend.position = \"none\") + ggtitle(\"\")\n",
    "    lim <- round(max(filter(dfdndsct, name == \"wnon\", mutationtype == \"all\")$cihigh)) + 0.5\n",
    "    gdndsdrivernon <- getdndsplot(dfdndsct, baseline, \"wnon\", \"all\", \"Driver mutations\", \"dN/dS - Nonsense\", ylims = c(0.8, lim)) +\n",
    "                    scale_color_jcolors(palette = \"pal9\") + theme(legend.position = \"none\") + ggtitle(\"\")\n",
    "\n",
    "\n",
    "    gclonality <- plot_grid(gvafall, gdndsdriver, gdndsdrivernon, ncol = 3)\n",
    "    \n",
    "    plotlist[[i]] <- gclonality\n",
    "    i <- i + 1\n",
    "}\n",
    "\n",
    "save_plot(\"plots/1.TCGA/figureSX-dnds-percancertype-WXS.pdf\", plot_grid(plotlist = plotlist, ncol = 2), \n",
    "          base_height = 20,\n",
    "          base_width = 20)"
   ]
  },
  {
   "cell_type": "markdown",
   "metadata": {},
   "source": [
    "### Number of mutations per gene"
   ]
  },
  {
   "cell_type": "markdown",
   "metadata": {},
   "source": [
    "For some of the analysis it is useful to know how many mutations in particular genes there are per cancer."
   ]
  },
  {
   "cell_type": "code",
   "execution_count": 7,
   "metadata": {},
   "outputs": [
    {
     "name": "stderr",
     "output_type": "stream",
     "text": [
      "[1] Loading the environment...\n",
      "[2] Annotating the mutations...\n",
      "Warning message in dndscv(dftemp, outp = 1, refdb = \"data/dndscv/dndscv_data/data/RefCDS_human_GRCh38.p12.rda\"):\n",
      "“Mutations observed in contiguous sites within a sample. Please annotate or remove dinucleotide or complex substitutions for best results.”Warning message in dndscv(dftemp, outp = 1, refdb = \"data/dndscv/dndscv_data/data/RefCDS_human_GRCh38.p12.rda\"):\n",
      "“Same mutations observed in different sampleIDs. Please verify that these are independent events and remove duplicates otherwise.”    Note: 75 samples excluded for exceeding the limit of mutations per sample\n",
      "    Note: 2395 mutations removed for exceeding the limit of mutations per gene per sample\n",
      "    1% ...\n",
      "    3% ...\n",
      "    4% ...\n",
      "    6% ...\n",
      "    7% ...\n",
      "    9% ...\n",
      "    10% ...\n",
      "    11% ...\n",
      "    13% ...\n",
      "    14% ...\n",
      "    16% ...\n",
      "    17% ...\n",
      "    19% ...\n",
      "    20% ...\n",
      "    21% ...\n",
      "    23% ...\n",
      "    24% ...\n",
      "    26% ...\n",
      "    27% ...\n",
      "    29% ...\n",
      "    30% ...\n",
      "    31% ...\n",
      "    33% ...\n",
      "    34% ...\n",
      "    36% ...\n",
      "    37% ...\n",
      "    39% ...\n",
      "    40% ...\n",
      "    41% ...\n",
      "    43% ...\n",
      "    44% ...\n",
      "    46% ...\n",
      "    47% ...\n",
      "    49% ...\n",
      "    50% ...\n",
      "    51% ...\n",
      "    53% ...\n",
      "    54% ...\n",
      "    56% ...\n",
      "    57% ...\n",
      "    59% ...\n",
      "    60% ...\n",
      "    61% ...\n",
      "    63% ...\n",
      "    64% ...\n",
      "    66% ...\n",
      "    67% ...\n",
      "    69% ...\n",
      "    70% ...\n",
      "    71% ...\n",
      "    73% ...\n",
      "    74% ...\n",
      "    76% ...\n",
      "    77% ...\n",
      "    79% ...\n",
      "    80% ...\n",
      "    81% ...\n",
      "    83% ...\n",
      "    84% ...\n",
      "    86% ...\n",
      "    87% ...\n",
      "    89% ...\n",
      "    90% ...\n",
      "    91% ...\n",
      "    93% ...\n",
      "    94% ...\n",
      "    96% ...\n",
      "    97% ...\n",
      "    99% ...\n",
      "[3] Estimating global rates...\n"
     ]
    }
   ],
   "source": [
    "dftemp <- df %>%\n",
    "    select(sampleid, chr, start, Reference_Allele, Tumor_Seq_Allele2, everything())\n",
    "\n",
    "#we'll use dndscv to annotate the mutations to be consistent\n",
    "x <- dndscv(dftemp, outp = 1, \n",
    "                refdb = \"data/dndscv/dndscv_data/data/RefCDS_human_GRCh38.p12.rda\")\n",
    "\n",
    "dfannot <- x$annotmuts"
   ]
  },
  {
   "cell_type": "code",
   "execution_count": 12,
   "metadata": {},
   "outputs": [],
   "source": [
    "df2 <- df %>%\n",
    "dplyr::rename(pos = start, ref = Reference_Allele, sampleID = sampleid, mut = Tumor_Seq_Allele2)\n",
    "\n",
    "df2 <- left_join(df2, dfannot, by = c(\"sampleID\", \"chr\", \"pos\", \"ref\", \"mut\"))"
   ]
  },
  {
   "cell_type": "code",
   "execution_count": 28,
   "metadata": {},
   "outputs": [],
   "source": [
    "df2 %>%\n",
    "filter(gene %in% drivers$V1, clonality == \"Subclonal\", MCN > 0.2)  %>%\n",
    "group_by(gene, impact) %>%\n",
    "summarise(n = n()) %>%\n",
    "write_csv(., \"FinalFigures/data_for_figures/TCGA_mutation_pergene.csv\")\n",
    "\n",
    "df2 %>%\n",
    "filter(gene %in% drivers$V1, clonality == \"Subclonal\", MCN > 0.2)  %>%\n",
    "group_by(gene, impact, cancertype) %>%\n",
    "summarise(n = n()) %>%\n",
    "write_csv(., \"FinalFigures/data_for_figures/TCGA_mutation_pergene_percancertype.csv\")"
   ]
  },
  {
   "cell_type": "code",
   "execution_count": 26,
   "metadata": {},
   "outputs": [
    {
     "name": "stderr",
     "output_type": "stream",
     "text": [
      "Warning message:\n",
      "“Removed 216 rows containing non-finite values (stat_bin).”Warning message:\n",
      "“Removed 6 rows containing missing values (geom_bar).”"
     ]
    },
    {
     "data": {},
     "metadata": {},
     "output_type": "display_data"
    },
    {
     "data": {
      "image/png": "[encoded data removed]",
      "text/plain": [
       "plot without title"
      ]
     },
     "metadata": {},
     "output_type": "display_data"
    }
   ],
   "source": [
    "df2 %>%\n",
    "filter(gene == \"TP53\", MCN > 0.2) %>%\n",
    "ggplot(aes(x = MCN, fill = clonality)) +\n",
    "geom_histogram(bins = 100) +\n",
    "xlim(c(0, 2))"
   ]
  }
 ],
 "metadata": {
  "kernelspec": {
   "display_name": "R",
   "language": "R",
   "name": "ir"
  },
  "language_info": {
   "codemirror_mode": "r",
   "file_extension": ".r",
   "mimetype": "text/x-r-source",
   "name": "R",
   "pygments_lexer": "r",
   "version": "3.5.1"
  }
 },
 "nbformat": 4,
 "nbformat_minor": 1
}
